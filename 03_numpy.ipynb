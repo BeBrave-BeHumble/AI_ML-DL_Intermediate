{
  "nbformat": 4,
  "nbformat_minor": 0,
  "metadata": {
    "colab": {
      "name": "03-numpy.ipynb",
      "provenance": [],
      "collapsed_sections": [],
      "toc_visible": true,
      "include_colab_link": true
    },
    "kernelspec": {
      "name": "python3",
      "display_name": "Python 3"
    },
    "language_info": {
      "name": "python"
    }
  },
  "cells": [
    {
      "cell_type": "markdown",
      "metadata": {
        "id": "view-in-github",
        "colab_type": "text"
      },
      "source": [
        "<a href=\"https://colab.research.google.com/github/FulISun/AI_ML-DL_Intermediate/blob/main/03_numpy.ipynb\" target=\"_parent\"><img src=\"https://colab.research.google.com/assets/colab-badge.svg\" alt=\"Open In Colab\"/></a>"
      ]
    },
    {
      "cell_type": "code",
      "source": [
        "import numpy as np\n",
        "import matplotlib.pyplot as plt\n",
        "import pandas as pd\n",
        "\n",
        "# numpy 출력 형식 지정\n",
        "np.set_printoptions(precision=3, linewidth=150) # 생략 가능"
      ],
      "metadata": {
        "id": "ZSc0HPa34WBh"
      },
      "execution_count": 2,
      "outputs": []
    },
    {
      "cell_type": "markdown",
      "metadata": {
        "id": "c9GhfzAs2yMm"
      },
      "source": [
        "## Numpy"
      ]
    },
    {
      "cell_type": "markdown",
      "metadata": {
        "id": "ESPAHZWo27zB"
      },
      "source": [
        "### ndarray 기본생성"
      ]
    },
    {
      "cell_type": "code",
      "source": [
        "# 기본생성\n",
        "a = np.array( [ [[1,2],\n",
        "                [3,4]],\n",
        "           \n",
        "               [[5,6],\n",
        "                [7,8]] ] )\n",
        "print(a, ',',a.shape)"
      ],
      "metadata": {
        "colab": {
          "base_uri": "https://localhost:8080/"
        },
        "id": "PzSuH7jTwrVV",
        "outputId": "3a3f9a81-2d0d-4b68-cf48-8ebb27eaf8fe"
      },
      "execution_count": 6,
      "outputs": [
        {
          "output_type": "stream",
          "name": "stdout",
          "text": [
            "[[[1 2]\n",
            "  [3 4]]\n",
            "\n",
            " [[5 6]\n",
            "  [7 8]]] , (2, 2, 2)\n"
          ]
        }
      ]
    },
    {
      "cell_type": "code",
      "source": [
        "# 랜덤으로 생성\n",
        "np.random.seed(66) \n",
        "B = np.random.rand(10)\n",
        "print(B)\n",
        "print()\n",
        "\n",
        "C = np.random.randint(1, 11, 10) # end-1이므로 1~10까지 10개 int 생성\n",
        "print(C, ',', C.shape)\n"
      ],
      "metadata": {
        "colab": {
          "base_uri": "https://localhost:8080/"
        },
        "id": "Smjwe8OtxSL0",
        "outputId": "cecbfcf7-9676-44af-b63d-9ff6562598cb"
      },
      "execution_count": 8,
      "outputs": [
        {
          "output_type": "stream",
          "name": "stdout",
          "text": [
            "[0.154 0.134 0.363 0.679 0.194 0.251 0.758 0.558 0.515 0.468]\n",
            "\n",
            "[ 1  3  3  3  7  1  9  9 10 10] , (10,)\n"
          ]
        }
      ]
    },
    {
      "cell_type": "code",
      "source": [
        "# ones\n",
        "print(np.ones((3,5,4)).ndim) # 3차원\n",
        "np.ones((3,5,4))"
      ],
      "metadata": {
        "colab": {
          "base_uri": "https://localhost:8080/"
        },
        "id": "jHIW6FjjxoxE",
        "outputId": "fde4f3de-fa1a-44d1-9f28-77ee150250ba"
      },
      "execution_count": 49,
      "outputs": [
        {
          "output_type": "stream",
          "name": "stdout",
          "text": [
            "3\n"
          ]
        },
        {
          "output_type": "execute_result",
          "data": {
            "text/plain": [
              "array([[[1., 1., 1., 1.],\n",
              "        [1., 1., 1., 1.],\n",
              "        [1., 1., 1., 1.],\n",
              "        [1., 1., 1., 1.],\n",
              "        [1., 1., 1., 1.]],\n",
              "\n",
              "       [[1., 1., 1., 1.],\n",
              "        [1., 1., 1., 1.],\n",
              "        [1., 1., 1., 1.],\n",
              "        [1., 1., 1., 1.],\n",
              "        [1., 1., 1., 1.]],\n",
              "\n",
              "       [[1., 1., 1., 1.],\n",
              "        [1., 1., 1., 1.],\n",
              "        [1., 1., 1., 1.],\n",
              "        [1., 1., 1., 1.],\n",
              "        [1., 1., 1., 1.]]])"
            ]
          },
          "metadata": {},
          "execution_count": 49
        }
      ]
    },
    {
      "cell_type": "code",
      "source": [
        "# identity: n 단위 행렬 생성\n",
        "np.identity(3)"
      ],
      "metadata": {
        "colab": {
          "base_uri": "https://localhost:8080/"
        },
        "id": "FrKdD0-iydw2",
        "outputId": "52b230e4-0f35-4e35-9de7-42db119b1fa6"
      },
      "execution_count": 12,
      "outputs": [
        {
          "output_type": "execute_result",
          "data": {
            "text/plain": [
              "array([[1., 0., 0.],\n",
              "       [0., 1., 0.],\n",
              "       [0., 0., 1.]])"
            ]
          },
          "metadata": {},
          "execution_count": 12
        }
      ]
    },
    {
      "cell_type": "code",
      "source": [
        "# eye: 대각선이 1인 대각 행렬 생성\n",
        "print( np.eye(5) )\n",
        "print()\n",
        "np.eye(3, 5, k=2) # k: start index"
      ],
      "metadata": {
        "colab": {
          "base_uri": "https://localhost:8080/"
        },
        "id": "aoAuKqaQVaNJ",
        "outputId": "be3c02a3-bc02-4817-cefa-40e79aa3ff21"
      },
      "execution_count": 16,
      "outputs": [
        {
          "output_type": "stream",
          "name": "stdout",
          "text": [
            "[[1. 0. 0. 0. 0.]\n",
            " [0. 1. 0. 0. 0.]\n",
            " [0. 0. 1. 0. 0.]\n",
            " [0. 0. 0. 1. 0.]\n",
            " [0. 0. 0. 0. 1.]]\n",
            "\n"
          ]
        },
        {
          "output_type": "execute_result",
          "data": {
            "text/plain": [
              "array([[0., 0., 1., 0., 0.],\n",
              "       [0., 0., 0., 1., 0.],\n",
              "       [0., 0., 0., 0., 1.]])"
            ]
          },
          "metadata": {},
          "execution_count": 16
        }
      ]
    },
    {
      "cell_type": "code",
      "source": [
        "# list -> array\n",
        "a = [i+1 for i in range(10)]\n",
        "print(a, \",\", type(a))\n",
        "b = np.array( [i+1 for i in range(10)] )\n",
        "print(b, \",\", type(b))"
      ],
      "metadata": {
        "colab": {
          "base_uri": "https://localhost:8080/"
        },
        "id": "qb3vsY_5zEK8",
        "outputId": "e939631a-f0bd-4416-e6ef-ffbb7e68b93b"
      },
      "execution_count": 20,
      "outputs": [
        {
          "output_type": "stream",
          "name": "stdout",
          "text": [
            "[1, 2, 3, 4, 5, 6, 7, 8, 9, 10] , <class 'list'>\n",
            "[ 1  2  3  4  5  6  7  8  9 10] , <class 'numpy.ndarray'>\n"
          ]
        }
      ]
    },
    {
      "cell_type": "markdown",
      "metadata": {
        "id": "9mW7fYyS2_7j"
      },
      "source": [
        "### ndarray 연산"
      ]
    },
    {
      "cell_type": "code",
      "source": [
        "A = np.array( [[1,3,4], [5,3,4], [4,5,2]] )\n",
        "B = np.array( [[5,7,3], [2,1,1], [5,6,3]] )\n",
        "print(A, ',', A.shape)\n",
        "print(B, ',', B.shape)"
      ],
      "metadata": {
        "colab": {
          "base_uri": "https://localhost:8080/"
        },
        "id": "Sm0TeJms3x5H",
        "outputId": "7903f156-744f-44cc-d141-142c738cfc05"
      },
      "execution_count": 21,
      "outputs": [
        {
          "output_type": "stream",
          "name": "stdout",
          "text": [
            "[[1 3 4]\n",
            " [5 3 4]\n",
            " [4 5 2]] , (3, 3)\n",
            "[[5 7 3]\n",
            " [2 1 1]\n",
            " [5 6 3]] , (3, 3)\n"
          ]
        }
      ]
    },
    {
      "cell_type": "code",
      "metadata": {
        "colab": {
          "base_uri": "https://localhost:8080/"
        },
        "id": "OzPE3FMd51LA",
        "outputId": "590c6d5e-eb0d-4b52-f94d-43fd7babae04"
      },
      "source": [
        "# 덧셈\n",
        "A+B"
      ],
      "execution_count": 22,
      "outputs": [
        {
          "output_type": "execute_result",
          "data": {
            "text/plain": [
              "array([[ 6, 10,  7],\n",
              "       [ 7,  4,  5],\n",
              "       [ 9, 11,  5]])"
            ]
          },
          "metadata": {},
          "execution_count": 22
        }
      ]
    },
    {
      "cell_type": "code",
      "metadata": {
        "colab": {
          "base_uri": "https://localhost:8080/"
        },
        "id": "q4OYMi-051EG",
        "outputId": "f7e64ca3-bd9b-41c7-b63a-c1b1cda333c7"
      },
      "source": [
        "# 뺄셈\n",
        "A-B"
      ],
      "execution_count": 23,
      "outputs": [
        {
          "output_type": "execute_result",
          "data": {
            "text/plain": [
              "array([[-4, -4,  1],\n",
              "       [ 3,  2,  3],\n",
              "       [-1, -1, -1]])"
            ]
          },
          "metadata": {},
          "execution_count": 23
        }
      ]
    },
    {
      "cell_type": "code",
      "metadata": {
        "colab": {
          "base_uri": "https://localhost:8080/"
        },
        "id": "XBYDEC5Y53Pb",
        "outputId": "b39028d5-fe08-4f77-9d97-08b2fd58d27d"
      },
      "source": [
        "# 나눗셈\n",
        "A/B"
      ],
      "execution_count": 24,
      "outputs": [
        {
          "output_type": "execute_result",
          "data": {
            "text/plain": [
              "array([[0.2  , 0.429, 1.333],\n",
              "       [2.5  , 3.   , 4.   ],\n",
              "       [0.8  , 0.833, 0.667]])"
            ]
          },
          "metadata": {},
          "execution_count": 24
        }
      ]
    },
    {
      "cell_type": "code",
      "metadata": {
        "colab": {
          "base_uri": "https://localhost:8080/"
        },
        "id": "8q_mmxLw5Oxx",
        "outputId": "1144829e-3345-4941-adda-2b955490376a"
      },
      "source": [
        "# 곱셈\n",
        "A*B # : 곱은 행렬곱이 아닌 각각 원소를 곱함"
      ],
      "execution_count": 27,
      "outputs": [
        {
          "output_type": "execute_result",
          "data": {
            "text/plain": [
              "array([[ 5, 21, 12],\n",
              "       [10,  3,  4],\n",
              "       [20, 30,  6]])"
            ]
          },
          "metadata": {},
          "execution_count": 27
        }
      ]
    },
    {
      "cell_type": "code",
      "metadata": {
        "colab": {
          "base_uri": "https://localhost:8080/"
        },
        "id": "4YSc1UcB5TEf",
        "outputId": "4554fc48-d1e0-46d9-eb80-64944e84413c"
      },
      "source": [
        "# 행렬곱\n",
        "print(np.dot(A,B)) # 행렬 곱셈\n",
        "print()\n",
        "\n",
        "# 길이가 똑같은 vector를 곱하면 스칼라가 됨 -> 내적(inner product)\n",
        "v = np.array([1, 2, 7])\n",
        "z = np.array([5, 0, 6]).reshape(-1)\n",
        "np.dot(v,z)"
      ],
      "execution_count": 45,
      "outputs": [
        {
          "output_type": "stream",
          "name": "stdout",
          "text": [
            "[[31 34 18]\n",
            " [51 62 30]\n",
            " [40 45 23]]\n",
            "\n"
          ]
        },
        {
          "output_type": "execute_result",
          "data": {
            "text/plain": [
              "47"
            ]
          },
          "metadata": {},
          "execution_count": 45
        }
      ]
    },
    {
      "cell_type": "markdown",
      "metadata": {
        "id": "A8d-s4lpUShl"
      },
      "source": [
        "### reshape"
      ]
    },
    {
      "cell_type": "code",
      "metadata": {
        "colab": {
          "base_uri": "https://localhost:8080/"
        },
        "id": "4AOYjp_2UVcQ",
        "outputId": "320ad1ca-48e7-4c4a-b7f1-5f81aeb8f319"
      },
      "source": [
        "# 어레이 모양 찍어보기\n",
        "x = np.array([1,2,3])\n",
        "\n",
        "print(x) # 1차원 벡터\n",
        "print(x.ndim) # 1차원\n",
        "print(x.shape) # (3,)"
      ],
      "execution_count": 51,
      "outputs": [
        {
          "output_type": "stream",
          "name": "stdout",
          "text": [
            "[1 2 3]\n",
            "1\n",
            "(3,)\n"
          ]
        }
      ]
    },
    {
      "cell_type": "code",
      "metadata": {
        "colab": {
          "base_uri": "https://localhost:8080/"
        },
        "id": "S0wtJpa9UfXo",
        "outputId": "9b245ed4-9870-43c9-92fc-a5425f871a16"
      },
      "source": [
        "# 행벡터로 만들기\n",
        "x_row_vector1 = x.reshape(1,3) #1행 3열짜리 2차원 행렬로 위와는 다름\n",
        "print(x_row_vector1) # [[1 2 3]]\n",
        "print(x_row_vector1.ndim) # 2차원\n",
        "print(x_row_vector1.shape) # (1, 3)\n",
        "\n",
        "x_row_vector2 = x[np.newaxis, :] #새로운 축 추가. :는 기존 축 모두를 의미\n",
        "print(x_row_vector2) # 2D tensor\n",
        "print(x_row_vector2.ndim)\n",
        "print(x_row_vector2.shape)"
      ],
      "execution_count": 52,
      "outputs": [
        {
          "output_type": "stream",
          "name": "stdout",
          "text": [
            "[[1 2 3]]\n",
            "2\n",
            "(1, 3)\n",
            "[[1 2 3]]\n",
            "2\n",
            "(1, 3)\n"
          ]
        }
      ]
    },
    {
      "cell_type": "code",
      "metadata": {
        "colab": {
          "base_uri": "https://localhost:8080/"
        },
        "id": "f9cU39Y2YQBi",
        "outputId": "bb9c41be-ac10-4c59-f894-8077ea498399"
      },
      "source": [
        "# 열벡터로 만들기\n",
        "x_col_vector1 = x.reshape(3,1)\n",
        "print(x_col_vector1)\n",
        "print(x_col_vector1.ndim)\n",
        "print(x_col_vector1.shape)\n",
        "print()\n",
        "\n",
        "x_col_vector2 = x[:, np.newaxis] #3행 1열.. 세로 방향성을 가지는 2D tensor\n",
        "print(x_col_vector2)\n",
        "print(x_col_vector2.ndim)\n",
        "print(x_col_vector2.shape)\n",
        "print(type(x_col_vector2))\n",
        "print()\n",
        "\n",
        "print(x.reshape(-1,1))\n",
        "print(x.reshape(-1,1).shape)"
      ],
      "execution_count": 56,
      "outputs": [
        {
          "output_type": "stream",
          "name": "stdout",
          "text": [
            "[[1]\n",
            " [2]\n",
            " [3]]\n",
            "2\n",
            "(3, 1)\n",
            "\n",
            "[[1]\n",
            " [2]\n",
            " [3]]\n",
            "2\n",
            "(3, 1)\n",
            "<class 'numpy.ndarray'>\n",
            "\n",
            "[[1]\n",
            " [2]\n",
            " [3]]\n",
            "(3, 1)\n"
          ]
        }
      ]
    },
    {
      "cell_type": "code",
      "metadata": {
        "colab": {
          "base_uri": "https://localhost:8080/"
        },
        "id": "sEYJo3_9Ytys",
        "outputId": "07150736-e68f-48bb-9370-873360537bd0"
      },
      "source": [
        "# 2차원 이상 어레이에 대한 reshape\n",
        "A = np.array([[0,1,2],[3,4,5],[6,7,8],[9,10,11]])\n",
        "print(A)\n",
        "print(A.shape)"
      ],
      "execution_count": 60,
      "outputs": [
        {
          "output_type": "stream",
          "name": "stdout",
          "text": [
            "[[ 0  1  2]\n",
            " [ 3  4  5]\n",
            " [ 6  7  8]\n",
            " [ 9 10 11]]\n",
            "(4, 3)\n"
          ]
        }
      ]
    },
    {
      "cell_type": "code",
      "metadata": {
        "id": "VVK3cW47Y6l7",
        "colab": {
          "base_uri": "https://localhost:8080/"
        },
        "outputId": "4f0f8a84-51de-4bc2-8ba8-c12251aa5e8e"
      },
      "source": [
        "# (2,2,3)으로 reshape\n",
        "A_ = A.reshape(2,2,3)\n",
        "print(A_)"
      ],
      "execution_count": 59,
      "outputs": [
        {
          "output_type": "stream",
          "name": "stdout",
          "text": [
            "[[[ 0  1  2]\n",
            "  [ 3  4  5]]\n",
            "\n",
            " [[ 6  7  8]\n",
            "  [ 9 10 11]]]\n"
          ]
        }
      ]
    },
    {
      "cell_type": "code",
      "metadata": {
        "colab": {
          "base_uri": "https://localhost:8080/"
        },
        "id": "Psgt4cLvZkAJ",
        "outputId": "5978f83c-43d9-4011-83c1-95776154c096"
      },
      "source": [
        "# (4,3)으로 복원\n",
        "A_.reshape(-1,3) #열을 3으로 고정 시켰으니 행은 자동으로 4로 배치해줌.\n",
        "# 직접 전부 다 적어도 되는데 한 차원만 남기고 남은 차원을 적어주고 남은 차원에 -1 적어주면 파이썬이 알아서 계산해줌"
      ],
      "execution_count": null,
      "outputs": [
        {
          "output_type": "execute_result",
          "data": {
            "text/plain": [
              "array([[ 0,  1,  2],\n",
              "       [ 3,  4,  5],\n",
              "       [ 6,  7,  8],\n",
              "       [ 9, 10, 11]])"
            ]
          },
          "metadata": {},
          "execution_count": 19
        }
      ]
    },
    {
      "cell_type": "markdown",
      "source": [
        "### 자주쓰는 기능 arange, linspace"
      ],
      "metadata": {
        "id": "jGdRxOGLQrl0"
      }
    },
    {
      "cell_type": "code",
      "source": [
        "# arange\n",
        "np.arange(1, 20, 2) # range랑 같은 개념. 1부터 19까지 sep=2"
      ],
      "metadata": {
        "colab": {
          "base_uri": "https://localhost:8080/"
        },
        "id": "tEyiocSQ-7tf",
        "outputId": "48537ae6-dd34-4254-a5a9-4086d535d0a7"
      },
      "execution_count": 62,
      "outputs": [
        {
          "output_type": "execute_result",
          "data": {
            "text/plain": [
              "array([ 1,  3,  5,  7,  9, 11, 13, 15, 17, 19])"
            ]
          },
          "metadata": {},
          "execution_count": 62
        }
      ]
    },
    {
      "cell_type": "code",
      "source": [
        "# linspace\n",
        "np.linspace(1, 20, 5) # 0부터 20까지 등간격으로 5개"
      ],
      "metadata": {
        "colab": {
          "base_uri": "https://localhost:8080/"
        },
        "id": "oYWl1E4U_AiH",
        "outputId": "1877fbd8-c9f8-4a63-bddc-944943567100"
      },
      "execution_count": 66,
      "outputs": [
        {
          "output_type": "execute_result",
          "data": {
            "text/plain": [
              "array([ 1.  ,  5.75, 10.5 , 15.25, 20.  ])"
            ]
          },
          "metadata": {},
          "execution_count": 66
        }
      ]
    },
    {
      "cell_type": "markdown",
      "metadata": {
        "id": "WJKAbvx23ERB"
      },
      "source": [
        "### 인덱싱"
      ]
    },
    {
      "cell_type": "code",
      "metadata": {
        "colab": {
          "base_uri": "https://localhost:8080/"
        },
        "id": "jJgHjuYI5anL",
        "outputId": "5d46a27e-1805-41a6-bf14-411cb56eb566"
      },
      "source": [
        "# 기본 인덱싱과 슬라이싱\n",
        "A = np.array([1,2,3,4,5,6,7,8,9,10]) \n",
        "\n",
        "print(A[1])\n",
        "\n",
        "print(A[0:3])"
      ],
      "execution_count": 67,
      "outputs": [
        {
          "output_type": "stream",
          "name": "stdout",
          "text": [
            "2\n",
            "[1 2 3]\n"
          ]
        }
      ]
    },
    {
      "cell_type": "code",
      "metadata": {
        "colab": {
          "base_uri": "https://localhost:8080/"
        },
        "id": "Jx1ly5Fx5gT3",
        "outputId": "e19bceee-30c1-4944-ca9f-6044554cb013"
      },
      "source": [
        "# 스트라이드\n",
        "A[0::3]"
      ],
      "execution_count": 68,
      "outputs": [
        {
          "output_type": "execute_result",
          "data": {
            "text/plain": [
              "array([ 1,  4,  7, 10])"
            ]
          },
          "metadata": {},
          "execution_count": 68
        }
      ]
    },
    {
      "cell_type": "code",
      "metadata": {
        "colab": {
          "base_uri": "https://localhost:8080/"
        },
        "id": "MLPT1HdE5gQe",
        "outputId": "d7f129e7-301c-45af-c4c5-f1b1d69a4200"
      },
      "source": [
        "# 음수 스트라이드\n",
        "A[::-1]"
      ],
      "execution_count": 72,
      "outputs": [
        {
          "output_type": "execute_result",
          "data": {
            "text/plain": [
              "array([10,  9,  8,  7,  6,  5,  4,  3,  2,  1])"
            ]
          },
          "metadata": {},
          "execution_count": 72
        }
      ]
    },
    {
      "cell_type": "code",
      "metadata": {
        "colab": {
          "base_uri": "https://localhost:8080/"
        },
        "id": "J-qdh8hQS9fA",
        "outputId": "c0babfe3-9001-4c3b-83b8-628128c617ac"
      },
      "source": [
        "# 2차원 인덱싱\n",
        "A = np.arange(30).reshape(5,6)\n",
        "print(A)"
      ],
      "execution_count": 73,
      "outputs": [
        {
          "output_type": "stream",
          "name": "stdout",
          "text": [
            "[[ 0  1  2  3  4  5]\n",
            " [ 6  7  8  9 10 11]\n",
            " [12 13 14 15 16 17]\n",
            " [18 19 20 21 22 23]\n",
            " [24 25 26 27 28 29]]\n"
          ]
        }
      ]
    },
    {
      "cell_type": "code",
      "source": [
        "#첫 열을 1차원 행벡터로 추출\n",
        "A[:,0] # (5,)"
      ],
      "metadata": {
        "colab": {
          "base_uri": "https://localhost:8080/"
        },
        "id": "bPO5MEWBAb7c",
        "outputId": "4294dbeb-f1a4-4150-c738-e7cedb16a980"
      },
      "execution_count": 81,
      "outputs": [
        {
          "output_type": "execute_result",
          "data": {
            "text/plain": [
              "array([ 0,  6, 12, 18, 24])"
            ]
          },
          "metadata": {},
          "execution_count": 81
        }
      ]
    },
    {
      "cell_type": "code",
      "source": [
        "# 첫 열을 2차원 행렬로 추출 => (5,1)\n",
        "print(A[:,:1]) #첫 번째 열을 세로로 배열하기 위해 slicing \n",
        "print('\\n')\n",
        "print(A[:, [0]]) # 위랑 같은 코드. 인덱싱 0을 꺾쇠로 감싸서 어레이로\n",
        "print('\\n') \n",
        "print(A[:,[0,1]])"
      ],
      "metadata": {
        "colab": {
          "base_uri": "https://localhost:8080/"
        },
        "id": "N-P1l72TAaFN",
        "outputId": "f453459d-fe25-444b-9fb4-6bdb876f7e81"
      },
      "execution_count": 89,
      "outputs": [
        {
          "output_type": "stream",
          "name": "stdout",
          "text": [
            "[[ 0]\n",
            " [ 6]\n",
            " [12]\n",
            " [18]\n",
            " [24]]\n",
            "\n",
            "\n",
            "[[ 0]\n",
            " [ 6]\n",
            " [12]\n",
            " [18]\n",
            " [24]]\n",
            "\n",
            "\n",
            "[[ 0  1]\n",
            " [ 6  7]\n",
            " [12 13]\n",
            " [18 19]\n",
            " [24 25]]\n"
          ]
        }
      ]
    },
    {
      "cell_type": "code",
      "source": [
        "A = np.arange(30).reshape(5,6)\n",
        "print(A)\n",
        "A[:, 0::2] # end까지 2개씩 건너 뛰어서"
      ],
      "metadata": {
        "colab": {
          "base_uri": "https://localhost:8080/"
        },
        "id": "nisT2ikdD3-l",
        "outputId": "893d0ef2-0b7c-431c-e1ef-af4ec3ccb167"
      },
      "execution_count": 91,
      "outputs": [
        {
          "output_type": "stream",
          "name": "stdout",
          "text": [
            "[[ 0  1  2  3  4  5]\n",
            " [ 6  7  8  9 10 11]\n",
            " [12 13 14 15 16 17]\n",
            " [18 19 20 21 22 23]\n",
            " [24 25 26 27 28 29]]\n"
          ]
        },
        {
          "output_type": "execute_result",
          "data": {
            "text/plain": [
              "array([[ 0,  2,  4],\n",
              "       [ 6,  8, 10],\n",
              "       [12, 14, 16],\n",
              "       [18, 20, 22],\n",
              "       [24, 26, 28]])"
            ]
          },
          "metadata": {},
          "execution_count": 91
        }
      ]
    },
    {
      "cell_type": "markdown",
      "metadata": {
        "id": "JhiEuJIU3IVY"
      },
      "source": [
        "### 어레이 인덱싱"
      ]
    },
    {
      "cell_type": "code",
      "metadata": {
        "colab": {
          "base_uri": "https://localhost:8080/"
        },
        "id": "oYlTBymF6AlP",
        "outputId": "f54ee52c-4516-4bc5-c0ab-f6de19aee16d"
      },
      "source": [
        "A = np.arange(30).reshape(5,6)\n",
        "A"
      ],
      "execution_count": 90,
      "outputs": [
        {
          "output_type": "execute_result",
          "data": {
            "text/plain": [
              "array([[ 0,  1,  2,  3,  4,  5],\n",
              "       [ 6,  7,  8,  9, 10, 11],\n",
              "       [12, 13, 14, 15, 16, 17],\n",
              "       [18, 19, 20, 21, 22, 23],\n",
              "       [24, 25, 26, 27, 28, 29]])"
            ]
          },
          "metadata": {},
          "execution_count": 90
        }
      ]
    },
    {
      "cell_type": "code",
      "metadata": {
        "colab": {
          "base_uri": "https://localhost:8080/"
        },
        "id": "Wq-8KLim6IMA",
        "outputId": "ffc7c5e2-1218-4d8a-bbb7-9a72d7723410"
      },
      "source": [
        "# 각 행의 1,2,3,1,0번째 열 요소 추출\n",
        "A_ = A[ [0,1,2,3,4],[1,2,3,1,0] ] # 1행에 2열, 2행에 3열 ... \n",
        "print(A_)\n",
        "print('\\n')\n",
        "print(A[:,[1,2,3,1,0]]) # 1행에서 1,2,3,1,0열, 2행에서 1,2,3,1,0열, 3행에서 1,2,3,1,0열 ...\n",
        "# 두 결과가 다른 이유: 정방행렬이 아니어서\n",
        "A[ np.arange(5), [1,2,3,1,0] ]"
      ],
      "execution_count": 93,
      "outputs": [
        {
          "output_type": "stream",
          "name": "stdout",
          "text": [
            "[ 1  8 15 19 24]\n",
            "[[ 1  2  3  1  0]\n",
            " [ 7  8  9  7  6]\n",
            " [13 14 15 13 12]\n",
            " [19 20 21 19 18]\n",
            " [25 26 27 25 24]]\n"
          ]
        },
        {
          "output_type": "execute_result",
          "data": {
            "text/plain": [
              "array([ 1,  8, 15, 19, 24])"
            ]
          },
          "metadata": {},
          "execution_count": 93
        }
      ]
    },
    {
      "cell_type": "markdown",
      "source": [
        "### 자주쓰는 기능 random.rand, randn, randint, choice"
      ],
      "metadata": {
        "id": "pVlxKYJeQRSw"
      }
    },
    {
      "cell_type": "code",
      "source": [
        "fig, ax = plt.subplots(figsize=(10,3), nrows=1, ncols=2, dpi=100)\n",
        "\n",
        "# rand로 샘플링: Uniform dist\n",
        "np.random.seed(66)\n",
        "\n",
        "x = np.random.rand(10000) # uniform dist\n",
        "ax[0].hist(x, bins=20, color='C7', edgecolor='k') # Histogram\n",
        "ax[0].set_title('rand()')\n",
        "\n",
        "# randn으로 샘플링\n",
        "x = np.random.randn(10000) # standard normal dist\n",
        "ax[1].hist(x, bins=20, color='C7', edgecolor='k') \n",
        "ax[1].set_title('randn()')\n",
        "\n",
        "plt.show()"
      ],
      "metadata": {
        "colab": {
          "base_uri": "https://localhost:8080/",
          "height": 309
        },
        "id": "Fl8eER_SfWl2",
        "outputId": "617fd381-82c2-419d-f784-931b9dbd204f"
      },
      "execution_count": 96,
      "outputs": [
        {
          "output_type": "display_data",
          "data": {
            "text/plain": [
              "<Figure size 1000x300 with 2 Axes>"
            ],
            "image/png": "[encoded data removed]"
          },
          "metadata": {
            "needs_background": "light"
          }
        }
      ]
    },
    {
      "cell_type": "code",
      "source": [
        "# randint: 정수 샘플링\n",
        "np.random.randint(0, 10, 5) # 0~9 범위에서 5개"
      ],
      "metadata": {
        "colab": {
          "base_uri": "https://localhost:8080/"
        },
        "id": "wOXqTz3HapEo",
        "outputId": "f53c1d5d-7e7c-40bf-9cb5-e0df0e097ac9"
      },
      "execution_count": 99,
      "outputs": [
        {
          "output_type": "execute_result",
          "data": {
            "text/plain": [
              "array([2, 0, 1, 8, 1])"
            ]
          },
          "metadata": {},
          "execution_count": 99
        }
      ]
    },
    {
      "cell_type": "code",
      "source": [
        "# choice: array에서 무작위 추출\n",
        "np.random.choice(np.random.randint(0, 10, 5), 3) #np.random.randint(0,10,5)라는 어레이를 만들고 3개 무작위 추출"
      ],
      "metadata": {
        "colab": {
          "base_uri": "https://localhost:8080/"
        },
        "id": "7WK8J9tqavXx",
        "outputId": "02cfb9d5-d131-4d46-d3b4-1917b797048a"
      },
      "execution_count": 100,
      "outputs": [
        {
          "output_type": "execute_result",
          "data": {
            "text/plain": [
              "array([4, 6, 6])"
            ]
          },
          "metadata": {},
          "execution_count": 100
        }
      ]
    },
    {
      "cell_type": "markdown",
      "metadata": {
        "id": "WohS2ovwpYTb"
      },
      "source": [
        "### 어레이 인덱싱 응용: 임의점 선택"
      ]
    },
    {
      "cell_type": "code",
      "source": [
        "np.random.randn(100, 2) # shape: (100, 2)"
      ],
      "metadata": {
        "id": "cOOSqMZjFtsg",
        "colab": {
          "base_uri": "https://localhost:8080/"
        },
        "outputId": "ddd122c2-0a76-4452-f190-a4dc709766fd"
      },
      "execution_count": 104,
      "outputs": [
        {
          "output_type": "execute_result",
          "data": {
            "text/plain": [
              "array([[-1.102,  0.618],\n",
              "       [-0.47 , -1.12 ],\n",
              "       [-0.175,  0.111],\n",
              "       [ 1.224, -1.2  ],\n",
              "       [ 1.757, -0.012],\n",
              "       [-0.951,  1.986],\n",
              "       [ 0.064, -0.265],\n",
              "       [-0.108,  0.234],\n",
              "       [-0.85 , -0.684],\n",
              "       [-1.102,  1.524],\n",
              "       [ 0.815,  0.142],\n",
              "       [-0.366,  0.349],\n",
              "       [-0.103, -0.035],\n",
              "       [ 0.78 , -0.035],\n",
              "       [ 0.478,  0.629],\n",
              "       [-0.472,  0.234],\n",
              "       [-0.648, -0.826],\n",
              "       [ 2.318,  1.155],\n",
              "       [-0.08 , -0.576],\n",
              "       [-0.657, -0.01 ],\n",
              "       [ 1.868,  0.685],\n",
              "       [-0.561,  0.942],\n",
              "       [-1.012, -0.186],\n",
              "       [-0.362,  0.858],\n",
              "       [-1.043,  0.934],\n",
              "       [ 0.537, -1.254],\n",
              "       [ 0.169, -0.07 ],\n",
              "       [ 0.208,  0.418],\n",
              "       [ 0.933, -0.363],\n",
              "       [-0.292,  1.487],\n",
              "       [ 2.295, -0.067],\n",
              "       [ 0.177,  0.232],\n",
              "       [ 1.723,  0.21 ],\n",
              "       [ 1.088,  1.464],\n",
              "       [-1.685,  0.946],\n",
              "       [-0.203,  0.985],\n",
              "       [ 2.049, -0.598],\n",
              "       [-1.548,  0.302],\n",
              "       [ 0.25 ,  0.566],\n",
              "       [ 1.637,  1.137],\n",
              "       [ 0.477, -1.319],\n",
              "       [ 1.681,  1.334],\n",
              "       [-0.487,  1.203],\n",
              "       [-0.958,  2.193],\n",
              "       [-0.178,  0.728],\n",
              "       [ 0.431,  1.262],\n",
              "       [-0.089,  0.692],\n",
              "       [-1.104, -0.925],\n",
              "       [ 0.155, -0.582],\n",
              "       [-0.367, -0.587],\n",
              "       [-0.579,  0.144],\n",
              "       [-0.241,  0.014],\n",
              "       [ 1.645, -0.485],\n",
              "       [-0.194, -1.494],\n",
              "       [ 2.992,  0.128],\n",
              "       [ 1.02 , -0.656],\n",
              "       [-0.573, -0.523],\n",
              "       [ 0.028, -1.551],\n",
              "       [-0.625, -0.107],\n",
              "       [ 0.479,  1.363],\n",
              "       [-1.164,  2.552],\n",
              "       [-0.617,  1.269],\n",
              "       [ 1.621,  0.017],\n",
              "       [ 0.866, -0.119],\n",
              "       [ 0.37 ,  0.048],\n",
              "       [ 0.148, -0.453],\n",
              "       [-0.925, -0.313],\n",
              "       [-0.261, -1.55 ],\n",
              "       [ 1.769,  0.805],\n",
              "       [-0.667,  0.003],\n",
              "       [-0.927,  1.826],\n",
              "       [-0.11 , -0.232],\n",
              "       [-1.894, -0.261],\n",
              "       [-0.413,  1.011],\n",
              "       [-0.239,  1.024],\n",
              "       [-0.039, -0.099],\n",
              "       [-0.577, -1.172],\n",
              "       [-0.112,  0.516],\n",
              "       [-0.528,  1.059],\n",
              "       [-0.957, -0.302],\n",
              "       [ 1.573, -0.427],\n",
              "       [ 0.157,  0.955],\n",
              "       [-0.035,  0.733],\n",
              "       [ 1.623, -2.255],\n",
              "       [ 2.042,  1.294],\n",
              "       [-0.139, -1.829],\n",
              "       [ 0.815, -0.488],\n",
              "       [ 0.371,  0.123],\n",
              "       [-0.421, -0.722],\n",
              "       [ 1.084,  1.664],\n",
              "       [-1.115, -0.779],\n",
              "       [-0.076, -1.002],\n",
              "       [ 1.036,  0.441],\n",
              "       [ 1.293,  0.711],\n",
              "       [ 0.605,  0.335],\n",
              "       [ 0.198,  0.409],\n",
              "       [-1.221, -0.167],\n",
              "       [-1.347,  0.311],\n",
              "       [-0.645,  0.259],\n",
              "       [-0.093,  0.647]])"
            ]
          },
          "metadata": {},
          "execution_count": 104
        }
      ]
    },
    {
      "cell_type": "code",
      "source": [
        "np.random.seed(66)\n",
        "\n",
        "X = np.random.randn(100, 2)\n",
        "\n",
        "##################################################\n",
        "# selected_idx를 이용해서 어레이 인덱싱하고 그림 그리기\n",
        "# 임의의 점 5개 선택하기, replace=False: 비복원 추출\n",
        "\n",
        "# 아래 점 에서 임의로 5개를 선택해서 'o'로 그리기\n",
        "\n",
        "selected_idx = np.random.choice(X.shape[0], 5, replace=False) # 0~99 중에 5개 비복원 추출\n",
        "print(selected_idx)\n",
        "selected_pts = X[selected_idx]\n",
        "\n",
        "fig = plt.figure()\n",
        "ax = plt.axes()\n",
        "\n",
        "ax.plot(X[:,0], X[:,1], '.') # x,y\n",
        "ax.plot(selected_pts[:,0], selected_pts[:,1], 'o')\n",
        "\n",
        "plt.show()"
      ],
      "metadata": {
        "colab": {
          "base_uri": "https://localhost:8080/",
          "height": 288
        },
        "id": "fuVvgQK8iJyD",
        "outputId": "99653ddd-97e0-4f89-dc4e-4b3424b0b381"
      },
      "execution_count": 127,
      "outputs": [
        {
          "output_type": "stream",
          "name": "stdout",
          "text": [
            "[34 76 88  2 69]\n"
          ]
        },
        {
          "output_type": "display_data",
          "data": {
            "text/plain": [
              "<Figure size 432x288 with 1 Axes>"
            ],
            "image/png": "[encoded data removed]"
          },
          "metadata": {
            "needs_background": "light"
          }
        }
      ]
    },
    {
      "cell_type": "markdown",
      "metadata": {
        "id": "VlFOIRyI3KBO"
      },
      "source": [
        "### 불린 인덱싱"
      ]
    },
    {
      "cell_type": "code",
      "source": [
        "A = np.arange(30).reshape(5,6)\n",
        "A"
      ],
      "metadata": {
        "colab": {
          "base_uri": "https://localhost:8080/"
        },
        "id": "-dOgT4l72s9W",
        "outputId": "e2f312ba-905c-47bb-ae57-e5483e388b01"
      },
      "execution_count": null,
      "outputs": [
        {
          "output_type": "execute_result",
          "data": {
            "text/plain": [
              "array([[ 0,  1,  2,  3,  4,  5],\n",
              "       [ 6,  7,  8,  9, 10, 11],\n",
              "       [12, 13, 14, 15, 16, 17],\n",
              "       [18, 19, 20, 21, 22, 23],\n",
              "       [24, 25, 26, 27, 28, 29]])"
            ]
          },
          "metadata": {},
          "execution_count": 57
        }
      ]
    },
    {
      "cell_type": "code",
      "metadata": {
        "colab": {
          "base_uri": "https://localhost:8080/"
        },
        "id": "bXyqIrTK6OLY",
        "outputId": "203a61ee-0c8d-47e1-d719-2adb92e47603"
      },
      "source": [
        "# 조건 \n",
        "A>20"
      ],
      "execution_count": null,
      "outputs": [
        {
          "output_type": "execute_result",
          "data": {
            "text/plain": [
              "array([[False, False, False, False, False, False],\n",
              "       [False, False, False, False, False, False],\n",
              "       [False, False, False, False, False, False],\n",
              "       [False, False, False,  True,  True,  True],\n",
              "       [ True,  True,  True,  True,  True,  True]])"
            ]
          },
          "metadata": {},
          "execution_count": 63
        }
      ]
    },
    {
      "cell_type": "code",
      "metadata": {
        "colab": {
          "base_uri": "https://localhost:8080/"
        },
        "id": "V1vpav_x6Qea",
        "outputId": "41fd2b9e-9ec1-4e96-8d7c-ec7483c22e22"
      },
      "source": [
        "# 조건으로 인덱싱\n",
        "A[A>20]"
      ],
      "execution_count": null,
      "outputs": [
        {
          "output_type": "execute_result",
          "data": {
            "text/plain": [
              "array([21, 22, 23, 24, 25, 26, 27, 28, 29])"
            ]
          },
          "metadata": {},
          "execution_count": 64
        }
      ]
    },
    {
      "cell_type": "markdown",
      "metadata": {
        "id": "i4kaldQD3NqF"
      },
      "source": [
        "### 전치"
      ]
    },
    {
      "cell_type": "code",
      "metadata": {
        "colab": {
          "base_uri": "https://localhost:8080/"
        },
        "id": "UimEed1P6ivX",
        "outputId": "924ab8ef-1ff7-4677-f4bf-b7dcb55b9a1f"
      },
      "source": [
        "A = (np.arange(18)+1).reshape(2,3,3)\n",
        "A"
      ],
      "execution_count": 129,
      "outputs": [
        {
          "output_type": "execute_result",
          "data": {
            "text/plain": [
              "array([[[ 1,  2,  3],\n",
              "        [ 4,  5,  6],\n",
              "        [ 7,  8,  9]],\n",
              "\n",
              "       [[10, 11, 12],\n",
              "        [13, 14, 15],\n",
              "        [16, 17, 18]]])"
            ]
          },
          "metadata": {},
          "execution_count": 129
        }
      ]
    },
    {
      "cell_type": "code",
      "source": [
        "B = A[0,:] # 첫번째 array 전부\n",
        "B.transpose(1,0) # == B.T\n",
        "B.T #B.transpose(1,0)랑 같음"
      ],
      "metadata": {
        "colab": {
          "base_uri": "https://localhost:8080/"
        },
        "id": "LWdCAM4pOn6L",
        "outputId": "b1b498e6-bf45-45e5-b5aa-aba308af0162"
      },
      "execution_count": 136,
      "outputs": [
        {
          "output_type": "execute_result",
          "data": {
            "text/plain": [
              "array([[1, 4, 7],\n",
              "       [2, 5, 8],\n",
              "       [3, 6, 9]])"
            ]
          },
          "metadata": {},
          "execution_count": 136
        }
      ]
    },
    {
      "cell_type": "markdown",
      "source": [
        "A의 오리지널 shape은 (2,3,3). 즉,\n",
        "\n",
        "axis0 = 2\n",
        "\n",
        "axis1 = 3\n",
        "\n",
        "axis2 = 3\n",
        "\n",
        "A.transpose(2,0,1)은 \n",
        "\n",
        "axis2 = 3\n",
        "\n",
        "axis0 = 2\n",
        "\n",
        "axis1 = 3\n",
        "\n",
        "순서로 바꾸겠단 뜻임. axis 뒤에 붙은 숫자를 잘 볼 것.\n",
        "\n"
      ],
      "metadata": {
        "id": "mLqR8_BznDpM"
      }
    },
    {
      "cell_type": "code",
      "metadata": {
        "colab": {
          "base_uri": "https://localhost:8080/"
        },
        "id": "lVPLiuYP6r0q",
        "outputId": "8b2abe37-2eb1-4089-b7b9-be1f81ff1d5a"
      },
      "source": [
        "# tr(2,0,1)\n",
        "A.transpose(2,0,1) # (3, 2, 3)"
      ],
      "execution_count": 139,
      "outputs": [
        {
          "output_type": "execute_result",
          "data": {
            "text/plain": [
              "array([[[ 1,  4,  7],\n",
              "        [10, 13, 16]],\n",
              "\n",
              "       [[ 2,  5,  8],\n",
              "        [11, 14, 17]],\n",
              "\n",
              "       [[ 3,  6,  9],\n",
              "        [12, 15, 18]]])"
            ]
          },
          "metadata": {},
          "execution_count": 139
        }
      ]
    },
    {
      "cell_type": "code",
      "metadata": {
        "colab": {
          "base_uri": "https://localhost:8080/"
        },
        "id": "VyyAtNF26rtA",
        "outputId": "a9a9b0de-4c94-4c65-837e-09c84ecfd195"
      },
      "source": [
        "#################################################\n",
        "# A를 아래 모양으로 바꾸려면 어떻게 트랜스포즈 시켜야 하는가?\n",
        "# \n",
        "# array([[[ 1, 10],\n",
        "#         [ 2, 11],\n",
        "#         [ 3, 12]],\n",
        "\n",
        "#        [[ 4, 13],\n",
        "#         [ 5, 14],\n",
        "#         [ 6, 15]],\n",
        "\n",
        "#        [[ 7, 16],\n",
        "#         [ 8, 17],\n",
        "#         [ 9, 18]]])\n",
        "\n",
        "#################################################\n",
        "\n",
        "A.transpose(1,2,0)\n"
      ],
      "execution_count": 145,
      "outputs": [
        {
          "output_type": "execute_result",
          "data": {
            "text/plain": [
              "array([[[ 1, 10],\n",
              "        [ 2, 11],\n",
              "        [ 3, 12]],\n",
              "\n",
              "       [[ 4, 13],\n",
              "        [ 5, 14],\n",
              "        [ 6, 15]],\n",
              "\n",
              "       [[ 7, 16],\n",
              "        [ 8, 17],\n",
              "        [ 9, 18]]])"
            ]
          },
          "metadata": {},
          "execution_count": 145
        }
      ]
    },
    {
      "cell_type": "markdown",
      "metadata": {
        "id": "CtdMr80c8_Rs"
      },
      "source": [
        "#### 이미지에 적용"
      ]
    },
    {
      "cell_type": "code",
      "source": [
        "from sklearn.datasets import load_digits\n",
        "digits = load_digits()"
      ],
      "metadata": {
        "id": "s4T-X3pYo7bu"
      },
      "execution_count": 146,
      "outputs": []
    },
    {
      "cell_type": "code",
      "source": [
        "print(digits.images)\n",
        "print(digits.images.shape)"
      ],
      "metadata": {
        "colab": {
          "base_uri": "https://localhost:8080/"
        },
        "id": "DfglXLUXQ90c",
        "outputId": "f247efed-525b-4655-d707-c62267a607a9"
      },
      "execution_count": 147,
      "outputs": [
        {
          "output_type": "stream",
          "name": "stdout",
          "text": [
            "[[[ 0.  0.  5. ...  1.  0.  0.]\n",
            "  [ 0.  0. 13. ... 15.  5.  0.]\n",
            "  [ 0.  3. 15. ... 11.  8.  0.]\n",
            "  ...\n",
            "  [ 0.  4. 11. ... 12.  7.  0.]\n",
            "  [ 0.  2. 14. ... 12.  0.  0.]\n",
            "  [ 0.  0.  6. ...  0.  0.  0.]]\n",
            "\n",
            " [[ 0.  0.  0. ...  5.  0.  0.]\n",
            "  [ 0.  0.  0. ...  9.  0.  0.]\n",
            "  [ 0.  0.  3. ...  6.  0.  0.]\n",
            "  ...\n",
            "  [ 0.  0.  1. ...  6.  0.  0.]\n",
            "  [ 0.  0.  1. ...  6.  0.  0.]\n",
            "  [ 0.  0.  0. ... 10.  0.  0.]]\n",
            "\n",
            " [[ 0.  0.  0. ... 12.  0.  0.]\n",
            "  [ 0.  0.  3. ... 14.  0.  0.]\n",
            "  [ 0.  0.  8. ... 16.  0.  0.]\n",
            "  ...\n",
            "  [ 0.  9. 16. ...  0.  0.  0.]\n",
            "  [ 0.  3. 13. ... 11.  5.  0.]\n",
            "  [ 0.  0.  0. ... 16.  9.  0.]]\n",
            "\n",
            " ...\n",
            "\n",
            " [[ 0.  0.  1. ...  1.  0.  0.]\n",
            "  [ 0.  0. 13. ...  2.  1.  0.]\n",
            "  [ 0.  0. 16. ... 16.  5.  0.]\n",
            "  ...\n",
            "  [ 0.  0. 16. ... 15.  0.  0.]\n",
            "  [ 0.  0. 15. ... 16.  0.  0.]\n",
            "  [ 0.  0.  2. ...  6.  0.  0.]]\n",
            "\n",
            " [[ 0.  0.  2. ...  0.  0.  0.]\n",
            "  [ 0.  0. 14. ... 15.  1.  0.]\n",
            "  [ 0.  4. 16. ... 16.  7.  0.]\n",
            "  ...\n",
            "  [ 0.  0.  0. ... 16.  2.  0.]\n",
            "  [ 0.  0.  4. ... 16.  2.  0.]\n",
            "  [ 0.  0.  5. ... 12.  0.  0.]]\n",
            "\n",
            " [[ 0.  0. 10. ...  1.  0.  0.]\n",
            "  [ 0.  2. 16. ...  1.  0.  0.]\n",
            "  [ 0.  0. 15. ... 15.  0.  0.]\n",
            "  ...\n",
            "  [ 0.  4. 16. ... 16.  6.  0.]\n",
            "  [ 0.  8. 16. ... 16.  8.  0.]\n",
            "  [ 0.  1.  8. ... 12.  1.  0.]]]\n",
            "(1797, 8, 8)\n"
          ]
        }
      ]
    },
    {
      "cell_type": "code",
      "source": [
        "digits.images[0] #1797중 첫 레이어 떼어 오기. 0은 배경, 숫자는 그림을 의미함"
      ],
      "metadata": {
        "colab": {
          "base_uri": "https://localhost:8080/"
        },
        "id": "eC4UymjvRTNO",
        "outputId": "eaf36c9e-6ae3-444e-8f6c-debccc1abde1"
      },
      "execution_count": 148,
      "outputs": [
        {
          "output_type": "execute_result",
          "data": {
            "text/plain": [
              "array([[ 0.,  0.,  5., 13.,  9.,  1.,  0.,  0.],\n",
              "       [ 0.,  0., 13., 15., 10., 15.,  5.,  0.],\n",
              "       [ 0.,  3., 15.,  2.,  0., 11.,  8.,  0.],\n",
              "       [ 0.,  4., 12.,  0.,  0.,  8.,  8.,  0.],\n",
              "       [ 0.,  5.,  8.,  0.,  0.,  9.,  8.,  0.],\n",
              "       [ 0.,  4., 11.,  0.,  1., 12.,  7.,  0.],\n",
              "       [ 0.,  2., 14.,  5., 10., 12.,  0.,  0.],\n",
              "       [ 0.,  0.,  6., 13., 10.,  0.,  0.,  0.]])"
            ]
          },
          "metadata": {},
          "execution_count": 148
        }
      ]
    },
    {
      "cell_type": "code",
      "source": [
        "digits.images[0:9]"
      ],
      "metadata": {
        "colab": {
          "base_uri": "https://localhost:8080/"
        },
        "id": "jO5Ml7aESUSQ",
        "outputId": "f0ef0c82-fb74-4fed-e192-a62f0e722d72"
      },
      "execution_count": 149,
      "outputs": [
        {
          "output_type": "execute_result",
          "data": {
            "text/plain": [
              "array([[[ 0.,  0.,  5., 13.,  9.,  1.,  0.,  0.],\n",
              "        [ 0.,  0., 13., 15., 10., 15.,  5.,  0.],\n",
              "        [ 0.,  3., 15.,  2.,  0., 11.,  8.,  0.],\n",
              "        [ 0.,  4., 12.,  0.,  0.,  8.,  8.,  0.],\n",
              "        [ 0.,  5.,  8.,  0.,  0.,  9.,  8.,  0.],\n",
              "        [ 0.,  4., 11.,  0.,  1., 12.,  7.,  0.],\n",
              "        [ 0.,  2., 14.,  5., 10., 12.,  0.,  0.],\n",
              "        [ 0.,  0.,  6., 13., 10.,  0.,  0.,  0.]],\n",
              "\n",
              "       [[ 0.,  0.,  0., 12., 13.,  5.,  0.,  0.],\n",
              "        [ 0.,  0.,  0., 11., 16.,  9.,  0.,  0.],\n",
              "        [ 0.,  0.,  3., 15., 16.,  6.,  0.,  0.],\n",
              "        [ 0.,  7., 15., 16., 16.,  2.,  0.,  0.],\n",
              "        [ 0.,  0.,  1., 16., 16.,  3.,  0.,  0.],\n",
              "        [ 0.,  0.,  1., 16., 16.,  6.,  0.,  0.],\n",
              "        [ 0.,  0.,  1., 16., 16.,  6.,  0.,  0.],\n",
              "        [ 0.,  0.,  0., 11., 16., 10.,  0.,  0.]],\n",
              "\n",
              "       [[ 0.,  0.,  0.,  4., 15., 12.,  0.,  0.],\n",
              "        [ 0.,  0.,  3., 16., 15., 14.,  0.,  0.],\n",
              "        [ 0.,  0.,  8., 13.,  8., 16.,  0.,  0.],\n",
              "        [ 0.,  0.,  1.,  6., 15., 11.,  0.,  0.],\n",
              "        [ 0.,  1.,  8., 13., 15.,  1.,  0.,  0.],\n",
              "        [ 0.,  9., 16., 16.,  5.,  0.,  0.,  0.],\n",
              "        [ 0.,  3., 13., 16., 16., 11.,  5.,  0.],\n",
              "        [ 0.,  0.,  0.,  3., 11., 16.,  9.,  0.]],\n",
              "\n",
              "       [[ 0.,  0.,  7., 15., 13.,  1.,  0.,  0.],\n",
              "        [ 0.,  8., 13.,  6., 15.,  4.,  0.,  0.],\n",
              "        [ 0.,  2.,  1., 13., 13.,  0.,  0.,  0.],\n",
              "        [ 0.,  0.,  2., 15., 11.,  1.,  0.,  0.],\n",
              "        [ 0.,  0.,  0.,  1., 12., 12.,  1.,  0.],\n",
              "        [ 0.,  0.,  0.,  0.,  1., 10.,  8.,  0.],\n",
              "        [ 0.,  0.,  8.,  4.,  5., 14.,  9.,  0.],\n",
              "        [ 0.,  0.,  7., 13., 13.,  9.,  0.,  0.]],\n",
              "\n",
              "       [[ 0.,  0.,  0.,  1., 11.,  0.,  0.,  0.],\n",
              "        [ 0.,  0.,  0.,  7.,  8.,  0.,  0.,  0.],\n",
              "        [ 0.,  0.,  1., 13.,  6.,  2.,  2.,  0.],\n",
              "        [ 0.,  0.,  7., 15.,  0.,  9.,  8.,  0.],\n",
              "        [ 0.,  5., 16., 10.,  0., 16.,  6.,  0.],\n",
              "        [ 0.,  4., 15., 16., 13., 16.,  1.,  0.],\n",
              "        [ 0.,  0.,  0.,  3., 15., 10.,  0.,  0.],\n",
              "        [ 0.,  0.,  0.,  2., 16.,  4.,  0.,  0.]],\n",
              "\n",
              "       [[ 0.,  0., 12., 10.,  0.,  0.,  0.,  0.],\n",
              "        [ 0.,  0., 14., 16., 16., 14.,  0.,  0.],\n",
              "        [ 0.,  0., 13., 16., 15., 10.,  1.,  0.],\n",
              "        [ 0.,  0., 11., 16., 16.,  7.,  0.,  0.],\n",
              "        [ 0.,  0.,  0.,  4.,  7., 16.,  7.,  0.],\n",
              "        [ 0.,  0.,  0.,  0.,  4., 16.,  9.,  0.],\n",
              "        [ 0.,  0.,  5.,  4., 12., 16.,  4.,  0.],\n",
              "        [ 0.,  0.,  9., 16., 16., 10.,  0.,  0.]],\n",
              "\n",
              "       [[ 0.,  0.,  0., 12., 13.,  0.,  0.,  0.],\n",
              "        [ 0.,  0.,  5., 16.,  8.,  0.,  0.,  0.],\n",
              "        [ 0.,  0., 13., 16.,  3.,  0.,  0.,  0.],\n",
              "        [ 0.,  0., 14., 13.,  0.,  0.,  0.,  0.],\n",
              "        [ 0.,  0., 15., 12.,  7.,  2.,  0.,  0.],\n",
              "        [ 0.,  0., 13., 16., 13., 16.,  3.,  0.],\n",
              "        [ 0.,  0.,  7., 16., 11., 15.,  8.,  0.],\n",
              "        [ 0.,  0.,  1.,  9., 15., 11.,  3.,  0.]],\n",
              "\n",
              "       [[ 0.,  0.,  7.,  8., 13., 16., 15.,  1.],\n",
              "        [ 0.,  0.,  7.,  7.,  4., 11., 12.,  0.],\n",
              "        [ 0.,  0.,  0.,  0.,  8., 13.,  1.,  0.],\n",
              "        [ 0.,  4.,  8.,  8., 15., 15.,  6.,  0.],\n",
              "        [ 0.,  2., 11., 15., 15.,  4.,  0.,  0.],\n",
              "        [ 0.,  0.,  0., 16.,  5.,  0.,  0.,  0.],\n",
              "        [ 0.,  0.,  9., 15.,  1.,  0.,  0.,  0.],\n",
              "        [ 0.,  0., 13.,  5.,  0.,  0.,  0.,  0.]],\n",
              "\n",
              "       [[ 0.,  0.,  9., 14.,  8.,  1.,  0.,  0.],\n",
              "        [ 0.,  0., 12., 14., 14., 12.,  0.,  0.],\n",
              "        [ 0.,  0.,  9., 10.,  0., 15.,  4.,  0.],\n",
              "        [ 0.,  0.,  3., 16., 12., 14.,  2.,  0.],\n",
              "        [ 0.,  0.,  4., 16., 16.,  2.,  0.,  0.],\n",
              "        [ 0.,  3., 16.,  8., 10., 13.,  2.,  0.],\n",
              "        [ 0.,  1., 15.,  1.,  3., 16.,  8.,  0.],\n",
              "        [ 0.,  0., 11., 16., 15., 11.,  1.,  0.]]])"
            ]
          },
          "metadata": {},
          "execution_count": 149
        }
      ]
    },
    {
      "cell_type": "code",
      "source": [
        "mini_batch = digits.images[0:9]\n",
        "\n",
        "print(mini_batch.shape)\n",
        "\n",
        "########################################\n",
        "# \n",
        "# mini_batch (9,8,8)를 transpose, reshape -> (8,72)\n",
        "img_long = mini_batch.transpose(1,0,2).reshape(8,-1)\n",
        "print(img_long)\n",
        "########################################\n",
        "\n",
        "fig = plt.figure()\n",
        "ax = plt.axes()\n",
        "\n",
        "ax.imshow(img_long, cmap='binary')\n",
        "\n",
        "plt.show()"
      ],
      "metadata": {
        "colab": {
          "base_uri": "https://localhost:8080/",
          "height": 425
        },
        "id": "jFqT67BxpM3y",
        "outputId": "e1d8c688-f643-41d2-c4cd-eaa8efda631e"
      },
      "execution_count": 161,
      "outputs": [
        {
          "output_type": "stream",
          "name": "stdout",
          "text": [
            "(9, 8, 8)\n",
            "[[ 0.  0.  5. 13.  9.  1.  0.  0.  0.  0.  0. 12. 13.  5.  0.  0.  0.  0.  0.  4. 15. 12.  0.  0.  0.  0.  7. 15. 13.  1.  0.  0.  0.  0.  0.  1.\n",
            "  11.  0.  0.  0.  0.  0. 12. 10.  0.  0.  0.  0.  0.  0.  0. 12. 13.  0.  0.  0.  0.  0.  7.  8. 13. 16. 15.  1.  0.  0.  9. 14.  8.  1.  0.  0.]\n",
            " [ 0.  0. 13. 15. 10. 15.  5.  0.  0.  0.  0. 11. 16.  9.  0.  0.  0.  0.  3. 16. 15. 14.  0.  0.  0.  8. 13.  6. 15.  4.  0.  0.  0.  0.  0.  7.\n",
            "   8.  0.  0.  0.  0.  0. 14. 16. 16. 14.  0.  0.  0.  0.  5. 16.  8.  0.  0.  0.  0.  0.  7.  7.  4. 11. 12.  0.  0.  0. 12. 14. 14. 12.  0.  0.]\n",
            " [ 0.  3. 15.  2.  0. 11.  8.  0.  0.  0.  3. 15. 16.  6.  0.  0.  0.  0.  8. 13.  8. 16.  0.  0.  0.  2.  1. 13. 13.  0.  0.  0.  0.  0.  1. 13.\n",
            "   6.  2.  2.  0.  0.  0. 13. 16. 15. 10.  1.  0.  0.  0. 13. 16.  3.  0.  0.  0.  0.  0.  0.  0.  8. 13.  1.  0.  0.  0.  9. 10.  0. 15.  4.  0.]\n",
            " [ 0.  4. 12.  0.  0.  8.  8.  0.  0.  7. 15. 16. 16.  2.  0.  0.  0.  0.  1.  6. 15. 11.  0.  0.  0.  0.  2. 15. 11.  1.  0.  0.  0.  0.  7. 15.\n",
            "   0.  9.  8.  0.  0.  0. 11. 16. 16.  7.  0.  0.  0.  0. 14. 13.  0.  0.  0.  0.  0.  4.  8.  8. 15. 15.  6.  0.  0.  0.  3. 16. 12. 14.  2.  0.]\n",
            " [ 0.  5.  8.  0.  0.  9.  8.  0.  0.  0.  1. 16. 16.  3.  0.  0.  0.  1.  8. 13. 15.  1.  0.  0.  0.  0.  0.  1. 12. 12.  1.  0.  0.  5. 16. 10.\n",
            "   0. 16.  6.  0.  0.  0.  0.  4.  7. 16.  7.  0.  0.  0. 15. 12.  7.  2.  0.  0.  0.  2. 11. 15. 15.  4.  0.  0.  0.  0.  4. 16. 16.  2.  0.  0.]\n",
            " [ 0.  4. 11.  0.  1. 12.  7.  0.  0.  0.  1. 16. 16.  6.  0.  0.  0.  9. 16. 16.  5.  0.  0.  0.  0.  0.  0.  0.  1. 10.  8.  0.  0.  4. 15. 16.\n",
            "  13. 16.  1.  0.  0.  0.  0.  0.  4. 16.  9.  0.  0.  0. 13. 16. 13. 16.  3.  0.  0.  0.  0. 16.  5.  0.  0.  0.  0.  3. 16.  8. 10. 13.  2.  0.]\n",
            " [ 0.  2. 14.  5. 10. 12.  0.  0.  0.  0.  1. 16. 16.  6.  0.  0.  0.  3. 13. 16. 16. 11.  5.  0.  0.  0.  8.  4.  5. 14.  9.  0.  0.  0.  0.  3.\n",
            "  15. 10.  0.  0.  0.  0.  5.  4. 12. 16.  4.  0.  0.  0.  7. 16. 11. 15.  8.  0.  0.  0.  9. 15.  1.  0.  0.  0.  0.  1. 15.  1.  3. 16.  8.  0.]\n",
            " [ 0.  0.  6. 13. 10.  0.  0.  0.  0.  0.  0. 11. 16. 10.  0.  0.  0.  0.  0.  3. 11. 16.  9.  0.  0.  0.  7. 13. 13.  9.  0.  0.  0.  0.  0.  2.\n",
            "  16.  4.  0.  0.  0.  0.  9. 16. 16. 10.  0.  0.  0.  0.  1.  9. 15. 11.  3.  0.  0.  0. 13.  5.  0.  0.  0.  0.  0.  0. 11. 16. 15. 11.  1.  0.]]\n"
          ]
        },
        {
          "output_type": "display_data",
          "data": {
            "text/plain": [
              "<Figure size 432x288 with 1 Axes>"
            ],
            "image/png": "[encoded data removed]"
          },
          "metadata": {
            "needs_background": "light"
          }
        }
      ]
    },
    {
      "cell_type": "markdown",
      "source": [
        "### 자주쓰는 기능 max, argmax"
      ],
      "metadata": {
        "id": "OslUBdvtQc1g"
      }
    },
    {
      "cell_type": "code",
      "source": [
        "# 1차원 어레이에 대해서\n",
        "x = np.random.rand(10)\n",
        "\n",
        "print(x)\n",
        "print(np.max(x))\n",
        "print(np.argmax(x))\n",
        "print(x[np.argmax(x)])"
      ],
      "metadata": {
        "id": "AHHGVhi0tyzD",
        "colab": {
          "base_uri": "https://localhost:8080/"
        },
        "outputId": "6bf3c9e4-52dc-44f6-cdcf-35dfcbb9029b"
      },
      "execution_count": 167,
      "outputs": [
        {
          "output_type": "stream",
          "name": "stdout",
          "text": [
            "[0.087 0.829 0.299 0.031 0.678 0.903 0.514 0.539 0.664 0.634]\n",
            "0.903489032968205\n",
            "5\n",
            "0.903489032968205\n"
          ]
        }
      ]
    },
    {
      "cell_type": "code",
      "source": [
        "print(np.argmax(x, axis=0))\n",
        "x[np.argmax(x, axis=0), range(5)]"
      ],
      "metadata": {
        "colab": {
          "base_uri": "https://localhost:8080/"
        },
        "id": "hTE0twHVvvLF",
        "outputId": "bf20fc10-ef03-4577-a35e-305bf3333b32"
      },
      "execution_count": 172,
      "outputs": [
        {
          "output_type": "stream",
          "name": "stdout",
          "text": [
            "[1 1 1 0 1]\n"
          ]
        },
        {
          "output_type": "execute_result",
          "data": {
            "text/plain": [
              "array([0.251, 0.758, 0.558, 0.679, 0.468])"
            ]
          },
          "metadata": {},
          "execution_count": 172
        }
      ]
    },
    {
      "cell_type": "code",
      "source": [
        "# 2차원 어레이에 대해서\n",
        "np.random.seed(66)\n",
        "\n",
        "x = np.random.rand(10).reshape(2,5)\n",
        "print(x)\n",
        "\n",
        "# 전체에 대해\n",
        "print(np.max(x))\n",
        "print(np.argmax(x)) # 1차원으로 죽 늘어놓았을 때 8번째 원소. 행렬로 치면 (1,3)\n",
        "print(np.unravel_index(np.argmax(x), (3,5))) # 1차원 배열을 (3,5)배열로 만들고, 그 중 index에 해당하는 행과 열 출력\n",
        "# 즉, 지금 argmax(x)가 6이니까 (3,5)행렬에서 6번째 원소의 위치가 (1,1)이라는 뜻!!\n",
        "# 원래 ravel이라는 함수는 Flatten처럼 다차원 배열을 1차원 배열로 만들 때 사용함. 지금은 unravel이니까 1차원을 다차원\n",
        "print()\n",
        "\n",
        "print(np.max(x, axis=0))  # axis=0은 행을 의미하므로 매 열마다 1번행과 0번행을 비교해서 큰 값 프린트\n",
        "print(np.argmax(x,axis=0)) # axis=0 0번행인지 1번행인지 보여줌 \n",
        "x[np.argmax(x, axis = 0), np.arange(5)] # 요소 추출"
      ],
      "metadata": {
        "colab": {
          "base_uri": "https://localhost:8080/"
        },
        "id": "kqxgXEwFFp-V",
        "outputId": "7706d0e1-3820-4a5a-cbf4-32dd55eea9a0"
      },
      "execution_count": 173,
      "outputs": [
        {
          "output_type": "stream",
          "name": "stdout",
          "text": [
            "[[0.154 0.134 0.363 0.679 0.194]\n",
            " [0.251 0.758 0.558 0.515 0.468]]\n",
            "0.7584163915356066\n",
            "6\n",
            "(1, 1)\n",
            "\n",
            "[0.251 0.758 0.558 0.679 0.468]\n",
            "[1 1 1 0 1]\n"
          ]
        },
        {
          "output_type": "execute_result",
          "data": {
            "text/plain": [
              "array([0.251, 0.758, 0.558, 0.679, 0.468])"
            ]
          },
          "metadata": {},
          "execution_count": 173
        }
      ]
    },
    {
      "cell_type": "code",
      "source": [
        "# axis=0\n",
        "print(np.max(x, axis=0))\n",
        "print(np.argmax(x, axis=0))"
      ],
      "metadata": {
        "colab": {
          "base_uri": "https://localhost:8080/"
        },
        "id": "AYfJ91bmbF9R",
        "outputId": "55205b36-d749-44d8-badd-bdb72d3a15d5"
      },
      "execution_count": 174,
      "outputs": [
        {
          "output_type": "stream",
          "name": "stdout",
          "text": [
            "[0.251 0.758 0.558 0.679 0.468]\n",
            "[1 1 1 0 1]\n"
          ]
        }
      ]
    },
    {
      "cell_type": "code",
      "source": [
        "# axis=1\n",
        "print(np.max(x, axis=1))\n",
        "print(np.argmax(x, axis=1))"
      ],
      "metadata": {
        "colab": {
          "base_uri": "https://localhost:8080/"
        },
        "id": "ozhGxl0mba9O",
        "outputId": "37c27d56-ae19-4c89-dba0-16f7592042ba"
      },
      "execution_count": 175,
      "outputs": [
        {
          "output_type": "stream",
          "name": "stdout",
          "text": [
            "[0.679 0.758]\n",
            "[3 1]\n"
          ]
        }
      ]
    },
    {
      "cell_type": "markdown",
      "metadata": {
        "id": "Caou712v3P8d"
      },
      "source": [
        "### 브로드캐스팅"
      ]
    },
    {
      "cell_type": "code",
      "metadata": {
        "colab": {
          "base_uri": "https://localhost:8080/"
        },
        "id": "abn7xG-L6_6T",
        "outputId": "d55d9262-a787-40fb-9949-5c1cac424a3f"
      },
      "source": [
        "A = np.array([1,2,3])\n",
        "\n",
        "# 상수 곱하기\n",
        "A * 2 #  np.array([2,2,2])"
      ],
      "execution_count": 3,
      "outputs": [
        {
          "output_type": "execute_result",
          "data": {
            "text/plain": [
              "array([2, 4, 6])"
            ]
          },
          "metadata": {},
          "execution_count": 3
        }
      ]
    },
    {
      "cell_type": "code",
      "source": [
        "np.random.seed(66)\n",
        "\n",
        "m, n = 4, 3\n",
        "A = np.random.randint(0, 10, m*n).reshape(m, n)\n",
        "b = np.random.randint(0, 10, n)\n",
        "print(A, ',', A.shape)\n",
        "print(b, ',', b.shape)"
      ],
      "metadata": {
        "colab": {
          "base_uri": "https://localhost:8080/"
        },
        "id": "KuutgoTVlIvo",
        "outputId": "17a1227c-ce63-4d1b-c3b0-8a73c39043d2"
      },
      "execution_count": 179,
      "outputs": [
        {
          "output_type": "stream",
          "name": "stdout",
          "text": [
            "[[4 7 3]\n",
            " [5 3 0]\n",
            " [7 6 0]\n",
            " [2 2 2]] , (4, 3)\n",
            "[6 0 8] , (3,)\n"
          ]
        }
      ]
    },
    {
      "cell_type": "code",
      "metadata": {
        "colab": {
          "base_uri": "https://localhost:8080/"
        },
        "id": "4q5SyRUE6_z3",
        "outputId": "0411ed4c-5aa1-4d08-b11c-d98a47f39b11"
      },
      "source": [
        "# 2차원 어레이 * 1차원 어레이\n",
        "A*b # (4,3)*(3,) = (4,3)"
      ],
      "execution_count": 178,
      "outputs": [
        {
          "output_type": "execute_result",
          "data": {
            "text/plain": [
              "array([[24,  0, 24],\n",
              "       [30,  0,  0],\n",
              "       [42,  0,  0],\n",
              "       [12,  0, 16]])"
            ]
          },
          "metadata": {},
          "execution_count": 178
        }
      ]
    },
    {
      "cell_type": "code",
      "metadata": {
        "id": "tNC4-3ES7YnE",
        "colab": {
          "base_uri": "https://localhost:8080/"
        },
        "outputId": "26ed5ab5-d0b3-4566-8979-9b3e7183975b"
      },
      "source": [
        "np.random.seed(66)\n",
        "\n",
        "m, n = 4, 3\n",
        "a = np.random.randint(0, 10, m).reshape(-1,1)\n",
        "b = np.random.randint(0, 10, n)\n",
        "print(a, ',', a.shape)\n",
        "print(b, ',', b.shape, b.ndim) # b는 1차원 벡터"
      ],
      "execution_count": 12,
      "outputs": [
        {
          "output_type": "stream",
          "name": "stdout",
          "text": [
            "[[4]\n",
            " [7]\n",
            " [3]\n",
            " [5]] , (4, 1)\n",
            "[3 0 7] , (3,) 1\n"
          ]
        }
      ]
    },
    {
      "cell_type": "code",
      "metadata": {
        "colab": {
          "base_uri": "https://localhost:8080/"
        },
        "id": "byaQnPi07ac2",
        "outputId": "f5a04de4-ec24-471a-ec62-25e4960a7f78"
      },
      "source": [
        "# 1차원 어레이 * 1차원 어레이\n",
        "a*b\n",
        "# a는 세로로 복제되고 b는 가로로 복제됨"
      ],
      "execution_count": 181,
      "outputs": [
        {
          "output_type": "execute_result",
          "data": {
            "text/plain": [
              "array([[12,  0, 28],\n",
              "       [21,  0, 49],\n",
              "       [ 9,  0, 21],\n",
              "       [15,  0, 35]])"
            ]
          },
          "metadata": {},
          "execution_count": 181
        }
      ]
    },
    {
      "cell_type": "markdown",
      "source": [
        "브로드 캐스트 규칙\n",
        "\n",
        "1. 두 배열의 차원(ndim)이 같지 않다면 차원이 더 낮은 배열이 차원이 더 높은 배열과 같은 차원의 배열로 인식됩니다.\n",
        "\n",
        "2. 반환된 배열은 연산을 수행한 배열 중 차원의 수(ndim)가 가장 큰 배열이 됩니다.\n",
        "\n",
        "3. ** 연산에 사용된 배열과 반환된 배열의 차원의 크기(shape)가 같거나 1일 경우 브로드캐스팅이 가능합니다.\n",
        "\n",
        "= 두 배열이 뒤에서부터 대응하는 축의 크기가 동일하거나, 1이어야만 합니다.\n",
        "\n",
        "= 즉, 차원이 같은 경우 shape이 같거나, 후행축이 동일하고(2차원일 경우 열을 의미) 선행축이 둘 중 하나가 1이어야 함"
      ],
      "metadata": {
        "id": "oP_ad8Rdn-Wp"
      }
    },
    {
      "cell_type": "code",
      "metadata": {
        "colab": {
          "base_uri": "https://localhost:8080/",
          "height": 344
        },
        "id": "5_9eCVvpTAUd",
        "outputId": "36f9c0f2-a158-47a6-dc7c-ee098fa34a26"
      },
      "source": [
        "# (4,3)*(3,1)?\n",
        "A = np.random.rand(12).reshape(4,3)\n",
        "B = np.random.rand(3).reshape(3,1)\n",
        "\n",
        "print(A, ',', A.shape)\n",
        "print(B, ',', B.shape)\n",
        "\n",
        "A*B\n",
        "# Error인 이유: 두 행렬 모두 2차원인데 shape이 같지 않음.\n",
        "# 이 경우 후행축인 열의 크기가 동일하고, 선행축이 둘 중 하나가 1이어야 함"
      ],
      "execution_count": 20,
      "outputs": [
        {
          "output_type": "stream",
          "name": "stdout",
          "text": [
            "[[0.299 0.216 0.126]\n",
            " [0.647 0.469 0.798]\n",
            " [0.013 0.869 0.372]\n",
            " [0.753 0.867 0.24 ]] , (4, 3)\n",
            "[[0.495]\n",
            " [0.819]\n",
            " [0.823]] , (3, 1)\n"
          ]
        },
        {
          "output_type": "error",
          "ename": "ValueError",
          "evalue": "ignored",
          "traceback": [
            "\u001b[0;31m---------------------------------------------------------------------------\u001b[0m",
            "\u001b[0;31mValueError\u001b[0m                                Traceback (most recent call last)",
            "\u001b[0;32m<ipython-input-20-346e34b1b014>\u001b[0m in \u001b[0;36m<module>\u001b[0;34m()\u001b[0m\n\u001b[1;32m      6\u001b[0m \u001b[0mprint\u001b[0m\u001b[0;34m(\u001b[0m\u001b[0mB\u001b[0m\u001b[0;34m,\u001b[0m \u001b[0;34m','\u001b[0m\u001b[0;34m,\u001b[0m \u001b[0mB\u001b[0m\u001b[0;34m.\u001b[0m\u001b[0mshape\u001b[0m\u001b[0;34m)\u001b[0m\u001b[0;34m\u001b[0m\u001b[0;34m\u001b[0m\u001b[0m\n\u001b[1;32m      7\u001b[0m \u001b[0;34m\u001b[0m\u001b[0m\n\u001b[0;32m----> 8\u001b[0;31m \u001b[0mA\u001b[0m\u001b[0;34m*\u001b[0m\u001b[0mB\u001b[0m\u001b[0;34m\u001b[0m\u001b[0;34m\u001b[0m\u001b[0m\n\u001b[0m",
            "\u001b[0;31mValueError\u001b[0m: operands could not be broadcast together with shapes (4,3) (3,1) "
          ]
        }
      ]
    },
    {
      "cell_type": "code",
      "source": [
        "# 해결책1: B행렬의 shape 변경\n",
        "A = np.random.rand(12).reshape(4,3)\n",
        "B = np.random.rand(3).reshape(1,3)\n",
        "print(A*B)\n",
        "print()\n",
        "# 해결책2: B행렬 차원 낮추기\n",
        "A = np.random.rand(12).reshape(4,3)\n",
        "B = np.random.rand(3).reshape(3,)\n",
        "print(A*B)"
      ],
      "metadata": {
        "colab": {
          "base_uri": "https://localhost:8080/"
        },
        "id": "XmzdCv6JqqFc",
        "outputId": "a1e4a292-237b-45cc-858c-cfd41c3598a7"
      },
      "execution_count": 22,
      "outputs": [
        {
          "output_type": "stream",
          "name": "stdout",
          "text": [
            "[[0.141 0.124 0.217]\n",
            " [0.337 0.142 0.236]\n",
            " [0.021 0.261 0.786]\n",
            " [0.17  0.242 0.031]]\n",
            "\n",
            "[[0.689 0.045 0.391]\n",
            " [0.214 0.053 0.039]\n",
            " [0.045 0.025 0.596]\n",
            " [0.094 0.06  0.067]]\n"
          ]
        }
      ]
    },
    {
      "cell_type": "markdown",
      "metadata": {
        "id": "ZzibuS6vuU-2"
      },
      "source": [
        "#### 브로드캐스팅 응용: kNN"
      ]
    },
    {
      "cell_type": "code",
      "source": [
        "p1 = np.array([-1,-1])\n",
        "p2 = np.array([1,1])\n",
        "X[0]-X[10]\n",
        "np.linalg.norm(X[0]-X[10])"
      ],
      "metadata": {
        "colab": {
          "base_uri": "https://localhost:8080/"
        },
        "id": "KiHl3Qp0ljOj",
        "outputId": "b4f5b9f5-bf7d-4757-85cb-ea169bdbb810"
      },
      "execution_count": 25,
      "outputs": [
        {
          "output_type": "execute_result",
          "data": {
            "text/plain": [
              "0.5772324237796584"
            ]
          },
          "metadata": {},
          "execution_count": 25
        }
      ]
    },
    {
      "cell_type": "code",
      "metadata": {
        "colab": {
          "base_uri": "https://localhost:8080/",
          "height": 1000
        },
        "id": "AIrDJbwruXtN",
        "outputId": "b3683027-9ea2-4071-b19c-9d04cf879fd6"
      },
      "source": [
        "np.random.seed(66)\n",
        "X = np.random.rand(20, 2)\n",
        "N, D = X.shape\n",
        "\n",
        "##################################################\n",
        "# 20개 점 X:(N,D)에 대해서 \n",
        "# 0번째 점과 다른 모든 점과의 거리를 1행에 저장하고\n",
        "# 1번째 점과 다른 모든 점과의 거리를 2행에 저장하고\n",
        "# ...\n",
        "# N-1번째 점과 다른 모든점과의 거리를 N행에 저장하는\n",
        "# distances 어레이 (N,N)을 만드세요.\n",
        "\n",
        "# 한 행씩 추출한 후 이게 나머지 행에 대해서 브로드 캐스팅이 되어야 함\n",
        "# print(X.reshape(1,N,D))\n",
        "# print(X.reshape(N,1,D)) # 각 행이 면이 됨\n",
        "diffs = X.reshape(1,N,D) - X.reshape(N,1,D) # 전자는 (20,2)를 20개의 면으로 복제하고, 후자는 (1,2)로 이루어진 20개면을 (20,2)로 복제\n",
        "print(diffs.shape) # (20,20,2)\n",
        "distances = np.linalg.norm(diffs, axis=2) # 필기 그림\n",
        "print(distances) # (20, 20)\n",
        "\n",
        "##################################################\n",
        "# 계산된 거리 행렬을 axis=1방향으로 정렬\n",
        "knn = np.argsort(distances, axis=1)\n",
        "print(knn) # (20, 20)\n",
        "\n",
        "fig = plt.figure()\n",
        "ax = plt.axes()\n",
        "ax.scatter(X[:,0], X[:,1], s=50, alpha=0.5)\n",
        "ax.axis('equal')\n",
        "plt.show()"
      ],
      "execution_count": 37,
      "outputs": [
        {
          "output_type": "stream",
          "name": "stdout",
          "text": [
            "(20, 20, 2)\n",
            "[[0.    0.584 0.124 0.738 0.492 0.699 0.177 0.931 0.542 0.714 0.226 0.746 0.251 0.054 0.085 0.651 0.348 0.791 0.231 0.159]\n",
            " [0.584 0.    0.46  0.414 0.26  0.314 0.651 0.387 0.206 0.305 0.653 0.281 0.428 0.633 0.655 0.353 0.379 0.741 0.648 0.494]\n",
            " [0.124 0.46  0.    0.642 0.387 0.588 0.243 0.812 0.43  0.606 0.275 0.629 0.173 0.174 0.198 0.548 0.259 0.748 0.276 0.126]\n",
            " [0.738 0.414 0.642 0.    0.26  0.724 0.699 0.355 0.245 0.121 0.668 0.675 0.716 0.791 0.823 0.766 0.715 0.387 0.659 0.586]\n",
            " [0.492 0.26  0.387 0.26  0.    0.56  0.487 0.465 0.071 0.224 0.47  0.54  0.458 0.545 0.575 0.578 0.466 0.495 0.463 0.35 ]\n",
            " [0.699 0.314 0.588 0.724 0.56  0.    0.825 0.595 0.516 0.609 0.845 0.093 0.46  0.733 0.742 0.087 0.366 1.051 0.844 0.677]\n",
            " [0.177 0.651 0.243 0.699 0.487 0.825 0.    0.951 0.552 0.705 0.055 0.858 0.409 0.194 0.222 0.79  0.5   0.669 0.063 0.157]\n",
            " [0.931 0.387 0.812 0.355 0.465 0.595 0.951 0.    0.399 0.27  0.935 0.513 0.811 0.984 1.01  0.669 0.766 0.736 0.928 0.807]\n",
            " [0.542 0.206 0.43  0.245 0.071 0.516 0.552 0.399 0.    0.177 0.537 0.488 0.478 0.596 0.624 0.544 0.471 0.535 0.53  0.409]\n",
            " [0.714 0.305 0.606 0.121 0.224 0.609 0.705 0.27  0.177 0.    0.682 0.556 0.653 0.768 0.798 0.657 0.638 0.501 0.675 0.573]\n",
            " [0.226 0.653 0.275 0.668 0.47  0.845 0.055 0.935 0.537 0.682 0.    0.873 0.446 0.248 0.276 0.815 0.534 0.618 0.009 0.169]\n",
            " [0.746 0.281 0.629 0.675 0.54  0.093 0.858 0.513 0.488 0.556 0.873 0.    0.519 0.785 0.797 0.179 0.43  1.02  0.87  0.705]\n",
            " [0.251 0.428 0.173 0.716 0.458 0.46  0.409 0.811 0.478 0.653 0.446 0.519 0.    0.277 0.283 0.405 0.098 0.887 0.447 0.297]\n",
            " [0.054 0.633 0.174 0.791 0.545 0.733 0.194 0.984 0.596 0.768 0.248 0.785 0.277 0.    0.033 0.681 0.375 0.834 0.254 0.21 ]\n",
            " [0.085 0.655 0.198 0.823 0.575 0.742 0.222 1.01  0.624 0.798 0.276 0.797 0.283 0.033 0.    0.687 0.38  0.867 0.283 0.242]\n",
            " [0.651 0.353 0.548 0.766 0.578 0.087 0.79  0.669 0.544 0.657 0.815 0.179 0.405 0.681 0.687 0.    0.307 1.073 0.814 0.647]\n",
            " [0.348 0.379 0.259 0.715 0.466 0.366 0.5   0.766 0.471 0.638 0.534 0.43  0.098 0.375 0.38  0.307 0.    0.926 0.534 0.376]\n",
            " [0.791 0.741 0.748 0.387 0.495 1.051 0.669 0.736 0.535 0.501 0.618 1.02  0.887 0.834 0.867 1.073 0.926 0.    0.609 0.638]\n",
            " [0.231 0.648 0.276 0.659 0.463 0.844 0.063 0.928 0.53  0.675 0.009 0.87  0.447 0.254 0.283 0.814 0.534 0.609 0.    0.167]\n",
            " [0.159 0.494 0.126 0.586 0.35  0.677 0.157 0.807 0.409 0.573 0.169 0.705 0.297 0.21  0.242 0.647 0.376 0.638 0.167 0.   ]]\n",
            "[[ 0 13 14  2 19  6 10 18 12 16  4  8  1 15  5  9  3 11 17  7]\n",
            " [ 1  8  4 11  9  5 15 16  7  3 12  2 19  0 13 18  6 10 14 17]\n",
            " [ 2  0 19 12 13 14  6 16 10 18  4  8  1 15  5  9 11  3 17  7]\n",
            " [ 3  9  8  4  7 17  1 19  2 18 10 11  6 16 12  5  0 15 13 14]\n",
            " [ 4  8  9  3  1 19  2 12 18  7 16 10  6  0 17 11 13  5 14 15]\n",
            " [ 5 15 11  1 16 12  8  4  2  7  9 19  0  3 13 14  6 18 10 17]\n",
            " [ 6 10 18 19  0 13 14  2 12  4 16  8  1 17  3  9 15  5 11  7]\n",
            " [ 7  9  3  1  8  4 11  5 15 17 16 19 12  2 18  0 10  6 13 14]\n",
            " [ 8  4  9  1  3  7 19  2 16 12 11  5 18 17 10  0 15  6 13 14]\n",
            " [ 9  3  8  4  7  1 17 11 19  2  5 16 12 15 18 10  6  0 13 14]\n",
            " [10 18  6 19  0 13  2 14 12  4 16  8 17  1  3  9 15  5 11  7]\n",
            " [11  5 15  1 16  8  7 12  4  9  2  3 19  0 13 14  6 18 10 17]\n",
            " [12 16  2  0 13 14 19 15  6  1 10 18  4  5  8 11  9  3  7 17]\n",
            " [13 14  0  2  6 19 10 18 12 16  4  8  1 15  5  9 11  3 17  7]\n",
            " [14 13  0  2  6 19 10 12 18 16  4  8  1 15  5 11  9  3 17  7]\n",
            " [15  5 11 16  1 12  8  2  4 19  0  9  7 13 14  3  6 18 10 17]\n",
            " [16 12  2 15  0  5 13 19  1 14 11  4  8  6 10 18  9  3  7 17]\n",
            " [17  3  4  9  8 18 10 19  6  7  1  2  0 13 14 12 16 11  5 15]\n",
            " [18 10  6 19  0 13  2 14 12  4  8 16 17  1  3  9 15  5 11  7]\n",
            " [19  2  6  0 18 10 13 14 12  4 16  8  1  9  3 17 15  5 11  7]]\n"
          ]
        },
        {
          "output_type": "display_data",
          "data": {
            "text/plain": [
              "<Figure size 432x288 with 1 Axes>"
            ],
            "image/png": "[encoded data removed]"
          },
          "metadata": {
            "needs_background": "light"
          }
        }
      ]
    },
    {
      "cell_type": "code",
      "metadata": {
        "colab": {
          "base_uri": "https://localhost:8080/",
          "height": 302
        },
        "id": "s6gMUzbRyxPz",
        "outputId": "c5d2dada-8629-4eda-ee29-9f3320027c67"
      },
      "source": [
        "k = 3\n",
        "\n",
        "# 아무점이나 하나 선택\n",
        "idx = np.random.choice(X.shape[0], 1)\n",
        "x = X[idx]\n",
        "print(idx)\n",
        "# 선택된 점과 가장 가까운 세개 점\n",
        "nbs = knn[idx, 1:k+1]\n",
        "print(nbs)\n",
        "\n",
        "fig = plt.figure()\n",
        "ax = plt.axes()\n",
        "ax.scatter(X[:,0], X[:,1], s=50, alpha=0.5)\n",
        "ax.scatter(x[0][0], x[0][1], facecolor='none', edgecolors='k', s=300)\n",
        "ax.scatter(X[nbs,0], X[nbs,1], facecolor='none', edgecolors='r', s=300)\n",
        "ax.axis('equal')\n",
        "plt.show()"
      ],
      "execution_count": 38,
      "outputs": [
        {
          "output_type": "stream",
          "name": "stdout",
          "text": [
            "[5]\n",
            "[[15 11  1]]\n"
          ]
        },
        {
          "output_type": "display_data",
          "data": {
            "text/plain": [
              "<Figure size 432x288 with 1 Axes>"
            ],
            "image/png": "[encoded data removed]"
          },
          "metadata": {
            "needs_background": "light"
          }
        }
      ]
    },
    {
      "cell_type": "markdown",
      "source": [
        "### 자주쓰는 기능 concatenate"
      ],
      "metadata": {
        "id": "x8lJD6i7RaVD"
      }
    },
    {
      "cell_type": "code",
      "source": [
        "# concatenate : 어레이 두개를 원래 있던 축 방향으로 붙이는 기능. \n",
        "a = np.array([[1, 2], [3, 4]])\n",
        "b = np.array([[5, 6]])\n",
        "\n",
        "# print(a)\n",
        "# print(b)\n",
        "\n",
        "print( np.concatenate( (a,b) ) ) # default 0번 축\n",
        "print( np.concatenate( (a,b), axis=0 ) ) # 위와 같음. 0번축\n",
        "print( np.concatenate( (a,b.T), axis=1 ) ) # trans \n",
        "print( np.concatenate( (a,b), axis=None ) )  # 축을 안 주면 그냥 가로 벡터로 쭉 "
      ],
      "metadata": {
        "colab": {
          "base_uri": "https://localhost:8080/"
        },
        "id": "i9BBz1thK6vs",
        "outputId": "e32fc8c2-b933-4cea-d11a-3b9212009fbd"
      },
      "execution_count": 44,
      "outputs": [
        {
          "output_type": "stream",
          "name": "stdout",
          "text": [
            "[[1 2]\n",
            " [3 4]\n",
            " [5 6]]\n",
            "[[1 2]\n",
            " [3 4]\n",
            " [5 6]]\n",
            "[[1 2 5]\n",
            " [3 4 6]]\n",
            "[1 2 3 4 5 6]\n"
          ]
        }
      ]
    },
    {
      "cell_type": "markdown",
      "source": [
        "### 자주쓰는 기능 stack, hstack, vstack"
      ],
      "metadata": {
        "id": "Ps3W4wj8RfSh"
      }
    },
    {
      "cell_type": "code",
      "source": [
        "# stack\n",
        "a = np.array([1, 2, 3])\n",
        "b = np.array([4, 5, 6])\n",
        "\n",
        "np.stack((a,b)) # 원래 1,2,3은 가로축이었는데 4,5,6이 2행으로 붙어서 즉, 세로축 방향으로 붙음"
      ],
      "metadata": {
        "colab": {
          "base_uri": "https://localhost:8080/"
        },
        "id": "EGsPJ5zgN1iT",
        "outputId": "5df6f452-e56c-49ec-9c0f-4e3e5ca00892"
      },
      "execution_count": 47,
      "outputs": [
        {
          "output_type": "execute_result",
          "data": {
            "text/plain": [
              "array([[1, 2, 3],\n",
              "       [4, 5, 6]])"
            ]
          },
          "metadata": {},
          "execution_count": 47
        }
      ]
    },
    {
      "cell_type": "code",
      "source": [
        "# hstack\n",
        "print(np.concatenate((a,b)))\n",
        "print(np.hstack((a,b)))"
      ],
      "metadata": {
        "colab": {
          "base_uri": "https://localhost:8080/"
        },
        "id": "Mrk9GvziN_yq",
        "outputId": "76a4f11f-12c9-4615-efc7-8a91bdd584db"
      },
      "execution_count": 50,
      "outputs": [
        {
          "output_type": "stream",
          "name": "stdout",
          "text": [
            "[1 2 3 4 5 6]\n",
            "[1 2 3 4 5 6]\n"
          ]
        }
      ]
    },
    {
      "cell_type": "code",
      "source": [
        "# hstack \n",
        "a = np.array([[1],[2],[3]])\n",
        "b = np.array([[4],[5],[6]])\n",
        "print(a)\n",
        "print(np.concatenate((a,b)))\n",
        "print(np.hstack((a,b)))"
      ],
      "metadata": {
        "colab": {
          "base_uri": "https://localhost:8080/"
        },
        "id": "39tQ30svOLin",
        "outputId": "6611ffab-deb6-4022-b643-3eab3ee82453"
      },
      "execution_count": null,
      "outputs": [
        {
          "output_type": "stream",
          "name": "stdout",
          "text": [
            "[[1]\n",
            " [2]\n",
            " [3]]\n",
            "[[1]\n",
            " [2]\n",
            " [3]\n",
            " [4]\n",
            " [5]\n",
            " [6]]\n",
            "[[1 4]\n",
            " [2 5]\n",
            " [3 6]]\n"
          ]
        }
      ]
    },
    {
      "cell_type": "code",
      "source": [
        "# vstack\n",
        "a = np.array([1, 2, 3])\n",
        "b = np.array([4, 5, 6])\n",
        "\n",
        "np.vstack((a,b))"
      ],
      "metadata": {
        "colab": {
          "base_uri": "https://localhost:8080/"
        },
        "id": "WaJBbsbSOiOh",
        "outputId": "091dd293-3799-42f3-e67c-688844441514"
      },
      "execution_count": null,
      "outputs": [
        {
          "output_type": "execute_result",
          "data": {
            "text/plain": [
              "array([[1, 2, 3],\n",
              "       [4, 5, 6]])"
            ]
          },
          "metadata": {},
          "execution_count": 17
        }
      ]
    },
    {
      "cell_type": "code",
      "source": [
        "# vstack\n",
        "a = np.array([[1], [2], [3]])\n",
        "b = np.array([[4], [5], [6]])\n",
        "\n",
        "print(np.concatenate((a,b)))\n",
        "np.vstack((a,b))"
      ],
      "metadata": {
        "colab": {
          "base_uri": "https://localhost:8080/"
        },
        "id": "dXvxheJjOlaE",
        "outputId": "5cc6d5a6-2239-4149-ef9d-6949d3d76791"
      },
      "execution_count": 61,
      "outputs": [
        {
          "output_type": "stream",
          "name": "stdout",
          "text": [
            "[[1]\n",
            " [2]\n",
            " [3]\n",
            " [4]\n",
            " [5]\n",
            " [6]]\n"
          ]
        },
        {
          "output_type": "execute_result",
          "data": {
            "text/plain": [
              "array([[1],\n",
              "       [2],\n",
              "       [3],\n",
              "       [4],\n",
              "       [5],\n",
              "       [6]])"
            ]
          },
          "metadata": {},
          "execution_count": 61
        }
      ]
    },
    {
      "cell_type": "markdown",
      "source": [
        "### 자주쓰는 기능 squeeze"
      ],
      "metadata": {
        "id": "5BElW3rnRkNb"
      }
    },
    {
      "cell_type": "code",
      "source": [
        "# squeeze\n",
        "x = np.array([[[0], [1], [2]]])\n",
        "print(x)\n",
        "print(x.shape)\n",
        "print()\n",
        "print(np.squeeze(x).shape)\n",
        "print(np.squeeze(x)) # 전부 스퀴즈 (3,) => 1차원 벡터가 됨\n",
        "print(np.squeeze(x, axis=0)) # 면을 스퀴즈 했으니 (3,1)\n",
        "print(np.squeeze(x, axis=2)) # 행을 스퀴즈 했으니 (1,3)"
      ],
      "metadata": {
        "colab": {
          "base_uri": "https://localhost:8080/"
        },
        "id": "8H04AMOFPNjJ",
        "outputId": "d5963679-6757-445f-d22e-aa71e6390f80"
      },
      "execution_count": 65,
      "outputs": [
        {
          "output_type": "stream",
          "name": "stdout",
          "text": [
            "[[[0]\n",
            "  [1]\n",
            "  [2]]]\n",
            "(1, 3, 1)\n",
            "\n",
            "(3,)\n",
            "1\n",
            "[[0]\n",
            " [1]\n",
            " [2]]\n",
            "[[0 1 2]]\n"
          ]
        }
      ]
    },
    {
      "cell_type": "code",
      "metadata": {
        "id": "ZmyOU0o2MnIY"
      },
      "source": [
        ""
      ],
      "execution_count": null,
      "outputs": []
    }
  ]
}