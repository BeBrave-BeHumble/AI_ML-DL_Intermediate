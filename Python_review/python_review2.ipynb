{
  "nbformat": 4,
  "nbformat_minor": 0,
  "metadata": {
    "colab": {
      "name": "python_review2.ipynb",
      "provenance": [],
      "collapsed_sections": [],
      "toc_visible": true,
      "include_colab_link": true
    },
    "kernelspec": {
      "name": "python3",
      "display_name": "Python 3"
    },
    "language_info": {
      "name": "python"
    }
  },
  "cells": [
    {
      "cell_type": "markdown",
      "metadata": {
        "id": "view-in-github",
        "colab_type": "text"
      },
      "source": [
        "<a href=\"https://colab.research.google.com/github/FulISun/AI_ML-DL_Intermediate/blob/main/python_review2.ipynb\" target=\"_parent\"><img src=\"https://colab.research.google.com/assets/colab-badge.svg\" alt=\"Open In Colab\"/></a>"
      ]
    },
    {
      "cell_type": "markdown",
      "source": [
        "### 모듈"
      ],
      "metadata": {
        "id": "2AkvGSEvCZXm"
      }
    },
    {
      "cell_type": "code",
      "source": [
        "# Fibonacci numbers module\n",
        "\n",
        "def fib(n):    # write Fibonacci series up to n\n",
        "    a, b = 0, 1\n",
        "    while a < n:\n",
        "        print(a, end=' ')\n",
        "        a, b = b, a+b\n",
        "\n",
        "def fib2(n):   # return Fibonacci series up to n\n",
        "    result = []\n",
        "    a, b = 0, 1\n",
        "    while a < n:\n",
        "        result.append(a)\n",
        "        a, b = b, a+b\n",
        "\n",
        "    return result\n",
        "\n",
        "if __name__ == '__main__':\n",
        "    print(fib2(10))\n",
        "\n",
        "# 이 파일을 현재 폴더에 fibo.py로 저장하고\n",
        "# import fibo\n",
        "# from fibo import fib, fib2\n",
        "# https://docs.python.org/ko/3/tutorial/modules.html"
      ],
      "metadata": {
        "id": "uJZyI66-uP6I",
        "colab": {
          "base_uri": "https://localhost:8080/"
        },
        "outputId": "b4a72d95-b633-4311-8a91-a474ed1c17f4"
      },
      "execution_count": 3,
      "outputs": [
        {
          "output_type": "stream",
          "name": "stdout",
          "text": [
            "[0, 1, 1, 2, 3, 5, 8]\n"
          ]
        }
      ]
    },
    {
      "cell_type": "code",
      "source": [
        "# 모듈 다시 로드\n",
        "# import importlib\n",
        "# importlib.reload(fibo)"
      ],
      "metadata": {
        "id": "gxYsMOBLl_sx"
      },
      "execution_count": null,
      "outputs": []
    },
    {
      "cell_type": "markdown",
      "source": [
        "### 관사 붙이기"
      ],
      "metadata": {
        "id": "uaa6tktJw3zV"
      }
    },
    {
      "cell_type": "code",
      "source": [
        "# version 1\n",
        "# 기본 버전\n",
        "# s의 첫 음절이 모음이면 an 아니면 a 붙이기\n",
        "s = \"apple\"\n",
        "s[0]\n",
        "\n",
        "if s[0] in 'aeiouAEIOU' :    #문자형도 시퀀스로 작동하기 때문에 ['a','e','i'] 이런 식으로 안 써도 됨\n",
        "  print(\"An \" + s)\n",
        "else:\n",
        "  print(\"A \" + s)"
      ],
      "metadata": {
        "id": "EDMxrD3KwjhW",
        "colab": {
          "base_uri": "https://localhost:8080/"
        },
        "outputId": "ad8eb0f3-d024-46da-9d54-fe6a014e853c"
      },
      "execution_count": null,
      "outputs": [
        {
          "output_type": "stream",
          "name": "stdout",
          "text": [
            "An apple\n"
          ]
        }
      ]
    },
    {
      "cell_type": "code",
      "source": [
        "# version 2\n",
        "# s의 첫 음절이 모음이면 an 아니면 a 붙이기\n",
        "s = \"Apple\"\n",
        "s[0]\n",
        "\n",
        "if s[0] in 'aeiouAEIOU' :\n",
        "  print(\"An \" + s.lower())  #단어 소문자로 출력 \n",
        "else:\n",
        "  print(\"A \" + s.lower())"
      ],
      "metadata": {
        "id": "M5Gs4cDBxv1e"
      },
      "execution_count": null,
      "outputs": []
    },
    {
      "cell_type": "code",
      "source": [
        "# version 3\n",
        "#첫 음절이 알파벳이 아니면 문구 출력\n",
        "s = \"1 Apple\"\n",
        "s[0]\n",
        "\n",
        "if s[0].lower() not in 'abcdefghijklmnopqrstuvwxyz' :\n",
        "  print ('첫 문자가 알파벳이 아님')\n",
        "elif s[0] in 'aeiouAEIOU' :\n",
        "  print(\"An \" + s.lower())  #단어 소문자로 출력 \n",
        "else:\n",
        "  print(\"A \" + s.lower())"
      ],
      "metadata": {
        "id": "O53F8alww-_K",
        "colab": {
          "base_uri": "https://localhost:8080/"
        },
        "outputId": "3a303edf-d4fc-4007-e402-185fed10d3ae"
      },
      "execution_count": 5,
      "outputs": [
        {
          "output_type": "stream",
          "name": "stdout",
          "text": [
            "첫 문자가 알파벳이 아님\n"
          ]
        }
      ]
    },
    {
      "cell_type": "code",
      "source": [
        "# version 5\n",
        "# 파이썬 내장 함수 사용\n",
        "s = \"Apple\"\n",
        "s[0]\n",
        "\n",
        "if not s[0].isalpha() : \n",
        "  print ('첫 문자가 알파벳이 아님')\n",
        "elif s[0] in 'aeiouAEIOU' :\n",
        "  print(\"An \" + s.lower())  #단어 소문자로 출력 \n",
        "else:\n",
        "  print(\"A \" + s.lower())"
      ],
      "metadata": {
        "id": "0dNqhmws5KgJ",
        "colab": {
          "base_uri": "https://localhost:8080/"
        },
        "outputId": "3079d34f-0afb-4a25-8a48-24d41810cb2b"
      },
      "execution_count": 6,
      "outputs": [
        {
          "output_type": "stream",
          "name": "stdout",
          "text": [
            "An apple\n"
          ]
        }
      ]
    },
    {
      "cell_type": "markdown",
      "metadata": {
        "id": "YgiIs5i43Q6B"
      },
      "source": [
        "### 369 함수"
      ]
    },
    {
      "cell_type": "code",
      "source": [
        "b=386\n",
        "print(type(str(b)))\n",
        "print(len(str(b)))\n",
        "list(str(b))"
      ],
      "metadata": {
        "colab": {
          "base_uri": "https://localhost:8080/"
        },
        "id": "ykkpx7l866Bw",
        "outputId": "dcbbbfa6-647f-4205-ec93-14607eff925c"
      },
      "execution_count": null,
      "outputs": [
        {
          "output_type": "stream",
          "name": "stdout",
          "text": [
            "<class 'str'>\n",
            "3\n"
          ]
        },
        {
          "output_type": "execute_result",
          "data": {
            "text/plain": [
              "['3', '8', '6']"
            ]
          },
          "metadata": {},
          "execution_count": 18
        }
      ]
    },
    {
      "cell_type": "code",
      "metadata": {
        "id": "Zqmopoj33QJt"
      },
      "source": [
        "def f369(n):\n",
        "    if type(n) != int or n < 0:\n",
        "        print(\"자연수만 입력하세요\")\n",
        "        return None\n",
        "    a = 0 \n",
        "    ####################################\n",
        "    # hint: n은 숫자이므로 문자로 바꾸고... 처리\n",
        "    a += str(n).count('3') # 문자열로 변경하고 '3'이 몇 번 들어있는지 횟수 세기\n",
        "    a += str(n).count('6')\n",
        "    a += str(n).count('9')\n",
        "    ####################################\n",
        "\n",
        "    if a == 0 :\n",
        "         return n\n",
        "    else :\n",
        "        return '짝'  *a\n",
        "    "
      ],
      "execution_count": 7,
      "outputs": []
    },
    {
      "cell_type": "code",
      "metadata": {
        "id": "LNIxf2tB42w9",
        "colab": {
          "base_uri": "https://localhost:8080/"
        },
        "outputId": "55b752f3-586d-4702-8a13-20265a2938db"
      },
      "source": [
        "####################################\n",
        "# 다음코드로 결과를 확인하기\n",
        "####################################\n",
        "print(f369(200))\n",
        "print(f369(368))\n",
        "print(f369(369))\n",
        "print(f369(370))\n",
        "print(f369(-3))\n",
        "print(f369(-3.5))\n",
        "print(f369(\"365\"))"
      ],
      "execution_count": 9,
      "outputs": [
        {
          "output_type": "stream",
          "name": "stdout",
          "text": [
            "200\n",
            "짝짝\n",
            "짝짝짝\n",
            "짝\n",
            "자연수만 입력하세요\n",
            "None\n",
            "자연수만 입력하세요\n",
            "None\n",
            "자연수만 입력하세요\n",
            "None\n"
          ]
        }
      ]
    },
    {
      "cell_type": "code",
      "metadata": {
        "id": "lsm1ka1R3g3-",
        "colab": {
          "base_uri": "https://localhost:8080/"
        },
        "outputId": "946bd606-0d6b-4934-812a-ec434f5dd08e"
      },
      "source": [
        "####################################\n",
        "# 1부터 100까지 결과를 확인하기\n",
        "####################################\n",
        "for i in range(1, 101):\n",
        "    print(i, f369(i))"
      ],
      "execution_count": 11,
      "outputs": [
        {
          "output_type": "stream",
          "name": "stdout",
          "text": [
            "1 1\n",
            "2 2\n",
            "3 짝\n",
            "4 4\n",
            "5 5\n",
            "6 짝\n",
            "7 7\n",
            "8 8\n",
            "9 짝\n",
            "10 10\n",
            "11 11\n",
            "12 12\n",
            "13 짝\n",
            "14 14\n",
            "15 15\n",
            "16 짝\n",
            "17 17\n",
            "18 18\n",
            "19 짝\n",
            "20 20\n",
            "21 21\n",
            "22 22\n",
            "23 짝\n",
            "24 24\n",
            "25 25\n",
            "26 짝\n",
            "27 27\n",
            "28 28\n",
            "29 짝\n",
            "30 짝\n",
            "31 짝\n",
            "32 짝\n",
            "33 짝짝\n",
            "34 짝\n",
            "35 짝\n",
            "36 짝짝\n",
            "37 짝\n",
            "38 짝\n",
            "39 짝짝\n",
            "40 40\n",
            "41 41\n",
            "42 42\n",
            "43 짝\n",
            "44 44\n",
            "45 45\n",
            "46 짝\n",
            "47 47\n",
            "48 48\n",
            "49 짝\n",
            "50 50\n",
            "51 51\n",
            "52 52\n",
            "53 짝\n",
            "54 54\n",
            "55 55\n",
            "56 짝\n",
            "57 57\n",
            "58 58\n",
            "59 짝\n",
            "60 짝\n",
            "61 짝\n",
            "62 짝\n",
            "63 짝짝\n",
            "64 짝\n",
            "65 짝\n",
            "66 짝짝\n",
            "67 짝\n",
            "68 짝\n",
            "69 짝짝\n",
            "70 70\n",
            "71 71\n",
            "72 72\n",
            "73 짝\n",
            "74 74\n",
            "75 75\n",
            "76 짝\n",
            "77 77\n",
            "78 78\n",
            "79 짝\n",
            "80 80\n",
            "81 81\n",
            "82 82\n",
            "83 짝\n",
            "84 84\n",
            "85 85\n",
            "86 짝\n",
            "87 87\n",
            "88 88\n",
            "89 짝\n",
            "90 짝\n",
            "91 짝\n",
            "92 짝\n",
            "93 짝짝\n",
            "94 짝\n",
            "95 짝\n",
            "96 짝짝\n",
            "97 짝\n",
            "98 짝\n",
            "99 짝짝\n",
            "100 100\n"
          ]
        }
      ]
    },
    {
      "cell_type": "markdown",
      "source": [
        "### map function"
      ],
      "metadata": {
        "id": "3vyepMSv72G0"
      }
    },
    {
      "cell_type": "code",
      "source": [
        "# map(function, iterable, .. ) iterable요소를 function에 하나씩 적용\n",
        "users = [{'name':'홍길동', 'age':36, 'job':'선생님'},\n",
        "         {'name':'김연우', 'age':18, 'job':'학생'},\n",
        "         {'name':'Issac Newton', 'age':5, 'job':'과학자'}]\n",
        "\n",
        "list( map( lambda u: str(u['age'] // 10 * 10) + 's', users ) ) #user에 있는 iteration요소들을 lambda함수에 하나씩 적용."
      ],
      "metadata": {
        "id": "4sr2vNwo75hn",
        "colab": {
          "base_uri": "https://localhost:8080/"
        },
        "outputId": "97137f1e-fc5f-4885-ba45-33b4665a55c4"
      },
      "execution_count": 12,
      "outputs": [
        {
          "output_type": "execute_result",
          "data": {
            "text/plain": [
              "['30s', '10s', '0s']"
            ]
          },
          "metadata": {},
          "execution_count": 12
        }
      ]
    },
    {
      "cell_type": "code",
      "source": [
        "# 변수 여러개를 받는 함수에 적용\n",
        "def element_wise_sum(x, y, z) :\n",
        "  return x + y + z\n",
        "\n",
        "list(\n",
        "  map(\n",
        "      element_wise_sum,\n",
        "     [1,2,3], [1,3,5], [2,4,6]\n",
        "  )\n",
        ")"
      ],
      "metadata": {
        "id": "8w5Z0CZijxhb",
        "colab": {
          "base_uri": "https://localhost:8080/"
        },
        "outputId": "88d83b4c-07a7-432f-f0c2-f013d0415a93"
      },
      "execution_count": 18,
      "outputs": [
        {
          "output_type": "execute_result",
          "data": {
            "text/plain": [
              "[4, 9, 14]"
            ]
          },
          "metadata": {},
          "execution_count": 18
        }
      ]
    },
    {
      "cell_type": "code",
      "source": [
        "#위와 같음.. 쌤은 얘가 더 간편하대\n",
        "for x, y, z in zip([1,2,3], [1,3,5], [2,4,6]) :\n",
        "  print(element_wise_sum(x,y,z) )"
      ],
      "metadata": {
        "colab": {
          "base_uri": "https://localhost:8080/"
        },
        "id": "2g2eQjHSAnMX",
        "outputId": "15f908e3-99ad-49b1-9d8b-a3c42e90bb34"
      },
      "execution_count": null,
      "outputs": [
        {
          "output_type": "stream",
          "name": "stdout",
          "text": [
            "4\n",
            "9\n",
            "14\n"
          ]
        }
      ]
    },
    {
      "cell_type": "code",
      "source": [
        "#최종! 가장 파이토닉한 표현\n",
        "[ element_wise_sum(x,y,z) for x, y, z in zip([1,2,3], [1,3,5], [2,4,6]) ]\n",
        "#[표현식 for 항목 in 순회가능객체 [if조건]]"
      ],
      "metadata": {
        "colab": {
          "base_uri": "https://localhost:8080/"
        },
        "id": "Svhef7KPBQMJ",
        "outputId": "ac9f5523-9c92-48b4-d3c4-d81d9b5353af"
      },
      "execution_count": 20,
      "outputs": [
        {
          "output_type": "execute_result",
          "data": {
            "text/plain": [
              "[4, 9, 14]"
            ]
          },
          "metadata": {},
          "execution_count": 20
        }
      ]
    },
    {
      "cell_type": "markdown",
      "source": [
        "### 맥주병 노래 만들기"
      ],
      "metadata": {
        "id": "Wq4vT8cy03Zk"
      }
    },
    {
      "cell_type": "code",
      "source": [
        "# version 1\n",
        "def bottle(n):\n",
        "    for remainder in range(n, 0, -1) :\n",
        "      if remainder > 1:\n",
        "        s = \"bottles\"\n",
        "      else:\n",
        "        s = \"bottle\"\n",
        "      line1 = f\"{remainder} {s} of beer on the wall, \\n\"\n",
        "      line2 = f\"{remainder} {s} of beer,\\n\"\n",
        "      line3 = \"Take one down, pass it around, \\n\"\n",
        "\n",
        "      if remainder-1 > 1:\n",
        "        s = \"bottles\"\n",
        "      else :\n",
        "        s = \"bottle\"\n",
        "\n",
        "      if remainder-1 == 0:\n",
        "        line4 = \"No more bottles of beer on the wall!\"\n",
        "      else:\n",
        "        line4 = f\"{remainder-1} {s} of beer on the wall \\n\\n\"\n",
        "      print(line1+line2+line3+line4)\n",
        "bottle(3)"
      ],
      "metadata": {
        "id": "KMp3Mrpj024L",
        "colab": {
          "base_uri": "https://localhost:8080/"
        },
        "outputId": "f8f0edc9-f072-4cac-8bb0-12b556acc8a7"
      },
      "execution_count": null,
      "outputs": [
        {
          "output_type": "stream",
          "name": "stdout",
          "text": [
            "3 bottles of beer on the wall, \n",
            "3 bottles of beer,\n",
            "Take one down, pass it around, \n",
            "2 bottles of beer on the wall \n",
            "\n",
            "\n",
            "2 bottles of beer on the wall, \n",
            "2 bottles of beer,\n",
            "Take one down, pass it around, \n",
            "1 bottle of beer on the wall \n",
            "\n",
            "\n",
            "1 bottle of beer on the wall, \n",
            "1 bottle of beer,\n",
            "Take one down, pass it around, \n",
            "No more bottles of beer on the wall!\n"
          ]
        }
      ]
    },
    {
      "cell_type": "code",
      "source": [
        "# version 2\n",
        "def paragraph(n):\n",
        "  s1 = \"bottles\" if n > 1 else \"bottle\"\n",
        "  s2 = \"bottles\" if n-1 > 1 else \"bottle\"\n",
        "  last_sent = \"No more bottles\" if n-1 == 0 else f\"{n-1} {s2}\"\n",
        "\n",
        "  return '\\n'.join([\n",
        "      f\"{n} {s1} of beer on the wall,\",\n",
        "      f\"{n} {s1} of beer,\",\n",
        "      \"Take one down, pass it around,\",\n",
        "      f\"{last_sent} of beer on the wall!\"\n",
        "  ])\n",
        "\n",
        "def bottle(n):\n",
        "  print(\n",
        "      \"\\n\\n\".join(\n",
        "          map(\n",
        "              paragraph, range(n,0,-1)\n",
        "          )\n",
        "      )\n",
        "  )\n",
        "bottle(3)"
      ],
      "metadata": {
        "colab": {
          "base_uri": "https://localhost:8080/"
        },
        "id": "HcG6G0Hi5J4v",
        "outputId": "43189431-ee8e-4869-d3cd-3c85f83dd764"
      },
      "execution_count": null,
      "outputs": [
        {
          "output_type": "stream",
          "name": "stdout",
          "text": [
            "3 bottles of beer on the wall,\n",
            "3 bottles of beer,\n",
            "Take one down, pass it around,\n",
            "2 bottles of beer on the wall!\n",
            "\n",
            "2 bottles of beer on the wall,\n",
            "2 bottles of beer,\n",
            "Take one down, pass it around,\n",
            "1 bottle of beer on the wall!\n",
            "\n",
            "1 bottle of beer on the wall,\n",
            "1 bottle of beer,\n",
            "Take one down, pass it around,\n",
            "No more bottles of beer on the wall!\n"
          ]
        }
      ]
    },
    {
      "cell_type": "markdown",
      "metadata": {
        "id": "jRLNZ-iYPtVg"
      },
      "source": [
        "### [1] `*args`, `**kwargs`"
      ]
    },
    {
      "cell_type": "code",
      "metadata": {
        "id": "emezcX_oTdrf",
        "colab": {
          "base_uri": "https://localhost:8080/"
        },
        "outputId": "01c52990-f618-42be-d4e5-dfff8784a08a"
      },
      "source": [
        "###############################\n",
        "# 프린트 문은 가변인자를 받을 수 있음\n",
        "###############################\n",
        "print(1, 2, 3, 4)\n",
        "print(1, 2, 3, 4, 'aaa', 'bbb')"
      ],
      "execution_count": null,
      "outputs": [
        {
          "output_type": "stream",
          "name": "stdout",
          "text": [
            "1 2 3 4\n",
            "1 2 3 4 aaa bbb\n"
          ]
        }
      ]
    },
    {
      "cell_type": "code",
      "metadata": {
        "id": "FUpz0MFcP2gC",
        "colab": {
          "base_uri": "https://localhost:8080/"
        },
        "outputId": "177a0c09-3023-4601-dd8d-7c10d06472fa"
      },
      "source": [
        "##################################\n",
        "# 위치 인자를 가변으로 받는 프린트 함수를 작성하기\n",
        "# 함수의 인자를 *args로 지정하기\n",
        "##################################\n",
        "def print_args(*args):\n",
        "    # *args라는 인자로 모든 위치인자가 모여서 튜플로 정리됨\n",
        "    # 이제 print_args함수는 인자를 여러 개 지정하여 호출 할 수 있음\n",
        "    print(\"Positional argument tuple:\", args)\n",
        "\n",
        "# 위치 인자를 여러개 지정해서 함수를 호출하기\n",
        "print_args(1,2,3)"
      ],
      "execution_count": 37,
      "outputs": [
        {
          "output_type": "stream",
          "name": "stdout",
          "text": [
            "Positional argument tuple: (1, 2, 3)\n"
          ]
        }
      ]
    },
    {
      "cell_type": "code",
      "metadata": {
        "id": "y_D12-SyRRPQ",
        "colab": {
          "base_uri": "https://localhost:8080/"
        },
        "outputId": "622e542b-e487-46d8-cc94-0844789ee09b"
      },
      "source": [
        "def dc_marvel(superhero, actor, movie) :\n",
        "  return {'superhero' : superhero, 'actor' : actor, 'movie' : movie}\n",
        "\n",
        "print(dc_marvel('Batman', 'Ben affleck', 'Justice League')) #각 키:값 으로 출력해줌\n",
        "print(dc_marvel('Ben affleck', 'Justice League', 'Batman')) #순서를 잘못 배정해줘도 얘는 못 알아들어서 그냥 순서대로 키:값 나열해벌임!!\n",
        "#따라서 순서 중요!!\n",
        "\n",
        "#매개변수의 이름을 지정하면 순서 상관없이 이름만 맞추면 됨\n",
        "print(dc_marvel(actor='Ben affleck', superhero='Batman', movie='Justice League')) #키값을 직접 입력하면 순서 내맘대로 해도 됨"
      ],
      "execution_count": 35,
      "outputs": [
        {
          "output_type": "stream",
          "name": "stdout",
          "text": [
            "Positional argument tuple: (1, 2, 3)\n",
            "{'superhero': 'Batman', 'actor': 'Ben affleck', 'movie': 'Justice League'}\n",
            "{'superhero': 'Ben affleck', 'actor': 'Justice League', 'movie': 'Batman'}\n"
          ]
        }
      ]
    },
    {
      "cell_type": "code",
      "metadata": {
        "id": "0-PylanTRXFK",
        "colab": {
          "base_uri": "https://localhost:8080/"
        },
        "outputId": "638533c0-cb10-45bc-84dd-755be0735220"
      },
      "source": [
        "##################################\n",
        "# 키워드 인자를 가변으로 받는 프린트 함수를 작성하기\n",
        "# 함수의 인자를 **kwargs로 지정하기\n",
        "##################################\n",
        "def print_kwargs(**kwargs):\n",
        "    # **kwargs라는 인자로 모든 키워든 인자가 모여서 사전으로 정리됨\n",
        "    # kwargs라는 변수명은 관행적인 것으로 다른 이름으로 바꿔 적을 수 있으나\n",
        "    # 거의 kwargs를 사용하는 편\n",
        "    print(\"Keyword arugument dict:\", kwargs)   "
      ],
      "execution_count": 36,
      "outputs": [
        {
          "output_type": "stream",
          "name": "stdout",
          "text": [
            "{'superhero': 'Batman', 'actor': 'Ben affleck', 'movie': 'Justice League'}\n"
          ]
        }
      ]
    },
    {
      "cell_type": "code",
      "metadata": {
        "id": "gFdnLk7-Rd0h",
        "colab": {
          "base_uri": "https://localhost:8080/"
        },
        "outputId": "6d058302-4c69-49b2-b467-d7b3ef7dd63a"
      },
      "source": [
        "# 키워드 인자를 여러개 지정해서 함수를 호출\n",
        "print_kwargs(actor='Ben affleck', superhero='Batman')"
      ],
      "execution_count": null,
      "outputs": [
        {
          "output_type": "stream",
          "name": "stdout",
          "text": [
            "Keyword arugument dict: {'actor': 'Ben affleck', 'superhero': 'Batman'}\n"
          ]
        }
      ]
    },
    {
      "cell_type": "code",
      "metadata": {
        "id": "H2OGIjCfRkA-",
        "colab": {
          "base_uri": "https://localhost:8080/"
        },
        "outputId": "ead5c4f0-a46d-4659-ecc6-97661f5ee40d"
      },
      "source": [
        "##################################\n",
        "# 위치, 키워드 인자 모드드 가변으로 받는 프린트 함수를\n",
        "# print_all이라는 이름으로 작성\n",
        "# hint: *args, **kwargs를 동시에 지정\n",
        "##################################\n",
        "\n",
        "def print_all(*args, **kwargs) :\n",
        "    print(\"Positional argument tuple:\", args)\n",
        "    print(\"Keyword argument dict:\", kwargs)\n",
        "print_all(1,2,name='백현')   "
      ],
      "execution_count": 38,
      "outputs": [
        {
          "output_type": "stream",
          "name": "stdout",
          "text": [
            "Positional argument tuple: (1, 2)\n",
            "Keyword argument dict: {'name': '백현'}\n"
          ]
        }
      ]
    },
    {
      "cell_type": "code",
      "metadata": {
        "id": "EjrCQc3yRrm9",
        "colab": {
          "base_uri": "https://localhost:8080/"
        },
        "outputId": "c17f35bc-5867-44e1-b36c-7f6914a27c94"
      },
      "source": [
        "# print_all()를 위치 인자, 키워드 인자를 함께 넘기면서 호출\n",
        "print_all(10, 20, 'aa', 'bb', a=1, b=2, c=(123,), luck='lucky7')\n",
        "\n",
        "# print_all(10, 20, 'aa', 'bb', a=1, b=2, c=(123,), luck='lucky7', 88) \n",
        "# 위 코드는 에러! 위치 인자는 위치 인자끼리, 키워드 인자는 키워드 인자끼리 모여야 함"
      ],
      "execution_count": 48,
      "outputs": [
        {
          "output_type": "stream",
          "name": "stdout",
          "text": [
            "Positional argument tuple: (10, 20, 'aa', 'bb')\n",
            "Keyword argument dict: {'a': 1, 'b': 2, 'c': (123,), 'luck': 'lucky7'}\n"
          ]
        }
      ]
    },
    {
      "cell_type": "code",
      "metadata": {
        "id": "9dujC2R0R1kA",
        "colab": {
          "base_uri": "https://localhost:8080/",
          "height": 136
        },
        "outputId": "117560aa-6ce6-404b-8f4b-a8cc83fd21ea"
      },
      "source": [
        "##################################\n",
        "# 위치 인자와 키워드인자 위치를 뒤섞은 다음 함수를 호출\n",
        "##################################\n",
        "print_all(10, 20, 'aa',  a=1, b=2, 'bb', c=(123)) #SyntaxError\n",
        "\n",
        "# 위치 인자는 위치 인자끼리 키워드 인자는 키워드 인자끼리 모여 있어야 함"
      ],
      "execution_count": null,
      "outputs": [
        {
          "output_type": "error",
          "ename": "SyntaxError",
          "evalue": "ignored",
          "traceback": [
            "\u001b[0;36m  File \u001b[0;32m\"<ipython-input-7-5579f1156a62>\"\u001b[0;36m, line \u001b[0;32m5\u001b[0m\n\u001b[0;31m    print_all(10, 20, 'aa',  a=1, b=2, 'bb', c=(123))\u001b[0m\n\u001b[0m                                      ^\u001b[0m\n\u001b[0;31mSyntaxError\u001b[0m\u001b[0;31m:\u001b[0m positional argument follows keyword argument\n"
          ]
        }
      ]
    },
    {
      "cell_type": "code",
      "metadata": {
        "id": "mbmLZwCIR8oQ",
        "colab": {
          "base_uri": "https://localhost:8080/",
          "height": 139
        },
        "outputId": "b1d9cc1b-8d06-4c59-f7a1-a8305ced0dd8"
      },
      "source": [
        "##################################\n",
        "# 키워드 인자를 먼저 적고 위치인자를 나중에 적은 다음 함수를 호출\n",
        "##################################\n",
        "print_all(a=1, b=2, c=(123), 10, 20, 'aa',  'bb')\n",
        "\n",
        "# 순서도 위치 인자가 키워드 인자앞에 와야 함"
      ],
      "execution_count": null,
      "outputs": [
        {
          "output_type": "error",
          "ename": "SyntaxError",
          "evalue": "ignored",
          "traceback": [
            "\u001b[0;36m  File \u001b[0;32m\"<ipython-input-1-f2f3665836dd>\"\u001b[0;36m, line \u001b[0;32m4\u001b[0m\n\u001b[0;31m    print_all(a=1, b=2, c=(123), 10, 20, 'aa',  'bb')\u001b[0m\n\u001b[0m                                ^\u001b[0m\n\u001b[0;31mSyntaxError\u001b[0m\u001b[0;31m:\u001b[0m positional argument follows keyword argument\n"
          ]
        }
      ]
    },
    {
      "cell_type": "markdown",
      "metadata": {
        "id": "D1SYVKhRViz3"
      },
      "source": [
        "- 위 두 셀의 실행 결과를 보면 위치인자는 반드시 키워드 인자 앞에 위치 해야 한다."
      ]
    },
    {
      "cell_type": "markdown",
      "metadata": {
        "id": "_5aKZOYs83T-"
      },
      "source": [
        "### [2] 인자 풀기"
      ]
    },
    {
      "cell_type": "code",
      "metadata": {
        "id": "nav8rFz19lfl"
      },
      "source": [
        "#########################################\n",
        "# 3차원 벡터의 콤포넌트를 출력하는 함수 \n",
        "#########################################\n",
        "#함수에 전달되는 인자를 시퀀스형 그대로 전달하기\n",
        "def print_vector(x, y, z):\n",
        "    print(f\"{x}, {y}, {z}\")"
      ],
      "execution_count": 1,
      "outputs": []
    },
    {
      "cell_type": "code",
      "metadata": {
        "id": "Unj_XUY_9tzu",
        "colab": {
          "base_uri": "https://localhost:8080/"
        },
        "outputId": "e29e442c-8357-45ff-9130-c7a22410f08f"
      },
      "source": [
        "# 함수를 호출\n",
        "print_vector(1,2,3)\n",
        "\n",
        "# 튜플을 바로 넘기면 에러가 나지만\n",
        "# *(...) 식으로 *를 붙여서 튜플을 풀면서 에러가  나지 않고 위치를 맞춰서 호출됨\n",
        "v1 = (100, 200, 300)\n",
        "print_vector(*v1)\n",
        "\n",
        "# **로 사전을 풀어서 함수를 호출합니다.\n",
        "v2 = {'x': 10, 'y':20, 'z':30}\n",
        "print_vector(**v2)\n"
      ],
      "execution_count": 2,
      "outputs": [
        {
          "output_type": "stream",
          "name": "stdout",
          "text": [
            "1, 2, 3\n",
            "100, 200, 300\n",
            "10, 20, 30\n"
          ]
        }
      ]
    },
    {
      "cell_type": "code",
      "source": [
        "# 패킹, 언패킹과 관련된 함수임\n",
        "a, b, c = (1, 2, 3) # 언패킹\n",
        "print(a)\n",
        "d = 1, 2, 3 # 패킹\n",
        "print(d) \n",
        "\n",
        "def pack(x, y, z): # pack은 인자가 3개 필요한 함수\n",
        "  print(x, y, z)\n",
        "\n",
        "a = (1, 2, 3) \n",
        "# pack(a)\n",
        "# 이렇게 세 인자를 튜플로 묶어버리면\n",
        "# pack이라는 함수에서 x=(1,2,3)으로 인식하기 때문에 y,z는 인자가 없는 것으로 간주되어 에러\n",
        "pack(*a) # 이 때 *를 써주면 자동으로 언패킹해줌"
      ],
      "metadata": {
        "colab": {
          "base_uri": "https://localhost:8080/"
        },
        "id": "V202Pm3-75kU",
        "outputId": "0df93b15-20cc-4526-f3c8-15106bb1a183"
      },
      "execution_count": 8,
      "outputs": [
        {
          "output_type": "stream",
          "name": "stdout",
          "text": [
            "1\n",
            "(1, 2, 3)\n",
            "1 2 3\n"
          ]
        }
      ]
    },
    {
      "cell_type": "markdown",
      "metadata": {
        "id": "Oq9za7BhC1Ki"
      },
      "source": [
        "### [3] 함수를 리턴: 클로저"
      ]
    },
    {
      "cell_type": "code",
      "metadata": {
        "id": "6WiGgGqKCjqd"
      },
      "source": [
        "########################################\n",
        "# 함수를 리턴하는 함수를 작성\n",
        "########################################\n",
        "#변수 뿐 아니라 함수도 리턴\n",
        "#목적 1)함수 내부에서 길게 반복되는 부분을 함수로 만들어 반복호출\n",
        "#     2)외부 함수의 로컬 변수를 기억하는 함수를 만들어 이용\n",
        "\n",
        "def make_func(k):  #외부함수\n",
        "    def k_times(x): #내부에서 함수를 만들어 return\n",
        "        return k*x\n",
        "\n",
        "    return k_times # 리턴에는 두 번째 함수 이름"
      ],
      "execution_count": 10,
      "outputs": []
    },
    {
      "cell_type": "code",
      "metadata": {
        "id": "-UXfHKMGCjng"
      },
      "source": [
        "########################################\n",
        "# 몇가지 함수를 만들어 보기\n",
        "# 리턴되는 함수는 \n",
        "# def k_times(x):\n",
        "#     return 5*x\n",
        "# 라는 함수가 됨.\n",
        "test_5 = make_func(5) # 이렇게하면 k=5로 고정되어서 test_5라는 함수로 저장을 함.\n",
        "#이제 test_5라는 함수엔 k=5로 채워진 make_fun이 들어감 ( k_times 함수의 x는 미입력 상태로 make_func이 들어감)\n",
        "test_3 = make_func(3) #k=3"
      ],
      "execution_count": 13,
      "outputs": []
    },
    {
      "cell_type": "code",
      "metadata": {
        "id": "0hwZpGQzCjk2",
        "colab": {
          "base_uri": "https://localhost:8080/"
        },
        "outputId": "cec4d423-3d06-40ad-8e11-82ff09d79448"
      },
      "source": [
        "########################################\n",
        "# 만들어진 함수의 호출 결과를 확인\n",
        "print(test_5(10)) # x=10 대입\n",
        "print(test_3(10))"
      ],
      "execution_count": 14,
      "outputs": [
        {
          "output_type": "stream",
          "name": "stdout",
          "text": [
            "50\n",
            "30\n"
          ]
        }
      ]
    },
    {
      "cell_type": "markdown",
      "metadata": {
        "id": "Ot2fhw0XRnUC"
      },
      "source": [
        "### [4] 제너레이터"
      ]
    },
    {
      "cell_type": "code",
      "metadata": {
        "id": "7QW_pW6zF2DO"
      },
      "source": [
        "########################################\n",
        "# yield를 세번 정적으로 부르는 함수를 작성\n",
        "\n",
        "def gen_123():  #제너레이터 함수\n",
        "    yield 1\n",
        "    yield 2\n",
        "    yield 3"
      ],
      "execution_count": 15,
      "outputs": []
    },
    {
      "cell_type": "code",
      "metadata": {
        "id": "WZAe1MugF8Ay",
        "colab": {
          "base_uri": "https://localhost:8080/"
        },
        "outputId": "8af5d640-b5f1-48cb-e5d4-414ae2ec142a"
      },
      "source": [
        "#####################################\n",
        "# 함수를 호출하고 반환값을 g에 저장\n",
        "g = gen_123()\n",
        "\n",
        "# g는 어떤 타입인가?\n",
        "type(g)"
      ],
      "execution_count": 16,
      "outputs": [
        {
          "output_type": "execute_result",
          "data": {
            "text/plain": [
              "generator"
            ]
          },
          "metadata": {},
          "execution_count": 16
        }
      ]
    },
    {
      "cell_type": "code",
      "metadata": {
        "id": "xTdD11n-F-0q",
        "colab": {
          "base_uri": "https://localhost:8080/"
        },
        "outputId": "3f4ee7d9-9286-44c7-f819-e1b4c1715611"
      },
      "source": [
        "######################################\n",
        "# next()를 사용하여 yield를 하나씩 실행\n",
        "# next() 호출될 때 마다 gen_123()함수 내부에 yield 문이 하나씩 실행되면서\n",
        "# 1, 2, 3을 순차적으로 리턴\n",
        "print(next(g))\n",
        "print(next(g))\n",
        "print(next(g))"
      ],
      "execution_count": 17,
      "outputs": [
        {
          "output_type": "stream",
          "name": "stdout",
          "text": [
            "1\n",
            "2\n",
            "3\n"
          ]
        }
      ]
    },
    {
      "cell_type": "code",
      "metadata": {
        "id": "t9Ld6mzyGJQw",
        "colab": {
          "base_uri": "https://localhost:8080/",
          "height": 251
        },
        "outputId": "f1e4714d-6222-4ef7-947b-74f361f6a201"
      },
      "source": [
        "#####################################\n",
        "# 다시 한번 next()를 실행\n",
        "next(g)\n",
        "\n",
        "# 모든 yield가 실행되었으므로 다시 g를 생성하기 전에는 에러!!! "
      ],
      "execution_count": 19,
      "outputs": [
        {
          "output_type": "error",
          "ename": "StopIteration",
          "evalue": "ignored",
          "traceback": [
            "\u001b[0;31m---------------------------------------------------------------------------\u001b[0m",
            "\u001b[0;31mStopIteration\u001b[0m                             Traceback (most recent call last)",
            "\u001b[0;32m<ipython-input-19-b3953f84913f>\u001b[0m in \u001b[0;36m<module>\u001b[0;34m()\u001b[0m\n\u001b[1;32m      1\u001b[0m \u001b[0;31m#####################################\u001b[0m\u001b[0;34m\u001b[0m\u001b[0;34m\u001b[0m\u001b[0;34m\u001b[0m\u001b[0m\n\u001b[1;32m      2\u001b[0m \u001b[0;31m# 다시 한번 next()를 실행\u001b[0m\u001b[0;34m\u001b[0m\u001b[0;34m\u001b[0m\u001b[0;34m\u001b[0m\u001b[0m\n\u001b[0;32m----> 3\u001b[0;31m \u001b[0mnext\u001b[0m\u001b[0;34m(\u001b[0m\u001b[0mg\u001b[0m\u001b[0;34m)\u001b[0m\u001b[0;34m\u001b[0m\u001b[0;34m\u001b[0m\u001b[0m\n\u001b[0m\u001b[1;32m      4\u001b[0m \u001b[0;34m\u001b[0m\u001b[0m\n\u001b[1;32m      5\u001b[0m \u001b[0;31m# 모든 yield가 실행되었으므로 다시 g를 생성하기 전에는 에러!!!\u001b[0m\u001b[0;34m\u001b[0m\u001b[0;34m\u001b[0m\u001b[0;34m\u001b[0m\u001b[0m\n",
            "\u001b[0;31mStopIteration\u001b[0m: "
          ]
        }
      ]
    },
    {
      "cell_type": "markdown",
      "source": [
        "+ 미니배치 할 때 제너레이터 원리가 이용됨.. "
      ],
      "metadata": {
        "id": "613j2OZzsR6j"
      }
    },
    {
      "cell_type": "code",
      "metadata": {
        "id": "-Sp0F80PPQhP"
      },
      "source": [
        "##############################################\n",
        "# range함수를 간단히 구현하기\n",
        "def my_range(first=0, last=10, step=1):\n",
        "    number = first\n",
        "    while number < last:\n",
        "        yield number # number를 리턴하고 잠시 멈춤\n",
        "        number += step # 다음 호출에서 여기부터 실행됨"
      ],
      "execution_count": 20,
      "outputs": []
    },
    {
      "cell_type": "code",
      "metadata": {
        "colab": {
          "base_uri": "https://localhost:8080/"
        },
        "id": "DuusnONMD79K",
        "outputId": "3783d230-f857-4bad-c82d-7a6741410205"
      },
      "source": [
        "##########################################\n",
        "# 함수를 실행하여 generator객체를 받아오기\n",
        "foo = my_range(0, 5)\n",
        "foo"
      ],
      "execution_count": 27,
      "outputs": [
        {
          "output_type": "execute_result",
          "data": {
            "text/plain": [
              "<generator object my_range at 0x7f1450ac83d0>"
            ]
          },
          "metadata": {},
          "execution_count": 27
        }
      ]
    },
    {
      "cell_type": "code",
      "metadata": {
        "id": "GiItZiHDFWvK",
        "colab": {
          "base_uri": "https://localhost:8080/"
        },
        "outputId": "3a0638a5-5f37-41ae-9606-65992c2871bf"
      },
      "source": [
        "########################################\n",
        "# 만든 객체를 for문에 테스트\n",
        "for i in foo:\n",
        "    print(i)"
      ],
      "execution_count": 28,
      "outputs": [
        {
          "output_type": "stream",
          "name": "stdout",
          "text": [
            "0\n",
            "1\n",
            "2\n",
            "3\n",
            "4\n"
          ]
        }
      ]
    },
    {
      "cell_type": "code",
      "metadata": {
        "id": "rv8kNjE5Fczn",
        "colab": {
          "base_uri": "https://localhost:8080/"
        },
        "outputId": "86768357-29f9-4141-ca96-5d6e17ba0c78"
      },
      "source": [
        "####################################\n",
        "# foo는 어떤 타입인가?\n",
        "type(foo)"
      ],
      "execution_count": 29,
      "outputs": [
        {
          "output_type": "execute_result",
          "data": {
            "text/plain": [
              "generator"
            ]
          },
          "metadata": {},
          "execution_count": 29
        }
      ]
    },
    {
      "cell_type": "code",
      "metadata": {
        "id": "MLYMpuOrFd_i",
        "colab": {
          "base_uri": "https://localhost:8080/",
          "height": 213
        },
        "outputId": "fb989dc7-40ab-4411-a2f9-6fe2ef6193b3"
      },
      "source": [
        "######################################\n",
        "# next()를 한번 더하면?\n",
        "next(foo) #다 제너레이트 돼서 에러.. "
      ],
      "execution_count": 24,
      "outputs": [
        {
          "output_type": "error",
          "ename": "StopIteration",
          "evalue": "ignored",
          "traceback": [
            "\u001b[0;31m---------------------------------------------------------------------------\u001b[0m",
            "\u001b[0;31mStopIteration\u001b[0m                             Traceback (most recent call last)",
            "\u001b[0;32m<ipython-input-24-e8c8f9e5f436>\u001b[0m in \u001b[0;36m<module>\u001b[0;34m()\u001b[0m\n\u001b[1;32m      1\u001b[0m \u001b[0;31m######################################\u001b[0m\u001b[0;34m\u001b[0m\u001b[0;34m\u001b[0m\u001b[0;34m\u001b[0m\u001b[0m\n\u001b[1;32m      2\u001b[0m \u001b[0;31m# next()를 한번 더하면?\u001b[0m\u001b[0;34m\u001b[0m\u001b[0;34m\u001b[0m\u001b[0;34m\u001b[0m\u001b[0m\n\u001b[0;32m----> 3\u001b[0;31m \u001b[0mnext\u001b[0m\u001b[0;34m(\u001b[0m\u001b[0mfoo\u001b[0m\u001b[0;34m)\u001b[0m \u001b[0;31m#다 제너레이트 돼서 에러..\u001b[0m\u001b[0;34m\u001b[0m\u001b[0;34m\u001b[0m\u001b[0m\n\u001b[0m",
            "\u001b[0;31mStopIteration\u001b[0m: "
          ]
        }
      ]
    },
    {
      "cell_type": "code",
      "metadata": {
        "id": "QyER1TL0GNkd"
      },
      "source": [
        "##########################################\n",
        "# for문에서는 어떤지  테스트\n",
        "for i in foo:\n",
        "    print(i)\n",
        "\n",
        "# 에러를 내지 않고 아무 일도 일어나지 않는다. => 다 제너레이트 돼서..."
      ],
      "execution_count": 30,
      "outputs": []
    },
    {
      "cell_type": "code",
      "source": [
        "#--- pytorch에서 decorator 사용 예 ---#\n",
        "x = torch.tensor([1], requires_grad = True)\n",
        "with torch.no_grad() :\n",
        "  y = x*2\n",
        "y.requires_grad\n",
        "\n",
        "@torch.no_grad()\n",
        "def doubler(x):\n",
        "  return x * 2 \n",
        "z = doubler(x)\n",
        "z.requires_grad"
      ],
      "metadata": {
        "id": "sLORI-bGPePq",
        "colab": {
          "base_uri": "https://localhost:8080/",
          "height": 251
        },
        "outputId": "3c400125-ada6-4f64-cb7f-6b973043f0dc"
      },
      "execution_count": 31,
      "outputs": [
        {
          "output_type": "error",
          "ename": "NameError",
          "evalue": "ignored",
          "traceback": [
            "\u001b[0;31m---------------------------------------------------------------------------\u001b[0m",
            "\u001b[0;31mNameError\u001b[0m                                 Traceback (most recent call last)",
            "\u001b[0;32m<ipython-input-31-471986395758>\u001b[0m in \u001b[0;36m<module>\u001b[0;34m()\u001b[0m\n\u001b[1;32m      1\u001b[0m \u001b[0;31m#--- pytorch에서 decorator 사용 예 ---#\u001b[0m\u001b[0;34m\u001b[0m\u001b[0;34m\u001b[0m\u001b[0;34m\u001b[0m\u001b[0m\n\u001b[0;32m----> 2\u001b[0;31m \u001b[0mx\u001b[0m \u001b[0;34m=\u001b[0m \u001b[0mtorch\u001b[0m\u001b[0;34m.\u001b[0m\u001b[0mtensor\u001b[0m\u001b[0;34m(\u001b[0m\u001b[0;34m[\u001b[0m\u001b[0;36m1\u001b[0m\u001b[0;34m]\u001b[0m\u001b[0;34m,\u001b[0m \u001b[0mrequires_grad\u001b[0m \u001b[0;34m=\u001b[0m \u001b[0;32mTrue\u001b[0m\u001b[0;34m)\u001b[0m\u001b[0;34m\u001b[0m\u001b[0;34m\u001b[0m\u001b[0m\n\u001b[0m\u001b[1;32m      3\u001b[0m \u001b[0;32mwith\u001b[0m \u001b[0mtorch\u001b[0m\u001b[0;34m.\u001b[0m\u001b[0mno_grad\u001b[0m\u001b[0;34m(\u001b[0m\u001b[0;34m)\u001b[0m \u001b[0;34m:\u001b[0m\u001b[0;34m\u001b[0m\u001b[0;34m\u001b[0m\u001b[0m\n\u001b[1;32m      4\u001b[0m   \u001b[0my\u001b[0m \u001b[0;34m=\u001b[0m \u001b[0mx\u001b[0m\u001b[0;34m*\u001b[0m\u001b[0;36m2\u001b[0m\u001b[0;34m\u001b[0m\u001b[0;34m\u001b[0m\u001b[0m\n\u001b[1;32m      5\u001b[0m \u001b[0my\u001b[0m\u001b[0;34m.\u001b[0m\u001b[0mrequires_grad\u001b[0m\u001b[0;34m\u001b[0m\u001b[0;34m\u001b[0m\u001b[0m\n",
            "\u001b[0;31mNameError\u001b[0m: name 'torch' is not defined"
          ]
        }
      ]
    },
    {
      "cell_type": "markdown",
      "metadata": {
        "id": "dRvPxKIGMeb6"
      },
      "source": [
        "### [5] 데코레이터"
      ]
    },
    {
      "cell_type": "code",
      "metadata": {
        "id": "3nzjtcamMunJ"
      },
      "source": [
        "#########################################\n",
        "# 데코레이터를 만들기\n",
        "\n",
        "def format_hex(func): # 인자가 함수임...!! \n",
        "    # 클로저 기능을 사용하여 내부 함수를 리턴하는 함수를 만듦\n",
        "    # 이 내부함수는 format_hex가 전달받은 함수를 호출해서\n",
        "    # 그 반환결과에 어떤 추가 작업을 하는 함수\n",
        "    # 전달받은 함수의 인자를 미리 알 수 없으니 *args, **kwargs를 사용해서\n",
        "    # 임의의 인자를 처리하게 함\n",
        "    def new_func(*args, **kwargs):\n",
        "      ret = func(*args, **kwargs)\n",
        "      # 16진수로 변경, ret가 float인 경우 int로\n",
        "      return hex(int(ret))\n",
        "    return new_func # 내부 함수 리턴\n"
      ],
      "execution_count": 34,
      "outputs": []
    },
    {
      "cell_type": "code",
      "metadata": {
        "id": "uD9d3ttyNqok"
      },
      "source": [
        "#########################################\n",
        "# 데코레이터를 함수처럼 불러서 데코레이팅된 함수를 생성\n",
        "times_5_hex = format_hex(test_5) # 함수를 인자로 함!!\n",
        "# test_5 = make_func(5)\n",
        "\n",
        "# times_5는 숫자 하나를 인자로 받는 함수지만 일반적으로는 뭘 받는지는 우리가 모르기 때문에\n",
        "# *args, **kewargs (가변인자) 넣어서 다 받을 수 있게 함\n",
        "# 이제 new_func이 times_5_hex가 되는 것임..  "
      ],
      "execution_count": 38,
      "outputs": []
    },
    {
      "cell_type": "code",
      "metadata": {
        "id": "_ydSFDXQNql_",
        "colab": {
          "base_uri": "https://localhost:8080/",
          "height": 36
        },
        "outputId": "01cad65b-9dc5-4c51-f7e6-c1815517333b"
      },
      "source": [
        "##########################################\n",
        "# 동작확인\n",
        "times_5_hex(5)\n",
        "\n",
        "# 25가 16진수로 변환됨"
      ],
      "execution_count": 39,
      "outputs": [
        {
          "output_type": "execute_result",
          "data": {
            "text/plain": [
              "'0x19'"
            ],
            "application/vnd.google.colaboratory.intrinsic+json": {
              "type": "string"
            }
          },
          "metadata": {},
          "execution_count": 39
        }
      ]
    },
    {
      "cell_type": "code",
      "metadata": {
        "id": "P6uprjnENqeP"
      },
      "source": [
        "#########################################\n",
        "# 데코레이터 문법을 사용하여 데코레이팅된 함수를 생성\n",
        "@format_hex\n",
        "def times_10(a):\n",
        "    return a*10"
      ],
      "execution_count": 40,
      "outputs": []
    },
    {
      "cell_type": "code",
      "metadata": {
        "id": "DFXgSfC-PD7a",
        "colab": {
          "base_uri": "https://localhost:8080/",
          "height": 36
        },
        "outputId": "d1b6dd42-a902-4ac0-8323-8f4629070685"
      },
      "source": [
        "#########################################\n",
        "# 동작확인\n",
        "times_10(10)"
      ],
      "execution_count": 41,
      "outputs": [
        {
          "output_type": "execute_result",
          "data": {
            "text/plain": [
              "'0x64'"
            ],
            "application/vnd.google.colaboratory.intrinsic+json": {
              "type": "string"
            }
          },
          "metadata": {},
          "execution_count": 41
        }
      ]
    },
    {
      "cell_type": "code",
      "metadata": {
        "id": "ihPSL80WSKde"
      },
      "source": [
        "########################################\n",
        "# 인자를 여러개 받는 함수도 데코레이팅 될까?\n",
        "@format_hex\n",
        "def complicate_calc(a, b, c):\n",
        "    return (a*b)/c"
      ],
      "execution_count": 42,
      "outputs": []
    },
    {
      "cell_type": "code",
      "metadata": {
        "id": "5Vx7yPM-S3n1",
        "colab": {
          "base_uri": "https://localhost:8080/",
          "height": 36
        },
        "outputId": "1aa8f8b7-927f-4af7-c73a-a8839c86a1ef"
      },
      "source": [
        "####################################\n",
        "# 만들어진 함수를 위치 인자로 호출\n",
        "complicate_calc(10, 20, 30)\n",
        "# 가변인자로 넣었기 때문에 가능"
      ],
      "execution_count": 44,
      "outputs": [
        {
          "output_type": "execute_result",
          "data": {
            "text/plain": [
              "'0x6'"
            ],
            "application/vnd.google.colaboratory.intrinsic+json": {
              "type": "string"
            }
          },
          "metadata": {},
          "execution_count": 44
        }
      ]
    },
    {
      "cell_type": "code",
      "metadata": {
        "id": "xXiinoouSrhk",
        "colab": {
          "base_uri": "https://localhost:8080/",
          "height": 36
        },
        "outputId": "749e2c5d-9003-4348-9ea4-7ccf9f577467"
      },
      "source": [
        "#####################################\n",
        "# 만들어진 함수를 키워드 인자로 호출\n",
        "complicate_calc(a=10, c=20, b=30)\n",
        "# 가변인자로 넣었기 때문에 가능"
      ],
      "execution_count": 45,
      "outputs": [
        {
          "output_type": "execute_result",
          "data": {
            "text/plain": [
              "'0xf'"
            ],
            "application/vnd.google.colaboratory.intrinsic+json": {
              "type": "string"
            }
          },
          "metadata": {},
          "execution_count": 45
        }
      ]
    },
    {
      "cell_type": "markdown",
      "metadata": {
        "id": "WBs8KXxTLrYD"
      },
      "source": [
        "### [6] 예외처리 try except finally"
      ]
    },
    {
      "cell_type": "code",
      "metadata": {
        "id": "PDD3OTcOLqeN",
        "colab": {
          "base_uri": "https://localhost:8080/",
          "height": 381
        },
        "outputId": "e99cc3b0-2f18-466a-aed8-663908ef61d5"
      },
      "source": [
        "# 다음 함수는 문법적으로 아무런 문제가 없지만.\n",
        "def div(a, b):\n",
        "    return a/b\n",
        "\n",
        "print(f\"4/2={div(4,2)}\")\n",
        "print(f\"0/2={div(0,2)}\")\n",
        "\n",
        "# 예기치 않은 인자에 의해 실행시간에 에러를 발생시킴\n",
        "print(f\"4/0={div(4,0)}\") # 0으로 못 나누니까 ZeroDivisionError: division by zero"
      ],
      "execution_count": 46,
      "outputs": [
        {
          "output_type": "stream",
          "name": "stdout",
          "text": [
            "4/2=2.0\n",
            "0/2=0.0\n"
          ]
        },
        {
          "output_type": "error",
          "ename": "ZeroDivisionError",
          "evalue": "ignored",
          "traceback": [
            "\u001b[0;31m---------------------------------------------------------------------------\u001b[0m",
            "\u001b[0;31mZeroDivisionError\u001b[0m                         Traceback (most recent call last)",
            "\u001b[0;32m<ipython-input-46-322d71ba1fb4>\u001b[0m in \u001b[0;36m<module>\u001b[0;34m()\u001b[0m\n\u001b[1;32m      7\u001b[0m \u001b[0;34m\u001b[0m\u001b[0m\n\u001b[1;32m      8\u001b[0m \u001b[0;31m# 예기치 않은 인자에 의해 실행시간에 에러를 발생시킴\u001b[0m\u001b[0;34m\u001b[0m\u001b[0;34m\u001b[0m\u001b[0;34m\u001b[0m\u001b[0m\n\u001b[0;32m----> 9\u001b[0;31m \u001b[0mprint\u001b[0m\u001b[0;34m(\u001b[0m\u001b[0;34mf\"4/0={div(4,0)}\"\u001b[0m\u001b[0;34m)\u001b[0m \u001b[0;31m# 0으로 못 나누니까 ZeroDivisionError: division by zero\u001b[0m\u001b[0;34m\u001b[0m\u001b[0;34m\u001b[0m\u001b[0m\n\u001b[0m",
            "\u001b[0;32m<ipython-input-46-322d71ba1fb4>\u001b[0m in \u001b[0;36mdiv\u001b[0;34m(a, b)\u001b[0m\n\u001b[1;32m      1\u001b[0m \u001b[0;31m# 다음 함수는 문법적으로 아무런 문제가 없지만.\u001b[0m\u001b[0;34m\u001b[0m\u001b[0;34m\u001b[0m\u001b[0;34m\u001b[0m\u001b[0m\n\u001b[1;32m      2\u001b[0m \u001b[0;32mdef\u001b[0m \u001b[0mdiv\u001b[0m\u001b[0;34m(\u001b[0m\u001b[0ma\u001b[0m\u001b[0;34m,\u001b[0m \u001b[0mb\u001b[0m\u001b[0;34m)\u001b[0m\u001b[0;34m:\u001b[0m\u001b[0;34m\u001b[0m\u001b[0;34m\u001b[0m\u001b[0m\n\u001b[0;32m----> 3\u001b[0;31m     \u001b[0;32mreturn\u001b[0m \u001b[0ma\u001b[0m\u001b[0;34m/\u001b[0m\u001b[0mb\u001b[0m\u001b[0;34m\u001b[0m\u001b[0;34m\u001b[0m\u001b[0m\n\u001b[0m\u001b[1;32m      4\u001b[0m \u001b[0;34m\u001b[0m\u001b[0m\n\u001b[1;32m      5\u001b[0m \u001b[0mprint\u001b[0m\u001b[0;34m(\u001b[0m\u001b[0;34mf\"4/2={div(4,2)}\"\u001b[0m\u001b[0;34m)\u001b[0m\u001b[0;34m\u001b[0m\u001b[0;34m\u001b[0m\u001b[0m\n",
            "\u001b[0;31mZeroDivisionError\u001b[0m: division by zero"
          ]
        }
      ]
    },
    {
      "cell_type": "code",
      "metadata": {
        "id": "X4MfOhDxL1Ye",
        "colab": {
          "base_uri": "https://localhost:8080/",
          "height": 437
        },
        "outputId": "b0096725-8ae4-4d19-d3ab-26dea0165b54"
      },
      "source": [
        "# 0으로 나누는 경우를 대비하기 위해 if 문을 사용할 수 있음\n",
        "def div2(a, b):\n",
        "    if b == 0 :\n",
        "        print('0으로 나눌 수 없습니다.')\n",
        "        return None\n",
        "    else:\n",
        "        return a/b\n",
        "\n",
        "print(f\"4/2={div2(4,2)}\")\n",
        "print(f\"0/2={div2(0,2)}\")\n",
        "print(f\"4/0={div2(4,0)}\")\n",
        "\n",
        "# 하지만 실행시간에 또 다른 예외가 발생할 수 있음\n",
        "print(f\"4/0={div2(4,'c')}\") #나눗셈에 문자 넣었으니 error!! TypeError: unsupported operand type(s) for /: 'int' and 'str'"
      ],
      "execution_count": 47,
      "outputs": [
        {
          "output_type": "stream",
          "name": "stdout",
          "text": [
            "4/2=2.0\n",
            "0/2=0.0\n",
            "0으로 나눌 수 없습니다.\n",
            "4/0=None\n"
          ]
        },
        {
          "output_type": "error",
          "ename": "TypeError",
          "evalue": "ignored",
          "traceback": [
            "\u001b[0;31m---------------------------------------------------------------------------\u001b[0m",
            "\u001b[0;31mTypeError\u001b[0m                                 Traceback (most recent call last)",
            "\u001b[0;32m<ipython-input-47-a344e324663e>\u001b[0m in \u001b[0;36m<module>\u001b[0;34m()\u001b[0m\n\u001b[1;32m     12\u001b[0m \u001b[0;34m\u001b[0m\u001b[0m\n\u001b[1;32m     13\u001b[0m \u001b[0;31m# 하지만 실행시간에 또 다른 예외가 발생할 수 있음\u001b[0m\u001b[0;34m\u001b[0m\u001b[0;34m\u001b[0m\u001b[0;34m\u001b[0m\u001b[0m\n\u001b[0;32m---> 14\u001b[0;31m \u001b[0mprint\u001b[0m\u001b[0;34m(\u001b[0m\u001b[0;34mf\"4/0={div2(4,'c')}\"\u001b[0m\u001b[0;34m)\u001b[0m \u001b[0;31m#나눗셈에 문자 넣었으니 error!! TypeError: unsupported operand type(s) for /: 'int' and 'str'\u001b[0m\u001b[0;34m\u001b[0m\u001b[0;34m\u001b[0m\u001b[0m\n\u001b[0m",
            "\u001b[0;32m<ipython-input-47-a344e324663e>\u001b[0m in \u001b[0;36mdiv2\u001b[0;34m(a, b)\u001b[0m\n\u001b[1;32m      5\u001b[0m         \u001b[0;32mreturn\u001b[0m \u001b[0;32mNone\u001b[0m\u001b[0;34m\u001b[0m\u001b[0;34m\u001b[0m\u001b[0m\n\u001b[1;32m      6\u001b[0m     \u001b[0;32melse\u001b[0m\u001b[0;34m:\u001b[0m\u001b[0;34m\u001b[0m\u001b[0;34m\u001b[0m\u001b[0m\n\u001b[0;32m----> 7\u001b[0;31m         \u001b[0;32mreturn\u001b[0m \u001b[0ma\u001b[0m\u001b[0;34m/\u001b[0m\u001b[0mb\u001b[0m\u001b[0;34m\u001b[0m\u001b[0;34m\u001b[0m\u001b[0m\n\u001b[0m\u001b[1;32m      8\u001b[0m \u001b[0;34m\u001b[0m\u001b[0m\n\u001b[1;32m      9\u001b[0m \u001b[0mprint\u001b[0m\u001b[0;34m(\u001b[0m\u001b[0;34mf\"4/2={div2(4,2)}\"\u001b[0m\u001b[0;34m)\u001b[0m\u001b[0;34m\u001b[0m\u001b[0;34m\u001b[0m\u001b[0m\n",
            "\u001b[0;31mTypeError\u001b[0m: unsupported operand type(s) for /: 'int' and 'str'"
          ]
        }
      ]
    },
    {
      "cell_type": "code",
      "metadata": {
        "id": "exfje92sL5zC",
        "colab": {
          "base_uri": "https://localhost:8080/"
        },
        "outputId": "58ca4763-ada0-4a0e-ecf3-982ec854763e"
      },
      "source": [
        "def div3(a, b):\n",
        "    r = None\n",
        "\n",
        "    # 일단 실행하고\n",
        "    try:\n",
        "        r = a/b\n",
        "    # 예상 가능한 예외에 대해서 적절히 처리\n",
        "    except ZeroDivisionError as err :  #예측 가능한 에러 설정\n",
        "      print(err)\n",
        "    except TypeError as err :  #예측 가능한 에러 설정\n",
        "      print(err)\n",
        "    except Exception as err :  #예측 불가능한 에러\n",
        "      print('처리되지 않은 에러 발생')  \n",
        "      print(err)\n",
        "    # 예상치 못한 예외에 대해서 한꺼번에 최소한의 처리를 함\n",
        "    \n",
        "    # 최종적으로 무조건 실행되는 부분을 여기 코딩\n",
        "    # 예외 처리 후 정리해야하는 부분이나 정상 실행되었을 때\n",
        "    # 처리해야할 코드 등을 쓸 수 있음\n",
        "    finally : # finally는 필수는 아님\n",
        "      if r != None:\n",
        "        return r\n",
        "      else:\n",
        "        print(\"예외가 발생되어 계산을 마치지 못함\")\n",
        "\n",
        "    \n",
        "print(f\"4/2={div3(4,2)}\")\n",
        "print(f\"0/2={div3(0,2)}\")\n",
        "print(f\"4/0={div3(4,0)}\")\n",
        "print(f\"4/0={div3(4,'c')}\")"
      ],
      "execution_count": 48,
      "outputs": [
        {
          "output_type": "stream",
          "name": "stdout",
          "text": [
            "4/2=2.0\n",
            "0/2=0.0\n",
            "division by zero\n",
            "예외가 발생되어 계산을 마치지 못함\n",
            "4/0=None\n",
            "unsupported operand type(s) for /: 'int' and 'str'\n",
            "예외가 발생되어 계산을 마치지 못함\n",
            "4/0=None\n"
          ]
        }
      ]
    },
    {
      "cell_type": "markdown",
      "metadata": {
        "id": "ACnCT5J-RX9i"
      },
      "source": [
        "### [7] 클래스 상속과 super()"
      ]
    },
    {
      "cell_type": "code",
      "metadata": {
        "id": "5f2Wwp26FOg_"
      },
      "source": [
        "#############################################\n",
        "# 클래스는 정보와 기능을 덩어리 하나로 묶은 것으로\n",
        "# 이 클래스에는 이름, 키, 몸무게 정보와 \n",
        "# 이름을 출력하는 기능, 달리기 속도를 키와 몸무게로 계산하는 기능을 가지고 있음\n",
        "\n",
        "class Person: # class 안에는 함수도 있고, 변수도 있고...\n",
        "  def __init__(self, n, h,w) : # __init__는 person을 부르면 자동으로 생성됨\n",
        "    self.name =  n # 클래스 안에만 존재하는 변수\n",
        "    self.height = h\n",
        "    self.weight = w\n",
        "\n",
        "  def who_are_you(self) : \n",
        "    print(self.name)\n",
        "\n",
        "  def speed(self) :\n",
        "    return f\"{(self.height / self.weight) * 5}km/h\""
      ],
      "execution_count": 49,
      "outputs": []
    },
    {
      "cell_type": "code",
      "metadata": {
        "id": "Q5IyoTMxFj4V"
      },
      "source": [
        "#############################################\n",
        "# 클래스를 상속하고 함수가 가려지는 상황을 실험\n",
        "# 보통 사람 Person을 상속받아 SuperPerson을 만듦\n",
        "# SuperPerson은 당연히 Person의 속성을 모두 가지고 있게 됨\n",
        "class SuperPerson(Person):\n",
        "    def __init__(self, n, h, w, power):\n",
        "      super().__init__(n, h, w)\n",
        "      self.power = power\n",
        "\n",
        "    def speed(self): #Person의 스피드와 이름은 같지만 수식이 다름\n",
        "      return f\"{(self.height / self.weight) * self.power}km/h\""
      ],
      "execution_count": 50,
      "outputs": []
    },
    {
      "cell_type": "code",
      "metadata": {
        "id": "dpXGx5isF5tl",
        "colab": {
          "base_uri": "https://localhost:8080/"
        },
        "outputId": "0d16391e-4c4b-403c-d0d6-f0596525be6e"
      },
      "source": [
        "##########################################\n",
        "# 사람과 수퍼사람을 만들고\n",
        "\n",
        "p = Person('man', 180, 75) # p라는 객체가 만들어지는 게 class\n",
        "p2 = Person('man2', 170, 95) \n",
        "p.who_are_you()\n",
        "p2.who_are_you()\n",
        "\n",
        "sp = SuperPerson('superman', 180, 75, 100)"
      ],
      "execution_count": 51,
      "outputs": [
        {
          "output_type": "stream",
          "name": "stdout",
          "text": [
            "man\n",
            "man2\n"
          ]
        }
      ]
    },
    {
      "cell_type": "code",
      "metadata": {
        "id": "wA6-vewlGKk5",
        "colab": {
          "base_uri": "https://localhost:8080/"
        },
        "outputId": "12986f50-aa60-4b1a-a31e-9196aafa39f9"
      },
      "source": [
        "##########################################\n",
        "# 둘의 스피드가 다르게 계산되는지 확인\n",
        "# 같은 함수를 호출하지만 객체 종류에 따라 다른 함수가 호출됨\n",
        "p.speed(), sp.speed()"
      ],
      "execution_count": 52,
      "outputs": [
        {
          "output_type": "execute_result",
          "data": {
            "text/plain": [
              "('12.0km/h', '240.0km/h')"
            ]
          },
          "metadata": {},
          "execution_count": 52
        }
      ]
    },
    {
      "cell_type": "code",
      "metadata": {
        "id": "5OU_J18sKH6G",
        "colab": {
          "base_uri": "https://localhost:8080/"
        },
        "outputId": "485cf483-142f-49f9-df98-69a0d5401e1b"
      },
      "source": [
        "############################################\n",
        "# 수퍼사람에게 who_are_you라고 물어볼 수 있는지? => 상속 받았기 때문에 가능~\n",
        "sp.who_are_you()"
      ],
      "execution_count": 53,
      "outputs": [
        {
          "output_type": "stream",
          "name": "stdout",
          "text": [
            "superman\n"
          ]
        }
      ]
    },
    {
      "cell_type": "code",
      "metadata": {
        "id": "XZm336YqX_4t",
        "colab": {
          "base_uri": "https://localhost:8080/",
          "height": 36
        },
        "outputId": "63f4320d-f210-4539-fda9-b13501a2e19e"
      },
      "source": [
        "###########################################\n",
        "# 수퍼사람은 자신을 위장해야 해서 항상 빨리달리면 안됨\n",
        "# 평소 그냥 사람인척 할 수 있는가?\n",
        "super(SuperPerson, sp).speed() # super(class이름, 객체이름)\n",
        "\n",
        "# super라는 함수를 사용하면 가려졌던 부모의 객체를 리턴할 수 있음!!! "
      ],
      "execution_count": 54,
      "outputs": [
        {
          "output_type": "execute_result",
          "data": {
            "text/plain": [
              "'12.0km/h'"
            ],
            "application/vnd.google.colaboratory.intrinsic+json": {
              "type": "string"
            }
          },
          "metadata": {},
          "execution_count": 54
        }
      ]
    },
    {
      "cell_type": "markdown",
      "metadata": {
        "id": "7Yo4QIJkMhvJ"
      },
      "source": [
        "### [8]  특수 메서드 `__len__`, `__getitem__`"
      ]
    },
    {
      "cell_type": "code",
      "metadata": {
        "id": "bVVWtdvqGPpW"
      },
      "source": [
        "###################################\n",
        "# __len__ 메서드를 가지는 데이터셋 클래스를 만듦\n",
        "\n",
        "# 딥러닝을 코딩한다고 가정. 수 많은 데이터를 D에 저장하고\n",
        "# (D는 주로 리스트나 넘파이 어레이)\n",
        "# 외부요청에 따라 적당히 데이터를 반환하는 클래스를 만들 수 있음.\n",
        "class MyData(): # MyData -> obj\n",
        "  def __init__(self, D):\n",
        "    self.D = D # self.D엔 데이터가 오백만개 들어있음. D는 [1,2,3]을 갖는 list\n",
        "\n",
        "  def __len__(self) : # len을 쓸 때 자동으로 호출되는 함수..\n",
        "    return len(self.D)\n",
        "    \n",
        "# len([1,2,3]) sequence 넣으면 길이를 알려주는 함수인데,\n",
        "# len(obj) obj는 길이가 1이지만 그 안에 데이터 오백만개 => 이 오백만개를 세어줌"
      ],
      "execution_count": 55,
      "outputs": []
    },
    {
      "cell_type": "code",
      "metadata": {
        "id": "PR8w_ECGs2FA",
        "colab": {
          "base_uri": "https://localhost:8080/",
          "height": 310
        },
        "outputId": "9eb25c8a-2745-4860-cdf0-e3c5ad772902"
      },
      "source": [
        "# mnist 데이터로 테스트 해보기.\n",
        "# 우선 데이터를 저장할 어레이를 만들기 위해 넘파이를 임포트\n",
        "# 이후 mnist 데이터를 로드하기 위해 판다스라는 라이브러리를 임포트\n",
        "# 그리고 그림을 약간 그려야 하기 때문에 그림 그리는 라이브러리도 임포트 \n",
        "import numpy as np\n",
        "import pandas as pd\n",
        "import matplotlib.pyplot as plt\n",
        "\n",
        "# mnist 데이터를 읽어오기\n",
        "# 이후 이 셀에 코드에 대해서는 이해가 가지 않아도 아직 신경쓰지 말고 주석을 읽으면서 진행\n",
        "mnist = pd.read_csv(\"sample_data/mnist_train_small.csv\", header=None)\n",
        "\n",
        "# # X에는 숫자 그림이, y에는 그 숫자에 해당하는 숫자값이 들어가게 됨\n",
        "X = mnist.iloc[:,1:].to_numpy() # DF를 넘파이로 바꿔서 X에 집어넣음 \n",
        "y = mnist.iloc[:,0].to_numpy()\n",
        "\n",
        "# # 임의로 X에서 숫자 그림 열개를 추출\n",
        "print(X.shape, y.shape) # (20000, 784), (20000,)\n",
        "idx = np.random.choice(X.shape[0], 10)\n",
        "samples = X[idx]\n",
        "\n",
        "samples2 = samples.reshape(10, 28, 28).transpose(1,0,2).reshape(28,-1)\\\n",
        "     .reshape(28,1,-1).reshape(28,-1,140).transpose(1,0,2).reshape(-1,140)\n",
        "print(samples.shape) # (10, 784)\n",
        "\n",
        "# # 적당히 열개를 그림을 그리면\n",
        "fig = plt.figure(figsize=(10,5))\n",
        "ax = plt.axes()\n",
        "ax.imshow(samples2, cmap='binary')\n",
        "plt.show()\n"
      ],
      "execution_count": 57,
      "outputs": [
        {
          "output_type": "stream",
          "name": "stdout",
          "text": [
            "(20000, 784) (20000,)\n",
            "(10, 784)\n"
          ]
        },
        {
          "output_type": "display_data",
          "data": {
            "text/plain": [
              "<Figure size 720x360 with 1 Axes>"
            ],
            "image/png": "[encoded data removed]"
          },
          "metadata": {
            "needs_background": "light"
          }
        }
      ]
    },
    {
      "cell_type": "code",
      "source": [
        "mnist"
      ],
      "metadata": {
        "colab": {
          "base_uri": "https://localhost:8080/",
          "height": 424
        },
        "id": "ekAcgOBl9Ts-",
        "outputId": "524474c8-d1f9-436f-c47c-9771dba8beb4"
      },
      "execution_count": 58,
      "outputs": [
        {
          "output_type": "execute_result",
          "data": {
            "text/plain": [
              "       0    1    2    3    4    5    6    7    8    9    ...  775  776  777  \\\n",
              "0        6    0    0    0    0    0    0    0    0    0  ...    0    0    0   \n",
              "1        5    0    0    0    0    0    0    0    0    0  ...    0    0    0   \n",
              "2        7    0    0    0    0    0    0    0    0    0  ...    0    0    0   \n",
              "3        9    0    0    0    0    0    0    0    0    0  ...    0    0    0   \n",
              "4        5    0    0    0    0    0    0    0    0    0  ...    0    0    0   \n",
              "...    ...  ...  ...  ...  ...  ...  ...  ...  ...  ...  ...  ...  ...  ...   \n",
              "19995    0    0    0    0    0    0    0    0    0    0  ...    0    0    0   \n",
              "19996    1    0    0    0    0    0    0    0    0    0  ...    0    0    0   \n",
              "19997    2    0    0    0    0    0    0    0    0    0  ...    0    0    0   \n",
              "19998    9    0    0    0    0    0    0    0    0    0  ...    0    0    0   \n",
              "19999    5    0    0    0    0    0    0    0    0    0  ...    0    0    0   \n",
              "\n",
              "       778  779  780  781  782  783  784  \n",
              "0        0    0    0    0    0    0    0  \n",
              "1        0    0    0    0    0    0    0  \n",
              "2        0    0    0    0    0    0    0  \n",
              "3        0    0    0    0    0    0    0  \n",
              "4        0    0    0    0    0    0    0  \n",
              "...    ...  ...  ...  ...  ...  ...  ...  \n",
              "19995    0    0    0    0    0    0    0  \n",
              "19996    0    0    0    0    0    0    0  \n",
              "19997    0    0    0    0    0    0    0  \n",
              "19998    0    0    0    0    0    0    0  \n",
              "19999    0    0    0    0    0    0    0  \n",
              "\n",
              "[20000 rows x 785 columns]"
            ],
            "text/html": [
              "\n",
              "  <div id=\"df-70dcd88c-f699-48b7-b762-cc5c1c1bf071\">\n",
              "    <div class=\"colab-df-container\">\n",
              "      <div>\n",
              "<style scoped>\n",
              "    .dataframe tbody tr th:only-of-type {\n",
              "        vertical-align: middle;\n",
              "    }\n",
              "\n",
              "    .dataframe tbody tr th {\n",
              "        vertical-align: top;\n",
              "    }\n",
              "\n",
              "    .dataframe thead th {\n",
              "        text-align: right;\n",
              "    }\n",
              "</style>\n",
              "<table border=\"1\" class=\"dataframe\">\n",
              "  <thead>\n",
              "    <tr style=\"text-align: right;\">\n",
              "      <th></th>\n",
              "      <th>0</th>\n",
              "      <th>1</th>\n",
              "      <th>2</th>\n",
              "      <th>3</th>\n",
              "      <th>4</th>\n",
              "      <th>5</th>\n",
              "      <th>6</th>\n",
              "      <th>7</th>\n",
              "      <th>8</th>\n",
              "      <th>9</th>\n",
              "      <th>...</th>\n",
              "      <th>775</th>\n",
              "      <th>776</th>\n",
              "      <th>777</th>\n",
              "      <th>778</th>\n",
              "      <th>779</th>\n",
              "      <th>780</th>\n",
              "      <th>781</th>\n",
              "      <th>782</th>\n",
              "      <th>783</th>\n",
              "      <th>784</th>\n",
              "    </tr>\n",
              "  </thead>\n",
              "  <tbody>\n",
              "    <tr>\n",
              "      <th>0</th>\n",
              "      <td>6</td>\n",
              "      <td>0</td>\n",
              "      <td>0</td>\n",
              "      <td>0</td>\n",
              "      <td>0</td>\n",
              "      <td>0</td>\n",
              "      <td>0</td>\n",
              "      <td>0</td>\n",
              "      <td>0</td>\n",
              "      <td>0</td>\n",
              "      <td>...</td>\n",
              "      <td>0</td>\n",
              "      <td>0</td>\n",
              "      <td>0</td>\n",
              "      <td>0</td>\n",
              "      <td>0</td>\n",
              "      <td>0</td>\n",
              "      <td>0</td>\n",
              "      <td>0</td>\n",
              "      <td>0</td>\n",
              "      <td>0</td>\n",
              "    </tr>\n",
              "    <tr>\n",
              "      <th>1</th>\n",
              "      <td>5</td>\n",
              "      <td>0</td>\n",
              "      <td>0</td>\n",
              "      <td>0</td>\n",
              "      <td>0</td>\n",
              "      <td>0</td>\n",
              "      <td>0</td>\n",
              "      <td>0</td>\n",
              "      <td>0</td>\n",
              "      <td>0</td>\n",
              "      <td>...</td>\n",
              "      <td>0</td>\n",
              "      <td>0</td>\n",
              "      <td>0</td>\n",
              "      <td>0</td>\n",
              "      <td>0</td>\n",
              "      <td>0</td>\n",
              "      <td>0</td>\n",
              "      <td>0</td>\n",
              "      <td>0</td>\n",
              "      <td>0</td>\n",
              "    </tr>\n",
              "    <tr>\n",
              "      <th>2</th>\n",
              "      <td>7</td>\n",
              "      <td>0</td>\n",
              "      <td>0</td>\n",
              "      <td>0</td>\n",
              "      <td>0</td>\n",
              "      <td>0</td>\n",
              "      <td>0</td>\n",
              "      <td>0</td>\n",
              "      <td>0</td>\n",
              "      <td>0</td>\n",
              "      <td>...</td>\n",
              "      <td>0</td>\n",
              "      <td>0</td>\n",
              "      <td>0</td>\n",
              "      <td>0</td>\n",
              "      <td>0</td>\n",
              "      <td>0</td>\n",
              "      <td>0</td>\n",
              "      <td>0</td>\n",
              "      <td>0</td>\n",
              "      <td>0</td>\n",
              "    </tr>\n",
              "    <tr>\n",
              "      <th>3</th>\n",
              "      <td>9</td>\n",
              "      <td>0</td>\n",
              "      <td>0</td>\n",
              "      <td>0</td>\n",
              "      <td>0</td>\n",
              "      <td>0</td>\n",
              "      <td>0</td>\n",
              "      <td>0</td>\n",
              "      <td>0</td>\n",
              "      <td>0</td>\n",
              "      <td>...</td>\n",
              "      <td>0</td>\n",
              "      <td>0</td>\n",
              "      <td>0</td>\n",
              "      <td>0</td>\n",
              "      <td>0</td>\n",
              "      <td>0</td>\n",
              "      <td>0</td>\n",
              "      <td>0</td>\n",
              "      <td>0</td>\n",
              "      <td>0</td>\n",
              "    </tr>\n",
              "    <tr>\n",
              "      <th>4</th>\n",
              "      <td>5</td>\n",
              "      <td>0</td>\n",
              "      <td>0</td>\n",
              "      <td>0</td>\n",
              "      <td>0</td>\n",
              "      <td>0</td>\n",
              "      <td>0</td>\n",
              "      <td>0</td>\n",
              "      <td>0</td>\n",
              "      <td>0</td>\n",
              "      <td>...</td>\n",
              "      <td>0</td>\n",
              "      <td>0</td>\n",
              "      <td>0</td>\n",
              "      <td>0</td>\n",
              "      <td>0</td>\n",
              "      <td>0</td>\n",
              "      <td>0</td>\n",
              "      <td>0</td>\n",
              "      <td>0</td>\n",
              "      <td>0</td>\n",
              "    </tr>\n",
              "    <tr>\n",
              "      <th>...</th>\n",
              "      <td>...</td>\n",
              "      <td>...</td>\n",
              "      <td>...</td>\n",
              "      <td>...</td>\n",
              "      <td>...</td>\n",
              "      <td>...</td>\n",
              "      <td>...</td>\n",
              "      <td>...</td>\n",
              "      <td>...</td>\n",
              "      <td>...</td>\n",
              "      <td>...</td>\n",
              "      <td>...</td>\n",
              "      <td>...</td>\n",
              "      <td>...</td>\n",
              "      <td>...</td>\n",
              "      <td>...</td>\n",
              "      <td>...</td>\n",
              "      <td>...</td>\n",
              "      <td>...</td>\n",
              "      <td>...</td>\n",
              "      <td>...</td>\n",
              "    </tr>\n",
              "    <tr>\n",
              "      <th>19995</th>\n",
              "      <td>0</td>\n",
              "      <td>0</td>\n",
              "      <td>0</td>\n",
              "      <td>0</td>\n",
              "      <td>0</td>\n",
              "      <td>0</td>\n",
              "      <td>0</td>\n",
              "      <td>0</td>\n",
              "      <td>0</td>\n",
              "      <td>0</td>\n",
              "      <td>...</td>\n",
              "      <td>0</td>\n",
              "      <td>0</td>\n",
              "      <td>0</td>\n",
              "      <td>0</td>\n",
              "      <td>0</td>\n",
              "      <td>0</td>\n",
              "      <td>0</td>\n",
              "      <td>0</td>\n",
              "      <td>0</td>\n",
              "      <td>0</td>\n",
              "    </tr>\n",
              "    <tr>\n",
              "      <th>19996</th>\n",
              "      <td>1</td>\n",
              "      <td>0</td>\n",
              "      <td>0</td>\n",
              "      <td>0</td>\n",
              "      <td>0</td>\n",
              "      <td>0</td>\n",
              "      <td>0</td>\n",
              "      <td>0</td>\n",
              "      <td>0</td>\n",
              "      <td>0</td>\n",
              "      <td>...</td>\n",
              "      <td>0</td>\n",
              "      <td>0</td>\n",
              "      <td>0</td>\n",
              "      <td>0</td>\n",
              "      <td>0</td>\n",
              "      <td>0</td>\n",
              "      <td>0</td>\n",
              "      <td>0</td>\n",
              "      <td>0</td>\n",
              "      <td>0</td>\n",
              "    </tr>\n",
              "    <tr>\n",
              "      <th>19997</th>\n",
              "      <td>2</td>\n",
              "      <td>0</td>\n",
              "      <td>0</td>\n",
              "      <td>0</td>\n",
              "      <td>0</td>\n",
              "      <td>0</td>\n",
              "      <td>0</td>\n",
              "      <td>0</td>\n",
              "      <td>0</td>\n",
              "      <td>0</td>\n",
              "      <td>...</td>\n",
              "      <td>0</td>\n",
              "      <td>0</td>\n",
              "      <td>0</td>\n",
              "      <td>0</td>\n",
              "      <td>0</td>\n",
              "      <td>0</td>\n",
              "      <td>0</td>\n",
              "      <td>0</td>\n",
              "      <td>0</td>\n",
              "      <td>0</td>\n",
              "    </tr>\n",
              "    <tr>\n",
              "      <th>19998</th>\n",
              "      <td>9</td>\n",
              "      <td>0</td>\n",
              "      <td>0</td>\n",
              "      <td>0</td>\n",
              "      <td>0</td>\n",
              "      <td>0</td>\n",
              "      <td>0</td>\n",
              "      <td>0</td>\n",
              "      <td>0</td>\n",
              "      <td>0</td>\n",
              "      <td>...</td>\n",
              "      <td>0</td>\n",
              "      <td>0</td>\n",
              "      <td>0</td>\n",
              "      <td>0</td>\n",
              "      <td>0</td>\n",
              "      <td>0</td>\n",
              "      <td>0</td>\n",
              "      <td>0</td>\n",
              "      <td>0</td>\n",
              "      <td>0</td>\n",
              "    </tr>\n",
              "    <tr>\n",
              "      <th>19999</th>\n",
              "      <td>5</td>\n",
              "      <td>0</td>\n",
              "      <td>0</td>\n",
              "      <td>0</td>\n",
              "      <td>0</td>\n",
              "      <td>0</td>\n",
              "      <td>0</td>\n",
              "      <td>0</td>\n",
              "      <td>0</td>\n",
              "      <td>0</td>\n",
              "      <td>...</td>\n",
              "      <td>0</td>\n",
              "      <td>0</td>\n",
              "      <td>0</td>\n",
              "      <td>0</td>\n",
              "      <td>0</td>\n",
              "      <td>0</td>\n",
              "      <td>0</td>\n",
              "      <td>0</td>\n",
              "      <td>0</td>\n",
              "      <td>0</td>\n",
              "    </tr>\n",
              "  </tbody>\n",
              "</table>\n",
              "<p>20000 rows × 785 columns</p>\n",
              "</div>\n",
              "      <button class=\"colab-df-convert\" onclick=\"convertToInteractive('df-70dcd88c-f699-48b7-b762-cc5c1c1bf071')\"\n",
              "              title=\"Convert this dataframe to an interactive table.\"\n",
              "              style=\"display:none;\">\n",
              "        \n",
              "  <svg xmlns=\"http://www.w3.org/2000/svg\" height=\"24px\"viewBox=\"0 0 24 24\"\n",
              "       width=\"24px\">\n",
              "    <path d=\"M0 0h24v24H0V0z\" fill=\"none\"/>\n",
              "    <path d=\"M18.56 5.44l.94 2.06.94-2.06 2.06-.94-2.06-.94-.94-2.06-.94 2.06-2.06.94zm-11 1L8.5 8.5l.94-2.06 2.06-.94-2.06-.94L8.5 2.5l-.94 2.06-2.06.94zm10 10l.94 2.06.94-2.06 2.06-.94-2.06-.94-.94-2.06-.94 2.06-2.06.94z\"/><path d=\"M17.41 7.96l-1.37-1.37c-.4-.4-.92-.59-1.43-.59-.52 0-1.04.2-1.43.59L10.3 9.45l-7.72 7.72c-.78.78-.78 2.05 0 2.83L4 21.41c.39.39.9.59 1.41.59.51 0 1.02-.2 1.41-.59l7.78-7.78 2.81-2.81c.8-.78.8-2.07 0-2.86zM5.41 20L4 18.59l7.72-7.72 1.47 1.35L5.41 20z\"/>\n",
              "  </svg>\n",
              "      </button>\n",
              "      \n",
              "  <style>\n",
              "    .colab-df-container {\n",
              "      display:flex;\n",
              "      flex-wrap:wrap;\n",
              "      gap: 12px;\n",
              "    }\n",
              "\n",
              "    .colab-df-convert {\n",
              "      background-color: #E8F0FE;\n",
              "      border: none;\n",
              "      border-radius: 50%;\n",
              "      cursor: pointer;\n",
              "      display: none;\n",
              "      fill: #1967D2;\n",
              "      height: 32px;\n",
              "      padding: 0 0 0 0;\n",
              "      width: 32px;\n",
              "    }\n",
              "\n",
              "    .colab-df-convert:hover {\n",
              "      background-color: #E2EBFA;\n",
              "      box-shadow: 0px 1px 2px rgba(60, 64, 67, 0.3), 0px 1px 3px 1px rgba(60, 64, 67, 0.15);\n",
              "      fill: #174EA6;\n",
              "    }\n",
              "\n",
              "    [theme=dark] .colab-df-convert {\n",
              "      background-color: #3B4455;\n",
              "      fill: #D2E3FC;\n",
              "    }\n",
              "\n",
              "    [theme=dark] .colab-df-convert:hover {\n",
              "      background-color: #434B5C;\n",
              "      box-shadow: 0px 1px 3px 1px rgba(0, 0, 0, 0.15);\n",
              "      filter: drop-shadow(0px 1px 2px rgba(0, 0, 0, 0.3));\n",
              "      fill: #FFFFFF;\n",
              "    }\n",
              "  </style>\n",
              "\n",
              "      <script>\n",
              "        const buttonEl =\n",
              "          document.querySelector('#df-70dcd88c-f699-48b7-b762-cc5c1c1bf071 button.colab-df-convert');\n",
              "        buttonEl.style.display =\n",
              "          google.colab.kernel.accessAllowed ? 'block' : 'none';\n",
              "\n",
              "        async function convertToInteractive(key) {\n",
              "          const element = document.querySelector('#df-70dcd88c-f699-48b7-b762-cc5c1c1bf071');\n",
              "          const dataTable =\n",
              "            await google.colab.kernel.invokeFunction('convertToInteractive',\n",
              "                                                     [key], {});\n",
              "          if (!dataTable) return;\n",
              "\n",
              "          const docLinkHtml = 'Like what you see? Visit the ' +\n",
              "            '<a target=\"_blank\" href=https://colab.research.google.com/notebooks/data_table.ipynb>data table notebook</a>'\n",
              "            + ' to learn more about interactive tables.';\n",
              "          element.innerHTML = '';\n",
              "          dataTable['output_type'] = 'display_data';\n",
              "          await google.colab.output.renderOutput(dataTable, element);\n",
              "          const docLink = document.createElement('div');\n",
              "          docLink.innerHTML = docLinkHtml;\n",
              "          element.appendChild(docLink);\n",
              "        }\n",
              "      </script>\n",
              "    </div>\n",
              "  </div>\n",
              "  "
            ]
          },
          "metadata": {},
          "execution_count": 58
        }
      ]
    },
    {
      "cell_type": "code",
      "metadata": {
        "id": "hUODcc_OXFWi",
        "colab": {
          "base_uri": "https://localhost:8080/"
        },
        "outputId": "68905f50-5d27-4dd2-b95e-a030879a7ab5"
      },
      "source": [
        "########################################\n",
        "# 데이터 셋으로 이미지 다섯개를 초기화\n",
        "\n",
        "D = MyData(X[:5]) # MyData 클래스에 넣어줌\n",
        "F = X[:7]\n",
        "print(D)\n",
        "print()\n",
        "print(F)"
      ],
      "execution_count": 69,
      "outputs": [
        {
          "output_type": "stream",
          "name": "stdout",
          "text": [
            "<__main__.MyData object at 0x7f145092aad0>\n",
            "\n",
            "[[0 0 0 ... 0 0 0]\n",
            " [0 0 0 ... 0 0 0]\n",
            " [0 0 0 ... 0 0 0]\n",
            " ...\n",
            " [0 0 0 ... 0 0 0]\n",
            " [0 0 0 ... 0 0 0]\n",
            " [0 0 0 ... 0 0 0]]\n"
          ]
        }
      ]
    },
    {
      "cell_type": "code",
      "metadata": {
        "colab": {
          "base_uri": "https://localhost:8080/"
        },
        "id": "QbNmRLgBXMiB",
        "outputId": "35b5fc53-4c2d-4b2a-b478-05745b5364fd"
      },
      "source": [
        "########################################\n",
        "# __len__()함수를 직접 호출\n",
        "D.__len__()"
      ],
      "execution_count": 60,
      "outputs": [
        {
          "output_type": "execute_result",
          "data": {
            "text/plain": [
              "5"
            ]
          },
          "metadata": {},
          "execution_count": 60
        }
      ]
    },
    {
      "cell_type": "code",
      "metadata": {
        "colab": {
          "base_uri": "https://localhost:8080/"
        },
        "id": "wrpobKd9XYOO",
        "outputId": "27f789ba-400a-4f86-94eb-e3874f0faba4"
      },
      "source": [
        "#######################################\n",
        "# len()이라는 함수에게 D를 넘겨주기\n",
        "print(len(D))\n",
        "print(len(F))\n",
        "\n",
        "# 이렇게 해서 데이터 클래스에 데이터가 몇개가 들어 있는지 간편히 알 수 있음\n",
        "\n",
        "## ... F는 그냥 알 수 있는데 굳이..? "
      ],
      "execution_count": 74,
      "outputs": [
        {
          "output_type": "stream",
          "name": "stdout",
          "text": [
            "5\n",
            "7\n"
          ]
        }
      ]
    },
    {
      "cell_type": "code",
      "metadata": {
        "id": "PfXh2AeHXokQ",
        "colab": {
          "base_uri": "https://localhost:8080/",
          "height": 232
        },
        "outputId": "5d73279b-8784-42fe-bd88-942340805f04"
      },
      "source": [
        "#######################################\n",
        "# D안에 객체(이미지)를 인덱싱할 수 있나요? => 안 돼!!!!!!!!!!!!\n",
        "D[2]\n",
        "# F[2] # F는 됨.. "
      ],
      "execution_count": 75,
      "outputs": [
        {
          "output_type": "error",
          "ename": "TypeError",
          "evalue": "ignored",
          "traceback": [
            "\u001b[0;31m---------------------------------------------------------------------------\u001b[0m",
            "\u001b[0;31mTypeError\u001b[0m                                 Traceback (most recent call last)",
            "\u001b[0;32m<ipython-input-75-5226858e03eb>\u001b[0m in \u001b[0;36m<module>\u001b[0;34m()\u001b[0m\n\u001b[1;32m      1\u001b[0m \u001b[0;31m#######################################\u001b[0m\u001b[0;34m\u001b[0m\u001b[0;34m\u001b[0m\u001b[0;34m\u001b[0m\u001b[0m\n\u001b[1;32m      2\u001b[0m \u001b[0;31m# D안에 객체(이미지)를 인덱싱할 수 있나요? => 안 돼!!!!!!!!!!!!\u001b[0m\u001b[0;34m\u001b[0m\u001b[0;34m\u001b[0m\u001b[0;34m\u001b[0m\u001b[0m\n\u001b[0;32m----> 3\u001b[0;31m \u001b[0mD\u001b[0m\u001b[0;34m[\u001b[0m\u001b[0;36m2\u001b[0m\u001b[0;34m]\u001b[0m\u001b[0;34m\u001b[0m\u001b[0;34m\u001b[0m\u001b[0m\n\u001b[0m\u001b[1;32m      4\u001b[0m \u001b[0;31m# F[2] # F는 됨..\u001b[0m\u001b[0;34m\u001b[0m\u001b[0;34m\u001b[0m\u001b[0;34m\u001b[0m\u001b[0m\n",
            "\u001b[0;31mTypeError\u001b[0m: 'MyData' object is not subscriptable"
          ]
        }
      ]
    },
    {
      "cell_type": "code",
      "metadata": {
        "id": "390kGNtPXOVs"
      },
      "source": [
        "########################################\n",
        "# 인덱싱까지 되는 객체를 만들어 보기\n",
        "class MyData():\n",
        "    def __init__(self, D):\n",
        "        self.D = D\n",
        "\n",
        "    def __len__(self):\n",
        "        return len(self.D)\n",
        "\n",
        "    def __getitem__(self, i): # i= 인덱싱할 i번째 아이템을 의미\n",
        "        return self.D[i]"
      ],
      "execution_count": 76,
      "outputs": []
    },
    {
      "cell_type": "code",
      "source": [
        "X\n",
        "X[:5] #5행까지 출력"
      ],
      "metadata": {
        "colab": {
          "base_uri": "https://localhost:8080/"
        },
        "id": "TCmMMIo5AfRq",
        "outputId": "ee166fc4-c526-43a0-b4e6-8a4db8e7d0bd"
      },
      "execution_count": 81,
      "outputs": [
        {
          "output_type": "execute_result",
          "data": {
            "text/plain": [
              "array([[0, 0, 0, ..., 0, 0, 0],\n",
              "       [0, 0, 0, ..., 0, 0, 0],\n",
              "       [0, 0, 0, ..., 0, 0, 0],\n",
              "       [0, 0, 0, ..., 0, 0, 0],\n",
              "       [0, 0, 0, ..., 0, 0, 0]])"
            ]
          },
          "metadata": {},
          "execution_count": 81
        }
      ]
    },
    {
      "cell_type": "code",
      "metadata": {
        "id": "ukW0ZiGRXiVS"
      },
      "source": [
        "########################################\n",
        "# 데이터 셋으로 이미지 다섯개를 초기화\n",
        "D = MyData(X[:5])"
      ],
      "execution_count": 78,
      "outputs": []
    },
    {
      "cell_type": "code",
      "metadata": {
        "id": "FWumoCoBXkeJ",
        "colab": {
          "base_uri": "https://localhost:8080/"
        },
        "outputId": "b998e1b9-dce1-4f7e-c857-59f24d187bd8"
      },
      "source": [
        "#######################################\n",
        "# len(D)를 실행해서 길이를 확인\n",
        "len(D)"
      ],
      "execution_count": 79,
      "outputs": [
        {
          "output_type": "execute_result",
          "data": {
            "text/plain": [
              "5"
            ]
          },
          "metadata": {},
          "execution_count": 79
        }
      ]
    },
    {
      "cell_type": "code",
      "source": [
        "########################################\n",
        "# 이제 인덱싱이 되나요?\n",
        "D[4] # 안에 숫자 0~4까지 가능. 왜냐면 넘파이 어레이(X)를 5까지 잘랐으니까"
      ],
      "metadata": {
        "id": "oRsv_YTXJ4xY"
      },
      "execution_count": null,
      "outputs": []
    },
    {
      "cell_type": "code",
      "metadata": {
        "id": "yVm9FE6ZXl7r",
        "colab": {
          "base_uri": "https://localhost:8080/",
          "height": 265
        },
        "outputId": "429aec54-3084-4f28-e3af-3be8d46afee3"
      },
      "source": [
        "sample = D[4] \n",
        "\n",
        "fig = plt.figure()\n",
        "ax = plt.axes()\n",
        "ax.imshow(sample.reshape(28,28), cmap='binary')\n",
        "plt.show()\n",
        "\n",
        "''' F는 굳이 클래스나 특수메서드 쓰지 않아도 되는데 쓰는 이유가 뭘까 '''"
      ],
      "execution_count": 85,
      "outputs": [
        {
          "output_type": "display_data",
          "data": {
            "text/plain": [
              "<Figure size 432x288 with 1 Axes>"
            ],
            "image/png": "[encoded data removed]"
          },
          "metadata": {
            "needs_background": "light"
          }
        }
      ]
    },
    {
      "cell_type": "markdown",
      "metadata": {
        "id": "tNIS898oW-AA"
      },
      "source": [
        "## [9] 특수 메서드 `__call__`"
      ]
    },
    {
      "cell_type": "code",
      "metadata": {
        "id": "7ZIpIzlOXBhd"
      },
      "source": [
        "################################################\n",
        "# callable한 객체를 만들기 위한 기본 객체임\n",
        "# 이 객체는 실제로 아무일도 하지 않고\n",
        "# __call__함수를 자식에게 전달하는 역할만 함\n",
        "class A(object):\n",
        "    def __init__(self):\n",
        "        pass\n",
        "\n",
        "    def __call__(self, *args, **kwargs): # 여러개의 가변인자를 전달 받아서 forward 함수에 전달\n",
        "        self.forward(*args, **kwargs)\n",
        "\n",
        "    def forward(self, *args, **kwargs):\n",
        "        pass\n",
        " ###### 추상적인 클래스의 뼈대만 만들고       "
      ],
      "execution_count": 2,
      "outputs": []
    },
    {
      "cell_type": "code",
      "metadata": {
        "id": "R3CQ64SiXD95"
      },
      "source": [
        "################################################\n",
        "# 실제 forward 함수의 구체적 클래스는 여기서 만든다\n",
        "# 왜냐면 이렇게 상속해서 클래스를 만들면 프로그래머가 여러명이어도 클래스의 스펙은 동일...\n",
        "\n",
        "class B(A): # A를 상속시킴\n",
        "    def __init__(self, inc, out):\n",
        "        super(B, self).__init__()\n",
        "        self.inc = inc\n",
        "        self.out = out\n",
        "\n",
        "    def forward(self, s, i):\n",
        "        print(s * self.inc, i * self.out)"
      ],
      "execution_count": 3,
      "outputs": []
    },
    {
      "cell_type": "code",
      "metadata": {
        "colab": {
          "base_uri": "https://localhost:8080/"
        },
        "id": "Ac7kR-l4XGIr",
        "outputId": "a5aea662-49e1-4922-a1e7-aa0a0cbcd5f0"
      },
      "source": [
        "################################################\n",
        "# 객체를 만들고 타입을 확인\n",
        "\n",
        "b = B(2,3)\n",
        "\n",
        "print(type(b))\n",
        "print(type(b.forward))"
      ],
      "execution_count": 4,
      "outputs": [
        {
          "output_type": "stream",
          "name": "stdout",
          "text": [
            "<class '__main__.B'>\n",
            "<class 'method'>\n"
          ]
        }
      ]
    },
    {
      "cell_type": "code",
      "metadata": {
        "id": "eaABl4rHXIO2",
        "colab": {
          "base_uri": "https://localhost:8080/"
        },
        "outputId": "4b75dd17-32cd-4f63-b09a-786b59b1a05f"
      },
      "source": [
        "################################################\n",
        "# 부모 클래스가 __call__함수를 구현해 놓았기 때문에\n",
        "# 객체를 마치 함수 호출하듯이 호출할 수 있음\n",
        "# b.forward('aaaaa', 1)와 같은 표현\n",
        "b('aaaaa', 1)\n",
        "b.forward('aaaaa', 1)\n"
      ],
      "execution_count": 5,
      "outputs": [
        {
          "output_type": "stream",
          "name": "stdout",
          "text": [
            "aaaaaaaaaa 3\n",
            "aaaaaaaaaa 3\n"
          ]
        }
      ]
    },
    {
      "cell_type": "code",
      "metadata": {
        "id": "jdEtnK18XKZQ",
        "colab": {
          "base_uri": "https://localhost:8080/"
        },
        "outputId": "f5c4ab15-30a7-40cb-bf36-eedcea1bf5ac"
      },
      "source": [
        "callable(b)"
      ],
      "execution_count": 6,
      "outputs": [
        {
          "output_type": "execute_result",
          "data": {
            "text/plain": [
              "True"
            ]
          },
          "metadata": {},
          "execution_count": 6
        }
      ]
    },
    {
      "cell_type": "markdown",
      "metadata": {
        "id": "-oG0_xPLfeuX"
      },
      "source": [
        "## [10] 콘텍스트 매니저 with"
      ]
    },
    {
      "cell_type": "code",
      "metadata": {
        "id": "pt4nPEBigFwu"
      },
      "source": [
        "#########################################\n",
        "# 일반적인 파일 오픈 방식을 테스트 하기\n",
        "# 파일 읽고 쓰기 https://wikidocs.net/16077\n",
        "\n",
        "f = open('foo.txt', 'w')\n",
        "f.write('no with')\n",
        "# f를 가지고 어떤 작업을 열심히 하고\n",
        "f.close() # 마지막에 닫아야 함\n",
        "\n",
        "# <- 왼쪽 파일에 들어가면 foo.txt가 생기는 것을 확인할 수 있음"
      ],
      "execution_count": 7,
      "outputs": []
    },
    {
      "cell_type": "code",
      "metadata": {
        "id": "FO_-o8-DfxNE"
      },
      "source": [
        "########################################\n",
        "# 콘텍스트 매니저를 사용하여 같은 작업을 해보기\n",
        "with open('bar.txt', 'w') as f:\n",
        "    f.write('with')\n",
        "    # 어떤 작업을 열심히 하고...\n",
        "    # 이 블록은 문맥을 유지하는 범위\n",
        "\n",
        "# 블록을 벗어나면(문맥을 벗어나면) 자동으로 파일이 닫힘\n",
        "\n",
        "# <- 왼쪽 파일에 들어가면 bar.txt가 생기는 것을 확인할 수 있음"
      ],
      "execution_count": 8,
      "outputs": []
    },
    {
      "cell_type": "markdown",
      "metadata": {
        "id": "cG8HeQAVRf5M"
      },
      "source": [
        "##  pythonic coding\n"
      ]
    },
    {
      "cell_type": "code",
      "source": [
        "#######################################\n",
        "# 약수를 구하는 코드 1\n",
        "def divisor1(N):\n",
        "    i = 1\n",
        "    d = []\n",
        "    while i <= N:\n",
        "        if N % i == 0: # 나머지 0이면 추가\n",
        "          d.append(i)\n",
        "        i += 1\n",
        "    return d"
      ],
      "metadata": {
        "id": "GT4tqiYTkxfY"
      },
      "execution_count": 11,
      "outputs": []
    },
    {
      "cell_type": "code",
      "metadata": {
        "id": "9SfBuCaSOugX",
        "colab": {
          "base_uri": "https://localhost:8080/"
        },
        "outputId": "451ccee1-d802-4db7-ed72-ccf7f5137c23"
      },
      "source": [
        "divisor1(60)"
      ],
      "execution_count": 12,
      "outputs": [
        {
          "output_type": "execute_result",
          "data": {
            "text/plain": [
              "[1, 2, 3, 4, 5, 6, 10, 12, 15, 20, 30, 60]"
            ]
          },
          "metadata": {},
          "execution_count": 12
        }
      ]
    },
    {
      "cell_type": "code",
      "source": [
        "#######################################\n",
        "# 약수를 구하는 코드 2\n",
        "def divisor2(N):\n",
        "    d = []\n",
        "    for i in range(1, N+1):\n",
        "        if N % i == 0:\n",
        "            d.append(i)\n",
        "    return(d)"
      ],
      "metadata": {
        "id": "9hX9OQZYlYOV"
      },
      "execution_count": 13,
      "outputs": []
    },
    {
      "cell_type": "code",
      "metadata": {
        "id": "SUEiApf7PEEl",
        "colab": {
          "base_uri": "https://localhost:8080/"
        },
        "outputId": "b98bd66b-943a-4c8e-d8b8-7bbfd153d153"
      },
      "source": [
        "divisor2(80)"
      ],
      "execution_count": 15,
      "outputs": [
        {
          "output_type": "execute_result",
          "data": {
            "text/plain": [
              "[1, 2, 4, 5, 8, 10, 16, 20, 40, 80]"
            ]
          },
          "metadata": {},
          "execution_count": 15
        }
      ]
    },
    {
      "cell_type": "code",
      "source": [
        "#######################################\n",
        "# 약수를 구하는 코드 3\n",
        "def divisor3(N):\n",
        "    return [i for i in range(1, N+1) if N % i == 0 ]"
      ],
      "metadata": {
        "id": "aD5cSfJMnw9D"
      },
      "execution_count": 16,
      "outputs": []
    },
    {
      "cell_type": "code",
      "metadata": {
        "id": "TNDQPLJ3PPQY",
        "colab": {
          "base_uri": "https://localhost:8080/"
        },
        "outputId": "c36ec362-b7fc-47b3-861a-e261272f21df"
      },
      "source": [
        "divisor3(120)"
      ],
      "execution_count": 17,
      "outputs": [
        {
          "output_type": "execute_result",
          "data": {
            "text/plain": [
              "[1, 2, 3, 4, 5, 6, 8, 10, 12, 15, 20, 24, 30, 40, 60, 120]"
            ]
          },
          "metadata": {},
          "execution_count": 17
        }
      ]
    },
    {
      "cell_type": "code",
      "source": [
        "#######################################\n",
        "# 약수를 구하는 코드 4\n",
        "# def로 정식 함수를 만들지 않고 람다를 사용함\n",
        "divisor4 = lambda N: [ i for i in range(1, N+1) if N % i == 0 ]"
      ],
      "metadata": {
        "id": "dr73avDdoJyV"
      },
      "execution_count": 24,
      "outputs": []
    },
    {
      "cell_type": "code",
      "metadata": {
        "id": "LteAm29_SrcE",
        "colab": {
          "base_uri": "https://localhost:8080/"
        },
        "outputId": "ef912ad0-984d-4fe1-cca9-5f4b667d015f"
      },
      "source": [
        "divisor4(60)"
      ],
      "execution_count": 25,
      "outputs": [
        {
          "output_type": "execute_result",
          "data": {
            "text/plain": [
              "[1, 2, 3, 4, 5, 6, 10, 12, 15, 20, 30, 60]"
            ]
          },
          "metadata": {},
          "execution_count": 25
        }
      ]
    },
    {
      "cell_type": "markdown",
      "source": [
        "## 2차원 리스트 연습"
      ],
      "metadata": {
        "id": "4m1CtQdV8miB"
      }
    },
    {
      "cell_type": "code",
      "source": [
        "[j+1 for j in range(4)]"
      ],
      "metadata": {
        "colab": {
          "base_uri": "https://localhost:8080/"
        },
        "id": "VaLMmdLN6rhZ",
        "outputId": "ff2c91fd-a289-4fa9-f899-b0caee6b41fa"
      },
      "execution_count": 33,
      "outputs": [
        {
          "output_type": "execute_result",
          "data": {
            "text/plain": [
              "[1, 2, 3, 4]"
            ]
          },
          "metadata": {},
          "execution_count": 33
        }
      ]
    },
    {
      "cell_type": "code",
      "source": [
        "# 2차원 리스트 연습\n",
        "L = []\n",
        "for i in range(3):\n",
        "    I = []\n",
        "    for j in range(4):\n",
        "        I.append(j+i) \n",
        "    L.append(I)\n",
        "L"
      ],
      "metadata": {
        "id": "x8RXxZ2xLzJ4",
        "colab": {
          "base_uri": "https://localhost:8080/"
        },
        "outputId": "85eebdbe-02a3-43fc-f2c2-c1050f08015f"
      },
      "execution_count": 36,
      "outputs": [
        {
          "output_type": "execute_result",
          "data": {
            "text/plain": [
              "[[0, 1, 2, 3], [1, 2, 3, 4], [2, 3, 4, 5]]"
            ]
          },
          "metadata": {},
          "execution_count": 36
        }
      ]
    },
    {
      "cell_type": "markdown",
      "metadata": {
        "id": "FegAo7Bt6jf5"
      },
      "source": [
        "## softmax"
      ]
    },
    {
      "cell_type": "code",
      "metadata": {
        "id": "qm9G-X4UT_jK"
      },
      "source": [
        "import math\n",
        "\n",
        "class Softmax():\n",
        "    def __init__(self):\n",
        "        self.v = [] # 함숫값을 저장할 리스트\n",
        "        self.deriv = [] # 미분계수를 저장할 리스트\n",
        "\n",
        "    def forward(self, x): # x: 요소 K개인 list\n",
        "        self.K = len(x) # x 안에 들어있는 숫자의 개수\n",
        "        self.denom = 0.0 # softmax 함수값을 계산하기 위한 분모\n",
        "        self.numer = []  # softmax 함수값을 계산하기 위한 분자 K개 저장위한 리스트\n",
        "\n",
        "        ####################################################\n",
        "        #\n",
        "\n",
        "        # 1. 함숫값 구성을 위해 분자와 분모를 계산\n",
        "        for x_i in x:\n",
        "          ex_i = math.exp(x_i) \n",
        "          self.denom += ex_i # 분모\n",
        "          self.numer.append(ex_i) # 분자\n",
        "        # 2. 계산된 분자 분모를 이용해서 함숫값을 계산\n",
        "        for numer in self.numer:\n",
        "          self.v.append(numer / self.denom)\n",
        "        ####################################################\n",
        "    \n",
        "    def __getitem__(self, i):\n",
        "        try:\n",
        "            return self.v[i]\n",
        "        except IndexError as e:\n",
        "            print(e)\n",
        "\n",
        "    def backward(self): \n",
        "        ####################################################\n",
        "        # \n",
        "        # 1. K개 행을 순환하면서\n",
        "        for i in range(self.K):\n",
        "            # 각 행을 저장할 빈 리스트를 만들고\n",
        "            L = []\n",
        "            \n",
        "            # 2. 다시 K개 열을 순환하면서\n",
        "            for j in range(self.K):\n",
        "              if i == j :\n",
        "                L.append(self.v[i]*(1-self.v[i])) # softmax 미분계수 대각행렬\n",
        "              else :\n",
        "                L.append(-self.v[i]*self.v[j]) # softmax미분계수 비대각행렬\n",
        "            # 3. 계산이 완료된 한 행을 self.deriv에 추가하고\n",
        "            # 나머지 K-1개 행에 대해서도 같은 작업을 반복\n",
        "            self.deriv.append(L)    \n",
        "        ####################################################"
      ],
      "execution_count": 55,
      "outputs": []
    },
    {
      "cell_type": "code",
      "metadata": {
        "id": "B_R38asONSo0"
      },
      "source": [
        "import torch"
      ],
      "execution_count": 51,
      "outputs": []
    },
    {
      "cell_type": "code",
      "metadata": {
        "colab": {
          "base_uri": "https://localhost:8080/"
        },
        "id": "DMBKQjQupyQw",
        "outputId": "b7cb980a-ba9c-4f79-ef4e-43f4022581b6"
      },
      "source": [
        "# forward check\n",
        "# 위 클래스가 바르게 코딩되었다면\n",
        "# 이 셀의 실행 값은 매우 작게 출력되어야 함. 대략 +-1.0e-8 정도\n",
        "\n",
        "score = [6.3, 1.4, 3.2, 2.9]\n",
        "s = Softmax()\n",
        "s.forward(score) # score를 포워드 시켜서 함수값 계산\n",
        "\n",
        "s2 = torch.tensor(s.v) # 계산된 함수값 리스트인 v를 tensor 타입으로 만들기\n",
        "# torch.tensor는 어떤 data를 tensor로 copy해주는 함수\n",
        "\n",
        "# import numpy as np\n",
        "# tt = np.array(s.v)\n",
        "# print(tt)\n",
        "\n",
        "x = torch.tensor(score, dtype=torch.float, requires_grad=True)\n",
        "st = torch.nn.functional.softmax(x, dim=0)\n",
        "\n",
        "print(st)\n",
        "print(s2)\n",
        "\n",
        "(st - s2).sum().item()"
      ],
      "execution_count": 56,
      "outputs": [
        {
          "output_type": "stream",
          "name": "stdout",
          "text": [
            "tensor([0.9209, 0.0069, 0.0415, 0.0307], grad_fn=<SoftmaxBackward0>)\n",
            "tensor([0.9209, 0.0069, 0.0415, 0.0307])\n"
          ]
        },
        {
          "output_type": "execute_result",
          "data": {
            "text/plain": [
              "1.1920928955078125e-07"
            ]
          },
          "metadata": {},
          "execution_count": 56
        }
      ]
    },
    {
      "cell_type": "code",
      "metadata": {
        "colab": {
          "base_uri": "https://localhost:8080/"
        },
        "id": "Q5-r8JBlZt-p",
        "outputId": "2816647a-bf19-421a-f994-68811c96d7cf"
      },
      "source": [
        "# backward check\n",
        "# 위 클래스가 바르게 코딩되었다면\n",
        "# 이 셀의 실행 값은 매우 작게 출력되어야 함. 대략 +-1.0e-8 정도\n",
        "s.backward()\n",
        "\n",
        "x = torch.tensor(score, dtype=torch.float, requires_grad=True)\n",
        "st = torch.nn.functional.softmax(x, dim=0)\n",
        "J1 = torch.stack([ torch.autograd.grad(st[i], x, retain_graph=True)[0] \n",
        "                 for i in range(len(score)) ], dim=1)\n",
        "J2 = torch.tensor(s.deriv)\n",
        "print(J1)\n",
        "print(J2)\n",
        "(J1 - J2).sum().item()"
      ],
      "execution_count": 57,
      "outputs": [
        {
          "output_type": "stream",
          "name": "stdout",
          "text": [
            "tensor([[ 0.0728, -0.0063, -0.0382, -0.0283],\n",
            "        [-0.0063,  0.0068, -0.0003, -0.0002],\n",
            "        [-0.0382, -0.0003,  0.0398, -0.0013],\n",
            "        [-0.0283, -0.0002, -0.0013,  0.0298]])\n",
            "tensor([[ 0.0728, -0.0063, -0.0382, -0.0283],\n",
            "        [-0.0063,  0.0068, -0.0003, -0.0002],\n",
            "        [-0.0382, -0.0003,  0.0398, -0.0013],\n",
            "        [-0.0283, -0.0002, -0.0013,  0.0298]])\n"
          ]
        },
        {
          "output_type": "execute_result",
          "data": {
            "text/plain": [
              "-9.764335118234158e-08"
            ]
          },
          "metadata": {},
          "execution_count": 57
        }
      ]
    },
    {
      "cell_type": "code",
      "metadata": {
        "id": "vurqJ8zetCun"
      },
      "source": [
        ""
      ],
      "execution_count": null,
      "outputs": []
    }
  ]
}
