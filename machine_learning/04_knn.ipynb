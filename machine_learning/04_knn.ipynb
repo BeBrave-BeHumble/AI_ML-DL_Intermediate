{
  "nbformat": 4,
  "nbformat_minor": 0,
  "metadata": {
    "colab": {
      "name": "04-knn.ipynb",
      "provenance": [],
      "collapsed_sections": [],
      "toc_visible": true,
      "authorship_tag": "ABX9TyPs1vaAx3LvhiJQweEKxn4h",
      "include_colab_link": true
    },
    "kernelspec": {
      "name": "python3",
      "display_name": "Python 3"
    },
    "language_info": {
      "name": "python"
    }
  },
  "cells": [
    {
      "cell_type": "markdown",
      "metadata": {
        "id": "view-in-github",
        "colab_type": "text"
      },
      "source": [
        "<a href=\"https://colab.research.google.com/github/FulISun/AI_ML-DL_Intermediate/blob/main/machine_learning/04_knn.ipynb\" target=\"_parent\"><img src=\"https://colab.research.google.com/assets/colab-badge.svg\" alt=\"Open In Colab\"/></a>"
      ]
    },
    {
      "cell_type": "markdown",
      "source": [
        "# scikit-learn을 이용한 k 최근접 이웃"
      ],
      "metadata": {
        "id": "6SuKdZZRgikZ"
      }
    },
    {
      "cell_type": "markdown",
      "source": [
        "## 개요\n",
        "\n",
        "- knn 알고리즘은 입력된 새로운 데이터와 가장 비슷한 k개 학습데이터를 찾아서 그 데이터의 평균이나 투표 결과를 결과값으로 되돌려주는 알고리즘\n",
        "- => k개 주변의 평균값! 따라서 k가 작을수록 데이터에 민감하게 반응함 (아래 예시에서 확인 할 것)\n",
        "\n",
        "\n",
        "<img src=\"https://kr.mathworks.com/matlabcentral/mlc-downloads/downloads/03faee64-e85e-4ea0-a2b4-e5964949e2d1/d99b9a4d-618c-45f0-86d1-388bdf852c1d/images/screenshot.gif\" width=300/>\n",
        "\n",
        "- 분류 문제인 경우 위 그림처럼 가장 가까운 데이터를 찾고 많은 쪽에 속하도록 분류\n",
        "\n",
        "\n",
        "<img src=\"https://scikit-learn.org/stable/_images/sphx_glr_plot_regression_001.png\" width=400/>\n",
        "\n",
        "- 회귀문제인 경우 가까운 데이터의 타겟 평균값이 결과가 됨"
      ],
      "metadata": {
        "id": "YCLymLyqhKMK"
      }
    },
    {
      "cell_type": "code",
      "execution_count": 66,
      "metadata": {
        "id": "QlIAnCJRgcFc"
      },
      "outputs": [],
      "source": [
        "import numpy as np\n",
        "import matplotlib.pyplot as plt\n",
        "import pandas as pd"
      ]
    },
    {
      "cell_type": "markdown",
      "source": [
        "## 데이터 로드\n",
        "\n",
        "- 머신러닝은 크게 분류문제와 회귀문제로 구성되므로 여기서 간단한 분류문제에 대한 데이터, 회귀문제에 대한 데이터를 로드"
      ],
      "metadata": {
        "id": "T1W3ujaViEJw"
      }
    },
    {
      "cell_type": "code",
      "source": [
        "# 여기부터 시작!\n",
        "D = np.load('basic_clfreg.npz')"
      ],
      "metadata": {
        "id": "8Psl43wxiD-7"
      },
      "execution_count": 67,
      "outputs": []
    },
    {
      "cell_type": "code",
      "source": [
        "print(type(D))"
      ],
      "metadata": {
        "colab": {
          "base_uri": "https://localhost:8080/"
        },
        "id": "r9NEWhHHilvk",
        "outputId": "9b4309e7-e56e-48fa-9ccd-86cbb0dc4979"
      },
      "execution_count": 68,
      "outputs": [
        {
          "output_type": "stream",
          "name": "stdout",
          "text": [
            "<class 'numpy.lib.npyio.NpzFile'>\n"
          ]
        }
      ]
    },
    {
      "cell_type": "code",
      "source": [
        "X_clf = D['X_clf']\n",
        "y_clf = D['y_clf']\n",
        "\n",
        "X_reg = D['X_reg']\n",
        "y_reg = D['y_reg']"
      ],
      "metadata": {
        "id": "1d4iK8CBiD8_"
      },
      "execution_count": 69,
      "outputs": []
    },
    {
      "cell_type": "markdown",
      "source": [
        "## 데이터 확인"
      ],
      "metadata": {
        "id": "ifN3yxoKiw9o"
      }
    },
    {
      "cell_type": "code",
      "source": [
        "print(X_clf.shape, y_clf.shape, X_reg.shape, y_reg.shape)"
      ],
      "metadata": {
        "colab": {
          "base_uri": "https://localhost:8080/"
        },
        "id": "gUuSPRRwivtZ",
        "outputId": "8a601880-07f6-4f45-a162-4d6bd5e3c697"
      },
      "execution_count": 70,
      "outputs": [
        {
          "output_type": "stream",
          "name": "stdout",
          "text": [
            "(26, 2) (26,) (40, 1) (40,)\n"
          ]
        }
      ]
    },
    {
      "cell_type": "markdown",
      "source": [
        "### 분류데이터"
      ],
      "metadata": {
        "id": "3zoLlENDjA01"
      }
    },
    {
      "cell_type": "code",
      "source": [
        "# 분류용 데이터를 타겟별로 나눠서 그리기\n",
        "fig = plt.figure()\n",
        "ax = plt.axes()\n",
        "\n",
        "ax.plot(X_clf[y_clf==0][:,0], X_clf[y_clf==0][:,1], 'o', label='y=0') # x축: y=0일 때 X1, y축: y=0일 때 X2 \n",
        "ax.plot(X_clf[y_clf==1][:,0], X_clf[y_clf==1][:,1], '^', label='y=1') # x축: y=1일 때 X1, y축: y=1일 때 X2\n",
        "\n",
        "ax.set_xlabel('feature 0')\n",
        "ax.set_ylabel('feature 1')\n",
        "\n",
        "ax.legend()\n",
        "\n",
        "plt.show()"
      ],
      "metadata": {
        "colab": {
          "base_uri": "https://localhost:8080/",
          "height": 279
        },
        "id": "gInPjzhziD6c",
        "outputId": "b37cd416-3595-4418-f05d-73df18d9d8b8"
      },
      "execution_count": 71,
      "outputs": [
        {
          "output_type": "display_data",
          "data": {
            "text/plain": [
              "<Figure size 432x288 with 1 Axes>"
            ],
            "image/png": "[encoded data removed]"
          },
          "metadata": {
            "needs_background": "light"
          }
        }
      ]
    },
    {
      "cell_type": "markdown",
      "source": [
        "### 회귀 데이터"
      ],
      "metadata": {
        "id": "KgSDbfYukBxh"
      }
    },
    {
      "cell_type": "code",
      "source": [
        "# 회귀용 데이터를 타겟별로 나눠서 그리기\n",
        "fig = plt.figure()\n",
        "ax = plt.axes()\n",
        "\n",
        "ax.plot(X_reg, y_reg, 'o')\n",
        "\n",
        "ax.set_xlabel('feature')\n",
        "ax.set_ylabel('target')\n",
        "\n",
        "plt.show()"
      ],
      "metadata": {
        "colab": {
          "base_uri": "https://localhost:8080/",
          "height": 279
        },
        "id": "7llo9goAiD3-",
        "outputId": "1d58ed0f-20e7-4358-93e6-c023cbea0d1c"
      },
      "execution_count": 72,
      "outputs": [
        {
          "output_type": "display_data",
          "data": {
            "text/plain": [
              "<Figure size 432x288 with 1 Axes>"
            ],
            "image/png": "[encoded data removed]"
          },
          "metadata": {
            "needs_background": "light"
          }
        }
      ]
    },
    {
      "cell_type": "markdown",
      "source": [
        "### 데이터셋 split\n",
        "\n",
        "- 머신러닝을 학습할 때 학습에 사용하는 데이터와 학습된 모델이 얼마나 잘 동작하는지 테스트할 데이터를 나누게 됨"
      ],
      "metadata": {
        "id": "ZEVb71Fykack"
      }
    },
    {
      "cell_type": "code",
      "source": [
        "# train_test_split\n",
        "from sklearn.model_selection import train_test_split"
      ],
      "metadata": {
        "id": "hXAgR1BuiD1v"
      },
      "execution_count": 73,
      "outputs": []
    },
    {
      "cell_type": "code",
      "source": [
        "# 데이터 분리\n",
        "X_clf_train, X_clf_test, y_clf_train, y_clf_test = train_test_split(X_clf, y_clf, random_state=66)\n",
        "X_reg_train, X_reg_test, y_reg_train, y_reg_test = train_test_split(X_reg, y_reg, random_state=66)"
      ],
      "metadata": {
        "id": "auajsKWSiDzL"
      },
      "execution_count": 74,
      "outputs": []
    },
    {
      "cell_type": "code",
      "source": [
        "print(X_clf_train.shape, X_clf_test.shape, y_clf_train.shape, y_clf_test.shape)\n",
        "print(X_reg_train.shape, X_reg_test.shape, y_reg_train.shape, y_reg_test.shape)"
      ],
      "metadata": {
        "colab": {
          "base_uri": "https://localhost:8080/"
        },
        "id": "zjJyGtTkmEGs",
        "outputId": "58ca1335-71a7-4809-f56e-7c51e47322a7"
      },
      "execution_count": 75,
      "outputs": [
        {
          "output_type": "stream",
          "name": "stdout",
          "text": [
            "(19, 2) (7, 2) (19,) (7,)\n",
            "(30, 1) (10, 1) (30,) (10,)\n"
          ]
        }
      ]
    },
    {
      "cell_type": "markdown",
      "source": [
        "## k-최근접 이웃 k-Nearest Neighbors"
      ],
      "metadata": {
        "id": "-4f9WyHSlI0h"
      }
    },
    {
      "cell_type": "markdown",
      "source": [
        "### 분류"
      ],
      "metadata": {
        "id": "5sLQqRxdlOFu"
      }
    },
    {
      "cell_type": "code",
      "source": [
        "from sklearn.neighbors import KNeighborsClassifier"
      ],
      "metadata": {
        "id": "O98MfCpwiDxF"
      },
      "execution_count": 76,
      "outputs": []
    },
    {
      "cell_type": "code",
      "source": [
        "# fit\n",
        "clf = KNeighborsClassifier(n_neighbors=3) # 몇 개로 나눌건지\n",
        "clf.fit(X_clf_train, y_clf_train)"
      ],
      "metadata": {
        "colab": {
          "base_uri": "https://localhost:8080/"
        },
        "id": "ow0XxuyYiDuq",
        "outputId": "84f3a2ec-b584-44cc-a97d-3a46b01a7a07"
      },
      "execution_count": 77,
      "outputs": [
        {
          "output_type": "execute_result",
          "data": {
            "text/plain": [
              "KNeighborsClassifier(n_neighbors=3)"
            ]
          },
          "metadata": {},
          "execution_count": 77
        }
      ]
    },
    {
      "cell_type": "code",
      "source": [
        "print(f\"test set 예측:{clf.predict(X_clf_test)}\") # test set 7개에 대한 예측값"
      ],
      "metadata": {
        "colab": {
          "base_uri": "https://localhost:8080/"
        },
        "id": "ZuE0MRYyiDr2",
        "outputId": "38186942-f308-4c61-a3b3-4013b58ae0f2"
      },
      "execution_count": 78,
      "outputs": [
        {
          "output_type": "stream",
          "name": "stdout",
          "text": [
            "test set 예측:[0 0 1 1 0 1 0]\n"
          ]
        }
      ]
    },
    {
      "cell_type": "code",
      "source": [
        "print(f\"test set 정확도:{clf.score(X_clf_test, y_clf_test):.2f}\")"
      ],
      "metadata": {
        "colab": {
          "base_uri": "https://localhost:8080/"
        },
        "id": "mkUBO_hXmeAV",
        "outputId": "f0b87d7b-c7aa-4cfa-f9cf-9006cffb070d"
      },
      "execution_count": 79,
      "outputs": [
        {
          "output_type": "stream",
          "name": "stdout",
          "text": [
            "test set 정확도:0.86\n"
          ]
        }
      ]
    },
    {
      "cell_type": "code",
      "source": [
        "# 이웃 수를 1, 3, 9로 바꿔가면서 test set에 대한 정확도 확인\n",
        "\n",
        "for n in [1,3,9]:\n",
        "    clf = KNeighborsClassifier(n_neighbors=n)\n",
        "    clf.fit(X_clf_train, y_clf_train)\n",
        "\n",
        "    print(f\"{n} 이웃모델 test set 정확도:{clf.score(X_clf_test, y_clf_test):.2f}\")\n",
        "\n",
        "    # 정확도 달라지지 않는 이유 확인해보기 "
      ],
      "metadata": {
        "colab": {
          "base_uri": "https://localhost:8080/"
        },
        "id": "B7RLhJPGmd-K",
        "outputId": "0cabb292-6df8-44b4-8e63-059c3d7b14b5"
      },
      "execution_count": 80,
      "outputs": [
        {
          "output_type": "stream",
          "name": "stdout",
          "text": [
            "1 이웃모델 test set 정확도:0.86\n",
            "3 이웃모델 test set 정확도:0.86\n",
            "9 이웃모델 test set 정확도:0.86\n"
          ]
        }
      ]
    },
    {
      "cell_type": "code",
      "source": [
        "# 처음 한 번만 그림으로 확인\n",
        "\n",
        "# 왜 똑같은지 확인하기 위해 결정경계 그리기\n",
        "ngrid = 50\n",
        "eps = 0.5\n",
        "\n",
        "# 데이터의 최소, 최대값보다 eps만큼 바깥 영역에서 그리드 짜기\n",
        "x_min, x_max = X_clf[:, 0].min() - eps, X_clf[:, 0].max() + eps # x축: X1\n",
        "y_min, y_max = X_clf[:, 1].min() - eps, X_clf[:, 1].max() + eps # y축: X2\n",
        "xx = np.linspace(x_min, x_max, ngrid)\n",
        "yy = np.linspace(y_min, y_max, ngrid)\n",
        "X1, X2 = np.meshgrid(xx, yy)\n",
        "\n",
        "# 그리드를 1차원으로 펼치고 컨투어 그릴 레벨 설정\n",
        "X_grid = np.c_[X1.ravel(), X2.ravel()]\n",
        "levels = [0, 0.5, 1]\n",
        "\n",
        "fig, ax = plt.subplots(figsize=(15,4), nrows=1, ncols=3, dpi=100)\n",
        "\n",
        "for i, n in enumerate([1,3,9]):\n",
        "    # 모델 생성, fit\n",
        "    clf = KNeighborsClassifier(n_neighbors=n)\n",
        "    clf.fit(X_clf_train, y_clf_train)\n",
        "\n",
        "    # X_grid (그림 그리는 공전 전부)에 대해서 예측\n",
        "    decision_values = clf.predict(X_grid)\n",
        "\n",
        "    # 결정경계 그리기\n",
        "    ax[i].contourf(X1, X2, decision_values.reshape(X1.shape),\n",
        "                  levels=levels, colors=['C1', 'C2'], alpha=0.4) #contour는 선으로 그려지고 contourf는 채워짐\n",
        "\n",
        "    # 학습 데이터 그리기\n",
        "    ax[i].plot(X_clf_train[y_clf_train==0][:,0],\n",
        "               X_clf_train[y_clf_train==0][:,1], 'o', label='y=0') # x축:X1, y축:X2\n",
        "    ax[i].plot(X_clf_train[y_clf_train==1][:,0],\n",
        "               X_clf_train[y_clf_train==1][:,1], '^', label='y=1')\n",
        "    \n",
        "    # 테스트 데이터 그리기\n",
        "    ax[i].scatter(X_clf_test[y_clf_test==0][:,0],\n",
        "                  X_clf_test[y_clf_test==0][:,1], marker='o', edgecolor='k',\n",
        "                  s=40, label='y=0')\n",
        "    ax[i].scatter(X_clf_test[y_clf_test==1][:,0],\n",
        "                  X_clf_test[y_clf_test==1][:,1], marker='^', edgecolor='k',\n",
        "                  s=40, label='y=1')\n",
        "    ax[i].set_title(f\"k={n}\")\n",
        "    ax[i].legend()\n",
        "\n",
        "plt.show()                         "
      ],
      "metadata": {
        "colab": {
          "base_uri": "https://localhost:8080/",
          "height": 277
        },
        "id": "woCA61Enmd8E",
        "outputId": "68cf9cce-ec24-421e-80ad-a0c2b281aef7"
      },
      "execution_count": 81,
      "outputs": [
        {
          "output_type": "display_data",
          "data": {
            "text/plain": [
              "<Figure size 1500x400 with 3 Axes>"
            ],
            "image/png": "[encoded data removed]"
          },
          "metadata": {
            "needs_background": "light"
          }
        }
      ]
    },
    {
      "cell_type": "markdown",
      "source": [
        "- 볼드 테두리는 테스트 데이터라 학습할 때 못 본 데이터임. 테스트 데이터만 놓고 보면 k를 바꿔도 달라지는 게 없음.\n",
        "- k=1일 땐 결정경계가 구불구불함. 즉, 주변 데이터에 민감하게 반응함. k=3일 땐 주변 3개의 평균이기 때문에 나름 부드러움. k=9는 완전 부드러움. => 따라서 k가 클수록 결정경계가 부드러워짐"
      ],
      "metadata": {
        "id": "EQGy9rLwyCHH"
      }
    },
    {
      "cell_type": "markdown",
      "source": [
        "### 회귀"
      ],
      "metadata": {
        "id": "Ms-kA9ruyzTU"
      }
    },
    {
      "cell_type": "code",
      "source": [
        "from sklearn.neighbors import KNeighborsRegressor"
      ],
      "metadata": {
        "id": "XFy-wPDJmd5C"
      },
      "execution_count": 82,
      "outputs": []
    },
    {
      "cell_type": "code",
      "source": [
        "# fit\n",
        "reg = KNeighborsRegressor(n_neighbors=3)\n",
        "reg.fit(X_reg_train, y_reg_train)"
      ],
      "metadata": {
        "colab": {
          "base_uri": "https://localhost:8080/"
        },
        "id": "ppEHEmFWyy41",
        "outputId": "86d65018-0377-4846-ffa3-498d1b9ab918"
      },
      "execution_count": 83,
      "outputs": [
        {
          "output_type": "execute_result",
          "data": {
            "text/plain": [
              "KNeighborsRegressor(n_neighbors=3)"
            ]
          },
          "metadata": {},
          "execution_count": 83
        }
      ]
    },
    {
      "cell_type": "code",
      "source": [
        "print(f\"test set R^2 score: {reg.score(X_reg_test, y_reg_test):.2f}\")"
      ],
      "metadata": {
        "colab": {
          "base_uri": "https://localhost:8080/"
        },
        "id": "sYTC-1cJyy1h",
        "outputId": "8027c87e-f855-4b1d-faa3-7df223b7f00c"
      },
      "execution_count": 84,
      "outputs": [
        {
          "output_type": "stream",
          "name": "stdout",
          "text": [
            "test set R^2 score: 0.70\n"
          ]
        }
      ]
    },
    {
      "cell_type": "markdown",
      "source": [
        "- 회귀의 경우 성능 지표는 목적함수가 있는 경우 목적함수값으로 사용하나 여기서는 결정계수로 불리는 $R^2$을 주로 사용\n",
        "\n",
        "$$\n",
        "R^2 = 1 - \\frac{\\sum_i (y_i- \\hat{y}_i)^2}{\\sum (y_i - \\bar{y})^2}\n",
        "$$\n",
        "\n",
        "- 위 식은 데이터와 평균과의 차이 합에 대한 예측과의 차이의 비율\n",
        "\n",
        "- 그냥 평균으로 예측한다면 0, 평균보다 낫다면 0보다 큰값, 예측과 데이터의 오차가 없다면 1"
      ],
      "metadata": {
        "id": "PUJ5KbklzRKM"
      }
    },
    {
      "cell_type": "code",
      "source": [
        "# 이웃수를 1,3,9로 바꿔가며 test set에 대한 R^2 score\n",
        "for n in [1,3,9]:\n",
        "    reg = KNeighborsRegressor(n_neighbors=n)\n",
        "    reg.fit(X_reg_train, y_reg_train)\n",
        "\n",
        "    print(f\"{n} test set R^2 score: {reg.score(X_reg_test, y_reg_test):.2f}\")"
      ],
      "metadata": {
        "colab": {
          "base_uri": "https://localhost:8080/"
        },
        "id": "-OdSh8LByyyi",
        "outputId": "1adbc503-7656-4f4e-dc7b-be0e314c3db8"
      },
      "execution_count": 85,
      "outputs": [
        {
          "output_type": "stream",
          "name": "stdout",
          "text": [
            "1 test set R^2 score: 0.57\n",
            "3 test set R^2 score: 0.70\n",
            "9 test set R^2 score: 0.72\n"
          ]
        }
      ]
    },
    {
      "cell_type": "code",
      "source": [
        "# 그림으로 확인\n",
        "\n",
        "fig, ax = plt.subplots(figsize=(15,4), nrows=1, ncols=3, dpi=100)\n",
        "x_min, x_max = X_reg.min() - eps, X_reg.max() + eps\n",
        "x = np.linspace(x_min, x_max, 100)\n",
        "\n",
        "for i, n in enumerate([1,3,9]):\n",
        "\n",
        "    reg = KNeighborsRegressor(n_neighbors=n)\n",
        "    reg.fit(X_reg_train, y_reg_train) # fitting\n",
        "    \n",
        "     # X_grid (그림 그리는 공전 전부)에 대해서 예측\n",
        "    pred = reg.predict(x.reshape(-1,1)) # prediction\n",
        "    \n",
        "    ax[i].plot(x, pred, color='0.5', zorder=20, alpha=0.5) # 선으로 표시된 그래프\n",
        "    ax[i].plot(X_reg_train, y_reg_train, 'o', label='train')\n",
        "    ax[i].plot(X_reg_test, y_reg_test, '^', label='test')\n",
        "\n",
        "    ax[i].set_title(f\"{n} neighbors: \\\n",
        "train score:{reg.score(X_reg_train, y_reg_train):.2f}, \\\n",
        "test score: {reg.score(X_reg_test, y_reg_test):.2f}\")\n",
        "    \n",
        "plt.show()"
      ],
      "metadata": {
        "colab": {
          "base_uri": "https://localhost:8080/",
          "height": 273
        },
        "id": "HcDY-EuZyyvb",
        "outputId": "60e5b931-3729-4291-e530-7840d6a35f94"
      },
      "execution_count": 86,
      "outputs": [
        {
          "output_type": "display_data",
          "data": {
            "text/plain": [
              "<Figure size 1500x400 with 3 Axes>"
            ],
            "image/png": "[encoded data removed]"
          },
          "metadata": {
            "needs_background": "light"
          }
        }
      ]
    },
    {
      "cell_type": "markdown",
      "source": [
        "k=1일 땐 모든 트레이닝 데이터를 다 학습시키기 때문에 오버피팅 되어서 테스트셋에 맞지 않음"
      ],
      "metadata": {
        "id": "2quHgyYV1H4l"
      }
    },
    {
      "cell_type": "markdown",
      "source": [
        "## 실습: real data"
      ],
      "metadata": {
        "id": "J7D-7PCFGOPi"
      }
    },
    {
      "cell_type": "markdown",
      "source": [
        "### 분류: 유방암 데이터\n",
        "\n",
        "- 아래 로드된 유방암 데이터의 특성을 조사하고 최적의 n_neighbors 구하기"
      ],
      "metadata": {
        "id": "R1T-UrU9GRba"
      }
    },
    {
      "cell_type": "code",
      "source": [
        "from sklearn.datasets import load_breast_cancer\n",
        "\n",
        "cancer = load_breast_cancer()\n",
        "\n",
        "X_train, X_test, y_train, y_test = train_test_split(\n",
        "    cancer.data, cancer.target, stratify = cancer.target, random_state =66\n",
        ")"
      ],
      "metadata": {
        "id": "d_B2fIAIyys2"
      },
      "execution_count": 87,
      "outputs": []
    },
    {
      "cell_type": "code",
      "source": [
        "print(cancer['DESCR'])"
      ],
      "metadata": {
        "colab": {
          "base_uri": "https://localhost:8080/"
        },
        "id": "7Y0oXAe2md2Z",
        "outputId": "27df20b3-e477-49e2-e4b7-dc3c425f8f27"
      },
      "execution_count": 88,
      "outputs": [
        {
          "output_type": "stream",
          "name": "stdout",
          "text": [
            ".. _breast_cancer_dataset:\n",
            "\n",
            "Breast cancer wisconsin (diagnostic) dataset\n",
            "--------------------------------------------\n",
            "\n",
            "**Data Set Characteristics:**\n",
            "\n",
            "    :Number of Instances: 569\n",
            "\n",
            "    :Number of Attributes: 30 numeric, predictive attributes and the class\n",
            "\n",
            "    :Attribute Information:\n",
            "        - radius (mean of distances from center to points on the perimeter)\n",
            "        - texture (standard deviation of gray-scale values)\n",
            "        - perimeter\n",
            "        - area\n",
            "        - smoothness (local variation in radius lengths)\n",
            "        - compactness (perimeter^2 / area - 1.0)\n",
            "        - concavity (severity of concave portions of the contour)\n",
            "        - concave points (number of concave portions of the contour)\n",
            "        - symmetry\n",
            "        - fractal dimension (\"coastline approximation\" - 1)\n",
            "\n",
            "        The mean, standard error, and \"worst\" or largest (mean of the three\n",
            "        worst/largest values) of these features were computed for each image,\n",
            "        resulting in 30 features.  For instance, field 0 is Mean Radius, field\n",
            "        10 is Radius SE, field 20 is Worst Radius.\n",
            "\n",
            "        - class:\n",
            "                - WDBC-Malignant\n",
            "                - WDBC-Benign\n",
            "\n",
            "    :Summary Statistics:\n",
            "\n",
            "    ===================================== ====== ======\n",
            "                                           Min    Max\n",
            "    ===================================== ====== ======\n",
            "    radius (mean):                        6.981  28.11\n",
            "    texture (mean):                       9.71   39.28\n",
            "    perimeter (mean):                     43.79  188.5\n",
            "    area (mean):                          143.5  2501.0\n",
            "    smoothness (mean):                    0.053  0.163\n",
            "    compactness (mean):                   0.019  0.345\n",
            "    concavity (mean):                     0.0    0.427\n",
            "    concave points (mean):                0.0    0.201\n",
            "    symmetry (mean):                      0.106  0.304\n",
            "    fractal dimension (mean):             0.05   0.097\n",
            "    radius (standard error):              0.112  2.873\n",
            "    texture (standard error):             0.36   4.885\n",
            "    perimeter (standard error):           0.757  21.98\n",
            "    area (standard error):                6.802  542.2\n",
            "    smoothness (standard error):          0.002  0.031\n",
            "    compactness (standard error):         0.002  0.135\n",
            "    concavity (standard error):           0.0    0.396\n",
            "    concave points (standard error):      0.0    0.053\n",
            "    symmetry (standard error):            0.008  0.079\n",
            "    fractal dimension (standard error):   0.001  0.03\n",
            "    radius (worst):                       7.93   36.04\n",
            "    texture (worst):                      12.02  49.54\n",
            "    perimeter (worst):                    50.41  251.2\n",
            "    area (worst):                         185.2  4254.0\n",
            "    smoothness (worst):                   0.071  0.223\n",
            "    compactness (worst):                  0.027  1.058\n",
            "    concavity (worst):                    0.0    1.252\n",
            "    concave points (worst):               0.0    0.291\n",
            "    symmetry (worst):                     0.156  0.664\n",
            "    fractal dimension (worst):            0.055  0.208\n",
            "    ===================================== ====== ======\n",
            "\n",
            "    :Missing Attribute Values: None\n",
            "\n",
            "    :Class Distribution: 212 - Malignant, 357 - Benign\n",
            "\n",
            "    :Creator:  Dr. William H. Wolberg, W. Nick Street, Olvi L. Mangasarian\n",
            "\n",
            "    :Donor: Nick Street\n",
            "\n",
            "    :Date: November, 1995\n",
            "\n",
            "This is a copy of UCI ML Breast Cancer Wisconsin (Diagnostic) datasets.\n",
            "https://goo.gl/U2Uwz2\n",
            "\n",
            "Features are computed from a digitized image of a fine needle\n",
            "aspirate (FNA) of a breast mass.  They describe\n",
            "characteristics of the cell nuclei present in the image.\n",
            "\n",
            "Separating plane described above was obtained using\n",
            "Multisurface Method-Tree (MSM-T) [K. P. Bennett, \"Decision Tree\n",
            "Construction Via Linear Programming.\" Proceedings of the 4th\n",
            "Midwest Artificial Intelligence and Cognitive Science Society,\n",
            "pp. 97-101, 1992], a classification method which uses linear\n",
            "programming to construct a decision tree.  Relevant features\n",
            "were selected using an exhaustive search in the space of 1-4\n",
            "features and 1-3 separating planes.\n",
            "\n",
            "The actual linear program used to obtain the separating plane\n",
            "in the 3-dimensional space is that described in:\n",
            "[K. P. Bennett and O. L. Mangasarian: \"Robust Linear\n",
            "Programming Discrimination of Two Linearly Inseparable Sets\",\n",
            "Optimization Methods and Software 1, 1992, 23-34].\n",
            "\n",
            "This database is also available through the UW CS ftp server:\n",
            "\n",
            "ftp ftp.cs.wisc.edu\n",
            "cd math-prog/cpo-dataset/machine-learn/WDBC/\n",
            "\n",
            ".. topic:: References\n",
            "\n",
            "   - W.N. Street, W.H. Wolberg and O.L. Mangasarian. Nuclear feature extraction \n",
            "     for breast tumor diagnosis. IS&T/SPIE 1993 International Symposium on \n",
            "     Electronic Imaging: Science and Technology, volume 1905, pages 861-870,\n",
            "     San Jose, CA, 1993.\n",
            "   - O.L. Mangasarian, W.N. Street and W.H. Wolberg. Breast cancer diagnosis and \n",
            "     prognosis via linear programming. Operations Research, 43(4), pages 570-577, \n",
            "     July-August 1995.\n",
            "   - W.H. Wolberg, W.N. Street, and O.L. Mangasarian. Machine learning techniques\n",
            "     to diagnose breast cancer from fine-needle aspirates. Cancer Letters 77 (1994) \n",
            "     163-171.\n"
          ]
        }
      ]
    },
    {
      "cell_type": "code",
      "source": [
        "print(X_train.shape, X_test.shape, y_train.shape, y_test.shape)"
      ],
      "metadata": {
        "colab": {
          "base_uri": "https://localhost:8080/"
        },
        "id": "EZoO9B6KG30I",
        "outputId": "75e409a4-6e71-4bf1-9b1c-592f759cebd9"
      },
      "execution_count": 89,
      "outputs": [
        {
          "output_type": "stream",
          "name": "stdout",
          "text": [
            "(426, 30) (143, 30) (426,) (143,)\n"
          ]
        }
      ]
    },
    {
      "cell_type": "code",
      "source": [
        "training_accuracy = []\n",
        "test_accuracy = []\n",
        "\n",
        "# 1에서 10까지 n_neighbors를 적용\n",
        "neighbors_settings = range(1,11)\n",
        "\n",
        "fig = plt.figure(figsize=(8,5))\n",
        "ax = plt.axes()\n",
        "\n",
        "#-------------------------------------------------------\n",
        "for n_neighbors in neighbors_settings:\n",
        "\n",
        "    # 모델 생성\n",
        "    clf = KNeighborsClassifier(n_neighbors=n_neighbors)\n",
        "    clf.fit(X_train, y_train)\n",
        "    # training set 정확도 저장\n",
        "    training_accuracy.append(clf.score(X_train, y_train))\n",
        "    # test set 정확도 저장\n",
        "    test_accuracy.append(clf.score(X_test, y_test))\n",
        "#-------------------------------------------------------\n",
        "\n",
        "# 저장된 정확도를 n_neighbors에 대해서 그림\n",
        "ax.plot(neighbors_settings, training_accuracy, label = 'Train Acc.')\n",
        "ax.plot(neighbors_settings, test_accuracy, label = 'Test Acc.')\n",
        "\n",
        "ax.set_ylabel(\"Accuracy\", size=13)\n",
        "ax.set_xlabel(\"n_neighbors\", size=13)\n",
        "ax.legend(fontsize=13)\n",
        "\n",
        "plt.show()"
      ],
      "metadata": {
        "colab": {
          "base_uri": "https://localhost:8080/",
          "height": 337
        },
        "id": "dJX13V92G3yT",
        "outputId": "f4d59ab0-b727-4b09-fede-985c8bc5c0dc"
      },
      "execution_count": 90,
      "outputs": [
        {
          "output_type": "display_data",
          "data": {
            "text/plain": [
              "<Figure size 576x360 with 1 Axes>"
            ],
            "image/png": "[encoded data removed]"
          },
          "metadata": {
            "needs_background": "light"
          }
        }
      ]
    },
    {
      "cell_type": "markdown",
      "source": [
        "- 이런 plot을 validation curve 라고 부름\n",
        "- 6까지는 training이 줄어들고 test가 올라감 => 일반화 성능이 좋아짐\n",
        "- 6을 넘어서면 둘 다 떨어짐. => 6이 최적"
      ],
      "metadata": {
        "id": "VbdYzpsAITUY"
      }
    },
    {
      "cell_type": "code",
      "source": [
        "# 실제 양성 음성을 출력하는 함수 만들기\n",
        "best_clf = KNeighborsClassifier(n_neighbors=6)\n",
        "best_clf.fit(X_train, y_train)"
      ],
      "metadata": {
        "colab": {
          "base_uri": "https://localhost:8080/"
        },
        "id": "Kyj8mZ98G3v_",
        "outputId": "d494d789-62c2-4ada-95d6-72e8101cd136"
      },
      "execution_count": 91,
      "outputs": [
        {
          "output_type": "execute_result",
          "data": {
            "text/plain": [
              "KNeighborsClassifier(n_neighbors=6)"
            ]
          },
          "metadata": {},
          "execution_count": 91
        }
      ]
    },
    {
      "cell_type": "code",
      "source": [
        "best_clf.score(X_test, y_test)"
      ],
      "metadata": {
        "colab": {
          "base_uri": "https://localhost:8080/"
        },
        "id": "cmwEePEgIhM3",
        "outputId": "496084a1-fd28-4f70-bade-72bf43f0dcc6"
      },
      "execution_count": 92,
      "outputs": [
        {
          "output_type": "execute_result",
          "data": {
            "text/plain": [
              "0.9370629370629371"
            ]
          },
          "metadata": {},
          "execution_count": 92
        }
      ]
    },
    {
      "cell_type": "markdown",
      "source": [
        "그런데 우리는 6이란 파라미터를 튜닝하기 위해서 test데이터도 사용해버렸기 때문에 정석대로면 아예 새로운 데이터 셋이 필요함. => 그래서 k-fold cv하는 것"
      ],
      "metadata": {
        "id": "yDzHEYP8Ix7i"
      }
    },
    {
      "cell_type": "code",
      "source": [
        "def predict_breast_cancer(x, model):\n",
        "    target = np.array(['Malignant', 'Benign']) # 타겟값의 이름을 정함 (음성, 양성)\n",
        "\n",
        "    pred = model.predict(x)\n",
        "    print(pred)\n",
        "\n",
        "    return target[pred]"
      ],
      "metadata": {
        "id": "fKWov-pOG3tT"
      },
      "execution_count": 103,
      "outputs": []
    },
    {
      "cell_type": "code",
      "source": [
        "i = 10 # i번째 데이터 예측하기\n",
        "print(X_test[i:i+1]) # 그냥 [i]는 인덱싱이라 차원이 축소됨!! 슬라이싱 해서 차원 유지하기!!\n",
        "predict_breast_cancer(X_test[i:i+1], best_clf)"
      ],
      "metadata": {
        "colab": {
          "base_uri": "https://localhost:8080/"
        },
        "id": "Kg1Ks8PkG3q8",
        "outputId": "a33f3cc5-6400-4a30-e956-8c7564ee57b7"
      },
      "execution_count": 104,
      "outputs": [
        {
          "output_type": "stream",
          "name": "stdout",
          "text": [
            "[[1.674e+01 2.159e+01 1.101e+02 8.695e+02 9.610e-02 1.336e-01 1.348e-01\n",
            "  6.018e-02 1.896e-01 5.656e-02 4.615e-01 9.197e-01 3.008e+00 4.519e+01\n",
            "  5.776e-03 2.499e-02 3.695e-02 1.195e-02 2.789e-02 2.665e-03 2.001e+01\n",
            "  2.902e+01 1.335e+02 1.229e+03 1.563e-01 3.835e-01 5.409e-01 1.813e-01\n",
            "  4.863e-01 8.633e-02]]\n",
            "[0]\n"
          ]
        },
        {
          "output_type": "execute_result",
          "data": {
            "text/plain": [
              "array(['Malignant'], dtype='<U9')"
            ]
          },
          "metadata": {},
          "execution_count": 104
        }
      ]
    },
    {
      "cell_type": "markdown",
      "source": [
        "### 회귀: 보스톤 집값 데이터\n",
        "\n",
        "- 아래 로드된 보스톤 집값 데이터 특성을 조사하고 최적의 n_neighbors를 찾기"
      ],
      "metadata": {
        "id": "EKKt3guqK4bn"
      }
    },
    {
      "cell_type": "code",
      "source": [
        "from sklearn.datasets import load_boston\n",
        "\n",
        "boston = load_boston()\n",
        "\n",
        "X_train, X_test, y_train, y_test = train_test_split(\n",
        "    boston.data, boston.target, random_state=66\n",
        ")"
      ],
      "metadata": {
        "colab": {
          "base_uri": "https://localhost:8080/"
        },
        "id": "2Man9r_fG3oK",
        "outputId": "4db431c5-cbad-43fe-e705-8c5ad7b06e3d"
      },
      "execution_count": 105,
      "outputs": [
        {
          "output_type": "stream",
          "name": "stderr",
          "text": [
            "/usr/local/lib/python3.7/dist-packages/sklearn/utils/deprecation.py:87: FutureWarning: Function load_boston is deprecated; `load_boston` is deprecated in 1.0 and will be removed in 1.2.\n",
            "\n",
            "    The Boston housing prices dataset has an ethical problem. You can refer to\n",
            "    the documentation of this function for further details.\n",
            "\n",
            "    The scikit-learn maintainers therefore strongly discourage the use of this\n",
            "    dataset unless the purpose of the code is to study and educate about\n",
            "    ethical issues in data science and machine learning.\n",
            "\n",
            "    In this special case, you can fetch the dataset from the original\n",
            "    source::\n",
            "\n",
            "        import pandas as pd\n",
            "        import numpy as np\n",
            "\n",
            "\n",
            "        data_url = \"http://lib.stat.cmu.edu/datasets/boston\"\n",
            "        raw_df = pd.read_csv(data_url, sep=\"\\s+\", skiprows=22, header=None)\n",
            "        data = np.hstack([raw_df.values[::2, :], raw_df.values[1::2, :2]])\n",
            "        target = raw_df.values[1::2, 2]\n",
            "\n",
            "    Alternative datasets include the California housing dataset (i.e.\n",
            "    :func:`~sklearn.datasets.fetch_california_housing`) and the Ames housing\n",
            "    dataset. You can load the datasets as follows::\n",
            "\n",
            "        from sklearn.datasets import fetch_california_housing\n",
            "        housing = fetch_california_housing()\n",
            "\n",
            "    for the California housing dataset and::\n",
            "\n",
            "        from sklearn.datasets import fetch_openml\n",
            "        housing = fetch_openml(name=\"house_prices\", as_frame=True)\n",
            "\n",
            "    for the Ames housing dataset.\n",
            "    \n",
            "  warnings.warn(msg, category=FutureWarning)\n"
          ]
        }
      ]
    },
    {
      "cell_type": "code",
      "source": [
        "print(boston[\"DESCR\"])"
      ],
      "metadata": {
        "colab": {
          "base_uri": "https://localhost:8080/"
        },
        "id": "ZAf5j2nRLAhW",
        "outputId": "e529cf44-5e19-4d09-b73a-dbddc2d987cf"
      },
      "execution_count": 106,
      "outputs": [
        {
          "output_type": "stream",
          "name": "stdout",
          "text": [
            ".. _boston_dataset:\n",
            "\n",
            "Boston house prices dataset\n",
            "---------------------------\n",
            "\n",
            "**Data Set Characteristics:**  \n",
            "\n",
            "    :Number of Instances: 506 \n",
            "\n",
            "    :Number of Attributes: 13 numeric/categorical predictive. Median Value (attribute 14) is usually the target.\n",
            "\n",
            "    :Attribute Information (in order):\n",
            "        - CRIM     per capita crime rate by town\n",
            "        - ZN       proportion of residential land zoned for lots over 25,000 sq.ft.\n",
            "        - INDUS    proportion of non-retail business acres per town\n",
            "        - CHAS     Charles River dummy variable (= 1 if tract bounds river; 0 otherwise)\n",
            "        - NOX      nitric oxides concentration (parts per 10 million)\n",
            "        - RM       average number of rooms per dwelling\n",
            "        - AGE      proportion of owner-occupied units built prior to 1940\n",
            "        - DIS      weighted distances to five Boston employment centres\n",
            "        - RAD      index of accessibility to radial highways\n",
            "        - TAX      full-value property-tax rate per $10,000\n",
            "        - PTRATIO  pupil-teacher ratio by town\n",
            "        - B        1000(Bk - 0.63)^2 where Bk is the proportion of black people by town\n",
            "        - LSTAT    % lower status of the population\n",
            "        - MEDV     Median value of owner-occupied homes in $1000's\n",
            "\n",
            "    :Missing Attribute Values: None\n",
            "\n",
            "    :Creator: Harrison, D. and Rubinfeld, D.L.\n",
            "\n",
            "This is a copy of UCI ML housing dataset.\n",
            "https://archive.ics.uci.edu/ml/machine-learning-databases/housing/\n",
            "\n",
            "\n",
            "This dataset was taken from the StatLib library which is maintained at Carnegie Mellon University.\n",
            "\n",
            "The Boston house-price data of Harrison, D. and Rubinfeld, D.L. 'Hedonic\n",
            "prices and the demand for clean air', J. Environ. Economics & Management,\n",
            "vol.5, 81-102, 1978.   Used in Belsley, Kuh & Welsch, 'Regression diagnostics\n",
            "...', Wiley, 1980.   N.B. Various transformations are used in the table on\n",
            "pages 244-261 of the latter.\n",
            "\n",
            "The Boston house-price data has been used in many machine learning papers that address regression\n",
            "problems.   \n",
            "     \n",
            ".. topic:: References\n",
            "\n",
            "   - Belsley, Kuh & Welsch, 'Regression diagnostics: Identifying Influential Data and Sources of Collinearity', Wiley, 1980. 244-261.\n",
            "   - Quinlan,R. (1993). Combining Instance-Based and Model-Based Learning. In Proceedings on the Tenth International Conference of Machine Learning, 236-243, University of Massachusetts, Amherst. Morgan Kaufmann.\n",
            "\n"
          ]
        }
      ]
    },
    {
      "cell_type": "code",
      "source": [
        "data_url = \"http://lib.stat.cmu.edu/datasets/boston\"\n",
        "raw_df = pd.read_csv(data_url, sep=\"\\s+\", skiprows=22, header=None)\n",
        "data = np.hstack([raw_df.values[::2, :], raw_df.values[1::2, :2]])\n",
        "target = raw_df.values[1::2, 2]\n",
        "\n",
        "boston = {'data':data, 'target':target}\n",
        "\n",
        "# data split\n",
        "X_train, X_test, y_train, y_test = train_test_split(\n",
        "    boston['data'], boston['target'], random_state=0\n",
        ")"
      ],
      "metadata": {
        "id": "flCXavNtLaA7"
      },
      "execution_count": 108,
      "outputs": []
    },
    {
      "cell_type": "code",
      "source": [
        "train_accuracy = []\n",
        "test_accuracy = []\n",
        "\n",
        "# 1에서 10까지 n_neighbors 적용\n",
        "neighbors_settings = range(1, 11)\n",
        "\n",
        "fig = plt.figure(figsize=(8,5))\n",
        "ax = plt.axes()\n",
        "\n",
        "#--------------------------------------------------\n",
        "for n_neighbors in neighbors_settings:\n",
        "\n",
        "    # 모델생성\n",
        "    reg = KNeighborsRegressor(n_neighbors = n_neighbors)\n",
        "    # fitting\n",
        "    reg.fit(X_train, y_train)\n",
        "    # training set acc\n",
        "    train_accuracy.append(reg.score(X_train, y_train))\n",
        "    # test set acc\n",
        "    test_accuracy.append(reg.score(X_test, y_test))\n",
        "#--------------------------------------------------\n",
        "\n",
        "# 저장된 정확도를 n_neighbors에 대해서 그림\n",
        "ax.plot(neighbors_settings, training_accuracy, label='Train Acc.')\n",
        "ax.plot(neighbors_settings, test_accuracy, label='Test Acc.')\n",
        "\n",
        "ax.set_ylabel(\"R^2\", size=13)\n",
        "ax.set_xlabel(\"n_neighbors\", size=13)\n",
        "ax.legend(fontsize=13)\n",
        "\n",
        "plt.show()"
      ],
      "metadata": {
        "colab": {
          "base_uri": "https://localhost:8080/",
          "height": 337
        },
        "id": "n7I5MGSbLAe4",
        "outputId": "91ca23fe-9205-420e-9635-910a900639b7"
      },
      "execution_count": 110,
      "outputs": [
        {
          "output_type": "display_data",
          "data": {
            "text/plain": [
              "<Figure size 576x360 with 1 Axes>"
            ],
            "image/png": "[encoded data removed]"
          },
          "metadata": {
            "needs_background": "light"
          }
        }
      ]
    },
    {
      "cell_type": "markdown",
      "source": [
        "- test acc가 3까지 올라가다가 떨어짐.. 그래도 0.5밖에 안됨 -> 앙상블 써야함! "
      ],
      "metadata": {
        "id": "ClWPyVhDM6B9"
      }
    },
    {
      "cell_type": "markdown",
      "source": [
        "## 장단점\n",
        "\n",
        "- 장점\n",
        "    - 이해하기 쉬움, 알고리즘에 복잡한 수학이 등장하지 않음\n",
        "    - 가장 먼저 시도해볼 수 있는 간결함\n",
        "    - 모델 구축이 빠름, 단 데이터가 많으면 예측도 그에 비례해서 느려짐\n",
        "     \n",
        "- 단점\n",
        "    - 거리를 기반으로 하므로 데이터 정규화, 표준화 같은 전처리 중요\n",
        "    - 데이터의 특성수가 많아지면 '차원의 저주'로 잘 동작하지 않음"
      ],
      "metadata": {
        "id": "YwdJ98FqNOIK"
      }
    },
    {
      "cell_type": "code",
      "source": [
        ""
      ],
      "metadata": {
        "id": "kVv8DVuHLAch"
      },
      "execution_count": null,
      "outputs": []
    },
    {
      "cell_type": "code",
      "source": [
        ""
      ],
      "metadata": {
        "id": "hN7RwHN9NOw3"
      },
      "execution_count": null,
      "outputs": []
    },
    {
      "cell_type": "code",
      "source": [
        ""
      ],
      "metadata": {
        "id": "jVwq9FQBLAZ3"
      },
      "execution_count": null,
      "outputs": []
    },
    {
      "cell_type": "code",
      "source": [
        ""
      ],
      "metadata": {
        "id": "b9dxGLQWLAXR"
      },
      "execution_count": null,
      "outputs": []
    },
    {
      "cell_type": "code",
      "source": [
        ""
      ],
      "metadata": {
        "id": "VDyiuBOfLAUe"
      },
      "execution_count": null,
      "outputs": []
    }
  ]
}