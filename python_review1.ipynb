{
  "nbformat": 4,
  "nbformat_minor": 0,
  "metadata": {
    "colab": {
      "name": "python_review1",
      "provenance": [],
      "collapsed_sections": [],
      "toc_visible": true,
      "authorship_tag": "ABX9TyN/vNDwKg30dFnv2uZalYS0",
      "include_colab_link": true
    },
    "kernelspec": {
      "name": "python3",
      "display_name": "Python 3"
    },
    "language_info": {
      "name": "python"
    }
  },
  "cells": [
    {
      "cell_type": "markdown",
      "metadata": {
        "id": "view-in-github",
        "colab_type": "text"
      },
      "source": [
        "<a href=\"https://colab.research.google.com/github/FulISun/AI_ML-DL_Intermediate/blob/main/python_review1.ipynb\" target=\"_parent\"><img src=\"https://colab.research.google.com/assets/colab-badge.svg\" alt=\"Open In Colab\"/></a>"
      ]
    },
    {
      "cell_type": "markdown",
      "source": [
        "### *Python Review*"
      ],
      "metadata": {
        "id": "UsNILUp3w-GG"
      }
    },
    {
      "cell_type": "code",
      "source": [
        "#------------------------------\n",
        "#       변수: Strings\n",
        "#------------------------------\n",
        "#문자열 포맷팅\n",
        "#소수점 이하 셋째 자리까지 부동 소숫점 숫자 표기\n",
        "a = 1.0/3\n",
        "print(f'{a:.3f}') #{}는 변수를 의미\n",
        "#밑줄(_)로 11칸을 채우고 가운데 정렬(^)하기\n",
        "a = 'hello'\n",
        "print(f'{a:_^11}')"
      ],
      "metadata": {
        "colab": {
          "base_uri": "https://localhost:8080/"
        },
        "id": "qQTgW0nqxJpH",
        "outputId": "ffd27a45-f7ea-430b-beae-e931624de402"
      },
      "execution_count": null,
      "outputs": [
        {
          "output_type": "stream",
          "name": "stdout",
          "text": [
            "0.333\n",
            "___hello___\n"
          ]
        }
      ]
    },
    {
      "cell_type": "code",
      "source": [
        "#------------------------------\n",
        "#       자료구조:튜플\n",
        "#------------------------------\n",
        "#객체를 괄호()로 묶음\n",
        "#다른 type의 객체도 가능 (숫자, 문자 등)\n",
        "#불변, 수정 불가능\n",
        "zoo = ('dog', 'cat', 'mouse')\n",
        "print('Number of animal is ', len(zoo))\n",
        "print(zoo[1])\n",
        "\n",
        "singleton =(2)\n",
        "singleton =(2,)\n",
        "print(singleton)\n",
        "\n",
        "#패킹 언패킹\n",
        "number = 1,2,3 #패킹\n",
        "print(number) #(1,2,3)\n",
        "a,b,c = number #언패킹\n",
        "print(a,b,c) # 1 2 3"
      ],
      "metadata": {
        "colab": {
          "base_uri": "https://localhost:8080/"
        },
        "id": "bktKD9X_yfJA",
        "outputId": "988c8602-1080-4cee-cba3-4ad31ef18560"
      },
      "execution_count": null,
      "outputs": [
        {
          "output_type": "stream",
          "name": "stdout",
          "text": [
            "Number of animal is  3\n",
            "cat\n",
            "(2,)\n",
            "(1, 2, 3)\n",
            "1 2 3\n"
          ]
        }
      ]
    },
    {
      "cell_type": "code",
      "source": [
        "#------------------------------\n",
        "#       자료구조: LIST\n",
        "#------------------------------\n",
        "#객체를 대괄호[]로 묶음\n",
        "#가변, 수정이 가능\n",
        "shoplist = ['apple','banana','cherry','carrot']\n",
        "print(shoplist)\n",
        "\n",
        "#Append : 객체 추가\n",
        "shoplist.append('rice')\n",
        "print(shoplist)\n",
        "#Replace : 객체 변경\n",
        "shoplist[0] = 'lego' #0번째 객체인 애플을 레고로 변경\n",
        "print(shoplist) \n",
        "#Delete : 삭제\n",
        "del shoplist[1]\n",
        "print(shoplist) "
      ],
      "metadata": {
        "colab": {
          "base_uri": "https://localhost:8080/"
        },
        "id": "kllxYNghzztA",
        "outputId": "b1393de4-d45b-4122-9c2c-ba3979502334"
      },
      "execution_count": null,
      "outputs": [
        {
          "output_type": "stream",
          "name": "stdout",
          "text": [
            "['apple', 'banana', 'cherry', 'carrot']\n",
            "['apple', 'banana', 'cherry', 'carrot', 'rice']\n",
            "['lego', 'banana', 'cherry', 'carrot', 'rice']\n",
            "['lego', 'cherry', 'carrot', 'rice']\n"
          ]
        }
      ]
    },
    {
      "cell_type": "code",
      "source": [
        "#------------------------------\n",
        "#       자료구조: 중첩\n",
        "#------------------------------\n",
        "#튜플/리스트는 숫자,문자,리스트,딕셔너리 등 모든 구조를 담을 수 있음\n",
        "a = (1,2,3)\n",
        "b = [a,1,2] #[(1, 2, 3), 1, 2]\n",
        "print(b)\n",
        "print(b[0][1]) #2\n",
        "\n",
        "#리스트를 문자열로 바꾸기\n",
        "mylist = ['cherry', 'apple', 'banana']\n",
        "print(''.join(mylist)) #cherryapplebanana\n",
        "print(' '.join(mylist)) #cherry apple banana"
      ],
      "metadata": {
        "colab": {
          "base_uri": "https://localhost:8080/"
        },
        "id": "6xWPoO_E0cKr",
        "outputId": "90b99c77-0179-462a-d75d-e0a77de0741c"
      },
      "execution_count": null,
      "outputs": [
        {
          "output_type": "stream",
          "name": "stdout",
          "text": [
            "[(1, 2, 3), 1, 2]\n",
            "2\n",
            "cherryapplebanana\n",
            "cherry apple banana\n"
          ]
        }
      ]
    },
    {
      "cell_type": "code",
      "source": [
        "#------------------------------\n",
        "#      자료구조: 슬라이싱\n",
        "#------------------------------\n",
        "#[i]형식으로 요소에 접근하는 방식의 확장\n",
        "#음수 index : L[-1]\n",
        "#[start, end, stride]\n",
        "l = [1,2,3,4,5,6,7,8]\n",
        "print(l[0::3]) #[1, 4, 7] 0부터 끝까지 3개씩\n",
        "print(l[0:3]) #[1, 2, 3] 마지막은 미포함\n",
        "print(l[::-1]) #리스트가 반대로 뒤집어져서 나옴"
      ],
      "metadata": {
        "colab": {
          "base_uri": "https://localhost:8080/"
        },
        "id": "9o6-hsG92MCA",
        "outputId": "e310ca58-2b7e-451d-dfb8-5564a054a694"
      },
      "execution_count": null,
      "outputs": [
        {
          "output_type": "stream",
          "name": "stdout",
          "text": [
            "[1, 4, 7]\n",
            "[1, 2, 3]\n",
            "[8, 7, 6, 5, 4, 3, 2, 1]\n"
          ]
        }
      ]
    },
    {
      "cell_type": "code",
      "source": [
        "#------------------------------\n",
        "#      자료구조: Dict.\n",
        "#------------------------------\n",
        "#키에 해당하는 값 저장\n",
        "#{'key' : 'value'}\n",
        "#항목 순서 유지 안됨\n",
        "ab = {  'Swaroop' : 'swaroop@swaroop.com',\n",
        "        'Larry' : 'larry@wall.org',\n",
        "        'Marsumoto' : 'matz@ruby-lang.org',\n",
        "        'Sparmmer' : 'sparmmer@hotmail.com'\n",
        "        }\n",
        "print(ab)\n",
        "print(\"Swaroop's address is\", ab['Swaroop']) #순서 유지가 안 되므로 인덱스에 위치가 아닌 키 값을 직접 입력할 것!"
      ],
      "metadata": {
        "colab": {
          "base_uri": "https://localhost:8080/"
        },
        "id": "URM5oJXzXC0m",
        "outputId": "0f6d3b33-5831-46eb-de69-2ec546801a07"
      },
      "execution_count": null,
      "outputs": [
        {
          "output_type": "stream",
          "name": "stdout",
          "text": [
            "{'Swaroop': 'swaroop@swaroop.com', 'Larry': 'larry@wall.org', 'Marsumoto': 'matz@ruby-lang.org', 'Sparmmer': 'sparmmer@hotmail.com'}\n",
            "Swaroop's address is swaroop@swaroop.com\n"
          ]
        }
      ]
    },
    {
      "cell_type": "code",
      "source": [
        "#------------------------------\n",
        "#     코드 구조 : while else.\n",
        "#------------------------------\n",
        "#특정 조건이 참일 경우 계속해서 블록의 명령문을 반복하여 실행\n",
        "#while이 참이 아닐 때 else 대응\n",
        "\n",
        "i = 0\n",
        "while i < 10 :\n",
        "  print(i)\n",
        "  i += 1\n",
        "  if i == 5:\n",
        "    print(\"break\")  #if문을 주석 안 걸면 4까지 출력 후 break\n",
        "    break\n",
        "else :\n",
        "  print('while-else') #while문이 거짓일 때 실행됨. 0~9까지 출력 후 while-else"
      ],
      "metadata": {
        "colab": {
          "base_uri": "https://localhost:8080/"
        },
        "id": "jFo4ItgJYJ3p",
        "outputId": "fe178ea3-6484-4436-8f3c-f29f82f6af31"
      },
      "execution_count": null,
      "outputs": [
        {
          "output_type": "stream",
          "name": "stdout",
          "text": [
            "0\n",
            "1\n",
            "2\n",
            "3\n",
            "4\n",
            "break\n"
          ]
        }
      ]
    },
    {
      "cell_type": "code",
      "source": [
        "#------------------------------\n",
        "#     코드 구조 : for else.\n",
        "#------------------------------\n",
        "#열거형 자료의 각 요소마다 코드 블록을 반복\n",
        "#주로 range() 함수 사용하여 반복할 구간을 지정\n",
        "#리스트, 사전에 대해서 동일하게 작동 \n",
        "for i in range(0,10) :\n",
        "  print(i)\n",
        "  if i == 3 :\n",
        "    break\n",
        "else:\n",
        "  print('a')\n",
        "\n",
        "###range([start,]stop[,stride]) "
      ],
      "metadata": {
        "colab": {
          "base_uri": "https://localhost:8080/"
        },
        "id": "ToyuLki5bZ9E",
        "outputId": "c41b04f9-d40d-4cc6-a4ff-c2590743eafa"
      },
      "execution_count": null,
      "outputs": [
        {
          "output_type": "stream",
          "name": "stdout",
          "text": [
            "0\n",
            "1\n",
            "2\n",
            "3\n"
          ]
        }
      ]
    },
    {
      "cell_type": "code",
      "source": [
        "#------------------------------\n",
        "#       문자열 sequence\n",
        "#------------------------------\n",
        "#문자가 열거된 열거형 자료\n",
        "#인덱싱, 슬라이싱, for문 적용 가능\n",
        "s = 'Python'\n",
        "s[0], s[1:], s[-1] #('P', 'ython', 'n')   << 튜플로 묶여서 출력됨\n",
        "(s[0], s[1:], s[-1]) #('P', 'ython', 'n')  동일한 결과\n",
        "\n",
        "for i in s :\n",
        "  print(i)\n",
        "\n",
        "#숫자를 문자로 만드는 함수: str()\n",
        "str(1234)"
      ],
      "metadata": {
        "colab": {
          "base_uri": "https://localhost:8080/",
          "height": 148
        },
        "id": "d36ap_2ccHTw",
        "outputId": "90f923ef-dc2c-4c4e-f0e2-eb4cfa12c4c0"
      },
      "execution_count": null,
      "outputs": [
        {
          "output_type": "stream",
          "name": "stdout",
          "text": [
            "P\n",
            "y\n",
            "t\n",
            "h\n",
            "o\n",
            "n\n"
          ]
        },
        {
          "output_type": "execute_result",
          "data": {
            "text/plain": [
              "'1234'"
            ],
            "application/vnd.google.colaboratory.intrinsic+json": {
              "type": "string"
            }
          },
          "metadata": {},
          "execution_count": 14
        }
      ]
    },
    {
      "cell_type": "code",
      "source": [
        "#------------------------------\n",
        "#            내포\n",
        "#------------------------------\n",
        "#리스트, 사전 등에 적용\n",
        "#내포 문법: [표현식 for 항목 in 순회가능객체 [if조건]]\n",
        "#0,1,2,3,4,5 중에 2로 나눈 나머지가 1인 것만 리스트로 만들기\n",
        "L = [ n*2 for n in range(1, 6) if n % 2 == 1 ]\n",
        "print(L)"
      ],
      "metadata": {
        "colab": {
          "base_uri": "https://localhost:8080/"
        },
        "id": "Lv6vb4mYoIia",
        "outputId": "aaa1476d-ce1e-4a52-b7bf-426a74481e4d"
      },
      "execution_count": null,
      "outputs": [
        {
          "output_type": "stream",
          "name": "stdout",
          "text": [
            "[2, 6, 10]\n"
          ]
        }
      ]
    },
    {
      "cell_type": "code",
      "source": [
        "#위와 같은 코드이고, 윗 코드를 더 많이 씀. 가동이 빠르고 함축적이라\n",
        "L = []\n",
        "for n in range(1,6) :\n",
        "  if n % 2 == 1 :\n",
        "    L.append(n)\n",
        "print(L)"
      ],
      "metadata": {
        "colab": {
          "base_uri": "https://localhost:8080/"
        },
        "id": "EVdeF7n6w5Sc",
        "outputId": "b866bfba-5bbb-4da9-c628-1f520f23ac8d"
      },
      "execution_count": null,
      "outputs": [
        {
          "output_type": "stream",
          "name": "stdout",
          "text": [
            "[1, 3, 5]\n"
          ]
        }
      ]
    },
    {
      "cell_type": "code",
      "source": [
        "#------------------------------\n",
        "#        함수 function\n",
        "#------------------------------\n",
        "def Qr(x, y=1):\n",
        "  q, r = 0, 0 #q=몫 r=나머지\n",
        "  while True:\n",
        "    x -= y\n",
        "    if x > 0:\n",
        "      q += 1\n",
        "    elif x < 0:\n",
        "      r = y + x\n",
        "      break\n",
        "    else:\n",
        "      q += 1\n",
        "      break\n",
        "  return (q, r)"
      ],
      "metadata": {
        "id": "wwi61ZQvxrT7",
        "colab": {
          "base_uri": "https://localhost:8080/"
        },
        "outputId": "83e1e8d2-00a8-4265-86d3-6910025e5e34"
      },
      "execution_count": null,
      "outputs": [
        {
          "output_type": "execute_result",
          "data": {
            "text/plain": [
              "(10, 0)"
            ]
          },
          "metadata": {},
          "execution_count": 24
        }
      ]
    },
    {
      "cell_type": "code",
      "source": [
        "#------------------------------\n",
        "#          위치인자\n",
        "#------------------------------\n",
        "#값을 순서대로 상응하는 매개변수에 복사하는 인자\n",
        "#인자의 의미와 순서를 사용자가 기억해야함\n",
        "def dc_marvel(superhero, actor, movie) :\n",
        "  return {'superhero' : superhero, 'actor' : actor, 'movie' : movie}\n",
        "\n",
        "print(dc_marvel('Batman', 'Ben affleck', 'Justice League')) #각 키:값 으로 출력해줌\n",
        "print(dc_marvel('Ben affleck', 'Justice League', 'Batman')) #순서를 잘못 배정해도 못 알아들어서 순서대로 키:값 나열해버림!!\n",
        "#따라서 순서 중요!!"
      ],
      "metadata": {
        "id": "YGXbo0A329AM",
        "colab": {
          "base_uri": "https://localhost:8080/"
        },
        "outputId": "4223ada3-f765-48e3-eca0-2392c2c6a0e4"
      },
      "execution_count": null,
      "outputs": [
        {
          "output_type": "stream",
          "name": "stdout",
          "text": [
            "{'superhero': 'Batman', 'actor': 'Ben affleck', 'movie': 'Justice League'}\n",
            "{'superhero': 'Ben affleck', 'actor': 'Justice League', 'movie': 'Batman'}\n"
          ]
        }
      ]
    },
    {
      "cell_type": "code",
      "source": [
        "#------------------------------\n",
        "#          키워드인자\n",
        "#------------------------------\n",
        "#매개변수의 이름을 지정하는 인자\n",
        "#순서 상관없이 이름만 맞추면 됨\n",
        "print(dc_marvel(actor='Ben affleck', superhero='Batman', movie='Justice League')) #키값을 직접 입력하면 순서 내맘대로 해도 됨"
      ],
      "metadata": {
        "colab": {
          "base_uri": "https://localhost:8080/"
        },
        "id": "8FTMaxLmhVhO",
        "outputId": "1c156da1-718f-46b5-8177-6af248e2c89e"
      },
      "execution_count": null,
      "outputs": [
        {
          "output_type": "stream",
          "name": "stdout",
          "text": [
            "{'superhero': 'Batman', 'actor': 'Ben affleck', 'movie': 'Justice League'}\n"
          ]
        }
      ]
    },
    {
      "cell_type": "markdown",
      "source": [
        "모듈"
      ],
      "metadata": {
        "id": "ZEeWJI6unyIY"
      }
    },
    {
      "cell_type": "code",
      "source": [
        "#------------------------------\n",
        "#         기본 인자\n",
        "#------------------------------\n",
        "#매개변수에 사용자가 값을 넘겨주지 않으면 자동으로 기본값을 사용하도록 하는 것\n",
        "def say(message = 'Hi!', times = 1):\n",
        "  print(message * times)\n",
        "say()\n",
        "say('Hello')\n",
        "say('World', 5)"
      ],
      "metadata": {
        "colab": {
          "base_uri": "https://localhost:8080/"
        },
        "id": "pf9eCXRbPO2G",
        "outputId": "8ce85274-b271-4c94-d242-ba0622e99dbb"
      },
      "execution_count": null,
      "outputs": [
        {
          "output_type": "stream",
          "name": "stdout",
          "text": [
            "Hi!\n",
            "Hello\n",
            "WorldWorldWorldWorldWorld\n"
          ]
        }
      ]
    },
    {
      "cell_type": "code",
      "source": [
        "#------------------------------\n",
        "#        Lambda function\n",
        "#------------------------------\n",
        "#이름 없는 한 줄 짜리 함수\n",
        "#lambda 키워드를 통해 정의\n",
        "p = lambda x, y : x+y\n",
        "p(3, 4)\n",
        "\n",
        "def plus(x, y): #원래는 def 로 정의했음\n",
        "  return x+y\n",
        "plus(3, 4)"
      ],
      "metadata": {
        "colab": {
          "base_uri": "https://localhost:8080/"
        },
        "id": "HXimzSA2PyfZ",
        "outputId": "26982ad4-5a29-401e-f9d1-6f95dc59ecd2"
      },
      "execution_count": null,
      "outputs": [
        {
          "output_type": "execute_result",
          "data": {
            "text/plain": [
              "7"
            ]
          },
          "metadata": {},
          "execution_count": 8
        }
      ]
    },
    {
      "cell_type": "code",
      "source": [
        "# for i in range(10, 0, -1):\n",
        "#   print(i)\n",
        "\n",
        "list( map(lambda a: a, range(7, 0, -1)))"
      ],
      "metadata": {
        "id": "uTaX6i9HqWLv"
      },
      "execution_count": null,
      "outputs": []
    },
    {
      "cell_type": "code",
      "source": [
        "#------------------------------\n",
        "#            모듈\n",
        "#------------------------------\n",
        "#파이썬 코드를 하나의 파일에 묶어놓은 덩어리\n",
        "import numpy as np\n",
        "from scipy import optimize"
      ],
      "metadata": {
        "id": "9SiurwZtQaD2"
      },
      "execution_count": null,
      "outputs": []
    },
    {
      "cell_type": "code",
      "source": [
        "#------------------------------\n",
        "#         map function\n",
        "#------------------------------\n",
        "#map(function, iterable, .. ) iterable요소를 function에 하나씩 적용\n",
        "user = [{'name':'홍길동', 'age':36, 'job':'선생님'},\n",
        "        {'name':'시우민', 'age':18, 'job':'학생'},\n",
        "        {'name':'변백현', 'age':5, 'job':'과학자'}]\n",
        "print(type(user))\n",
        "list(map(lambda u: str(u['age'] // 10 * 10)+'s', user)) #user에 있는 iteration요소들을 lambda함수에 하나씩 적용."
      ],
      "metadata": {
        "colab": {
          "base_uri": "https://localhost:8080/"
        },
        "id": "t-o8AiyOQqdh",
        "outputId": "8b2fb453-8df7-4178-b340-9d4f0fa808cc"
      },
      "execution_count": null,
      "outputs": [
        {
          "output_type": "stream",
          "name": "stdout",
          "text": [
            "<class 'list'>\n"
          ]
        },
        {
          "output_type": "execute_result",
          "data": {
            "text/plain": [
              "['30s', '10s', '0s']"
            ]
          },
          "metadata": {},
          "execution_count": 17
        }
      ]
    },
    {
      "cell_type": "code",
      "source": [
        "#------------------------------\n",
        "#       *args, **kwargs\n",
        "#------------------------------\n",
        "#함수의 인자를 가변으로 받을 때 사용 \n",
        "print(1, 2, 3, 4)\n",
        "print(1, 2, 3, 4, 'aaa', 'bbb')\n",
        "\n",
        "def print_args(*args) :\n",
        "  print(\"Positional argument tuple:\", args)\n",
        "print_args(1,2,3)\n",
        "\n",
        "def print_kwargs(**kwargs):\n",
        "  print(\"Keyword argument dict:\", kwargs)\n",
        "print_kwargs(actor='Ben affleck', superhero='Batman')\n",
        "\n",
        "def print_all(*args, **kwargs) :\n",
        "    print(\"Positional argument tuple:\", args)\n",
        "    print(\"Keyword argument dict:\", kwargs)\n",
        "print_all(1,2,name='백현')"
      ],
      "metadata": {
        "colab": {
          "base_uri": "https://localhost:8080/"
        },
        "id": "lXYcjSqKglDF",
        "outputId": "a3a20760-d3b5-4c4e-b852-d6584a868257"
      },
      "execution_count": null,
      "outputs": [
        {
          "output_type": "stream",
          "name": "stdout",
          "text": [
            "1 2 3 4\n",
            "1 2 3 4 aaa bbb\n",
            "Positional argument tuple: (1, 2, 3)\n",
            "Keyword argument dict: {'actor': 'Ben affleck', 'superhero': 'Batman'}\n",
            "Positional argument tuple: (1, 2)\n",
            "Keyword argument dict: {'name': '백현'}\n"
          ]
        }
      ]
    },
    {
      "cell_type": "code",
      "source": [
        "#------------------------------\n",
        "#          인자 풀기\n",
        "#------------------------------\n",
        "#함수에 전달되는 인자를 시퀀스형 그대로 전달하기\n",
        "def print_vector(x, y, z):\n",
        "  print(f\"{x}, {y}, {z}\")\n",
        "#기본호출\n",
        "print_vector(1,2,3) #1,2,3\n",
        "#튜플 풀기\n",
        "v1 = (100, 200, 300)\n",
        "print_vector(*v1)\n",
        "#사전 풀기\n",
        "v2 = {'x':10, 'y':20, 'z':30}\n",
        "print_vector(**v2)"
      ],
      "metadata": {
        "colab": {
          "base_uri": "https://localhost:8080/"
        },
        "id": "Ip-UmOiXnozZ",
        "outputId": "777a76b2-0fea-4653-cc3e-47e26d4041c9"
      },
      "execution_count": null,
      "outputs": [
        {
          "output_type": "stream",
          "name": "stdout",
          "text": [
            "1, 2, 3\n",
            "100, 200, 300\n",
            "10, 20, 30\n"
          ]
        }
      ]
    },
    {
      "cell_type": "code",
      "source": [
        "#------------------------------\n",
        "#         함수를 리턴\n",
        "#------------------------------\n",
        "#변수 뿐 아니라 함수도 리턴\n",
        "#목적 1)함수 내부에서 길게 반복되는 부분을 함수로 만들어 반복호출\n",
        "#     2)외부 함수의 로컬 변수를 기억하는 함수를 만들어 이용\n",
        "def make_func(k) :  #외부함수\n",
        "  def k_times(x) :  #내부에서 함수를 만들어 return\n",
        "    return k*x\n",
        "\n",
        "  return k_times\n",
        "times_5 = make_func(5)  #k=5\n",
        "times_3 = make_func(3)  #k=3\n",
        "\n",
        "print(times_5(10)) #x=10\n",
        "print(times_3(10)) #x=10"
      ],
      "metadata": {
        "colab": {
          "base_uri": "https://localhost:8080/"
        },
        "id": "ChAQNtI1or6C",
        "outputId": "f1c403d7-1bba-406e-9d19-3b718c57b7cc"
      },
      "execution_count": null,
      "outputs": [
        {
          "output_type": "stream",
          "name": "stdout",
          "text": [
            "50\n",
            "30\n"
          ]
        }
      ]
    },
    {
      "cell_type": "code",
      "source": [
        "#------------------------------\n",
        "#         Generator\n",
        "#------------------------------\n",
        "#시퀀스를 생성하는 객체\n",
        "def gen_123() :  #제너레이터 함수\n",
        "  yield 1\n",
        "  yield 2\n",
        "  yield 3\n",
        "#자주 쓰는 range()가 제너레이터\n",
        "def my_range(first = 0, last = 10, step = 1):\n",
        "  number = first\n",
        "  while number < last :\n",
        "    yield number\n",
        "    number += step"
      ],
      "metadata": {
        "colab": {
          "base_uri": "https://localhost:8080/"
        },
        "id": "Q1PUV7JCqGJ9",
        "outputId": "09a5ba1c-f4c2-441a-8b48-df32b0e93afc"
      },
      "execution_count": null,
      "outputs": [
        {
          "output_type": "execute_result",
          "data": {
            "text/plain": [
              "<generator object my_range at 0x7fc0dce667d0>"
            ]
          },
          "metadata": {},
          "execution_count": 41
        }
      ]
    },
    {
      "cell_type": "code",
      "source": [
        "#------------------------------\n",
        "#         Decorator\n",
        "#------------------------------\n",
        "#함수를 받아서 함수를 반환하는 함수\n",
        "# -함수 인자\n",
        "# -내부 함수\n",
        "# -*arg, **kwargs\n",
        "def format_hex(func):\n",
        "  def new_func(*args, **kwargs) :\n",
        "    ret = func(*args, **kwargs)\n",
        "    # 16진수로 변경\n",
        "    return hex(ret)\n",
        "  return new_func\n",
        "\n",
        "@format_hex\n",
        "def times_10(int):\n",
        "  return int*10\n",
        "\n",
        "times_10(7)"
      ],
      "metadata": {
        "colab": {
          "base_uri": "https://localhost:8080/",
          "height": 36
        },
        "id": "_orL3iP3q1yK",
        "outputId": "546d81c8-dc1c-49a2-e2eb-e8d356ebb00d"
      },
      "execution_count": null,
      "outputs": [
        {
          "output_type": "execute_result",
          "data": {
            "text/plain": [
              "'0x46'"
            ],
            "application/vnd.google.colaboratory.intrinsic+json": {
              "type": "string"
            }
          },
          "metadata": {},
          "execution_count": 18
        }
      ]
    },
    {
      "cell_type": "code",
      "source": [
        "#--- pytorch에서 decorator 사용 예 ---#\n",
        "x = torch.tensor([1], requires_grad = True)\n",
        "with torch.no_grad() :\n",
        "  y = x*2\n",
        "y.requires_grad\n",
        "\n",
        "@torch.no_grad()\n",
        "def doubler(x):\n",
        "  return x * 2 \n",
        "z = doubler(x)\n",
        "z.requires_grad"
      ],
      "metadata": {
        "id": "vfWwaak0tPqY",
        "colab": {
          "base_uri": "https://localhost:8080/",
          "height": 251
        },
        "outputId": "572ad5c7-44a8-40e8-8469-64d5cf0bae87"
      },
      "execution_count": null,
      "outputs": [
        {
          "output_type": "error",
          "ename": "NameError",
          "evalue": "ignored",
          "traceback": [
            "\u001b[0;31m---------------------------------------------------------------------------\u001b[0m",
            "\u001b[0;31mNameError\u001b[0m                                 Traceback (most recent call last)",
            "\u001b[0;32m<ipython-input-19-471986395758>\u001b[0m in \u001b[0;36m<module>\u001b[0;34m()\u001b[0m\n\u001b[1;32m      1\u001b[0m \u001b[0;31m#--- pytorch에서 decorator 사용 예 ---#\u001b[0m\u001b[0;34m\u001b[0m\u001b[0;34m\u001b[0m\u001b[0;34m\u001b[0m\u001b[0m\n\u001b[0;32m----> 2\u001b[0;31m \u001b[0mx\u001b[0m \u001b[0;34m=\u001b[0m \u001b[0mtorch\u001b[0m\u001b[0;34m.\u001b[0m\u001b[0mtensor\u001b[0m\u001b[0;34m(\u001b[0m\u001b[0;34m[\u001b[0m\u001b[0;36m1\u001b[0m\u001b[0;34m]\u001b[0m\u001b[0;34m,\u001b[0m \u001b[0mrequires_grad\u001b[0m \u001b[0;34m=\u001b[0m \u001b[0;32mTrue\u001b[0m\u001b[0;34m)\u001b[0m\u001b[0;34m\u001b[0m\u001b[0;34m\u001b[0m\u001b[0m\n\u001b[0m\u001b[1;32m      3\u001b[0m \u001b[0;32mwith\u001b[0m \u001b[0mtorch\u001b[0m\u001b[0;34m.\u001b[0m\u001b[0mno_grad\u001b[0m\u001b[0;34m(\u001b[0m\u001b[0;34m)\u001b[0m \u001b[0;34m:\u001b[0m\u001b[0;34m\u001b[0m\u001b[0;34m\u001b[0m\u001b[0m\n\u001b[1;32m      4\u001b[0m   \u001b[0my\u001b[0m \u001b[0;34m=\u001b[0m \u001b[0mx\u001b[0m\u001b[0;34m*\u001b[0m\u001b[0;36m2\u001b[0m\u001b[0;34m\u001b[0m\u001b[0;34m\u001b[0m\u001b[0m\n\u001b[1;32m      5\u001b[0m \u001b[0my\u001b[0m\u001b[0;34m.\u001b[0m\u001b[0mrequires_grad\u001b[0m\u001b[0;34m\u001b[0m\u001b[0;34m\u001b[0m\u001b[0m\n",
            "\u001b[0;31mNameError\u001b[0m: name 'torch' is not defined"
          ]
        }
      ]
    },
    {
      "cell_type": "code",
      "source": [
        "#------------------------------\n",
        "#          클래스 class\n",
        "# #------------------------------\n",
        "# 객체지향 프로그래밍: 함수와 자료를 하나의 덩어리로 묶어 \"객체\"라는 자료로 다루는 프로그램 방식\n",
        "#ex) 사람  -  속성(필드): 이름, 키, 몸무게\n",
        "#          -  기능(메소드): 걷는다, 먹는다, 잔다\n",
        "\n",
        "#사람이 가지는 속성과 기능을 함께 가지는 어떤 변수를 정의\n",
        "class Person:\n",
        "  def __init__(self, n, h, w):\n",
        "    self.name = n\n",
        "    self.height = h\n",
        "    self.weight = w\n",
        "  \n"
      ],
      "metadata": {
        "id": "p1NcmwD3tTOh"
      },
      "execution_count": null,
      "outputs": []
    },
    {
      "cell_type": "code",
      "source": [
        "import fibo as fb"
      ],
      "metadata": {
        "id": "yKj-pYWH2Zwi",
        "outputId": "0c6a70c4-5467-4ee0-824c-95d35907ee24",
        "colab": {
          "base_uri": "https://localhost:8080/",
          "height": 325
        }
      },
      "execution_count": null,
      "outputs": [
        {
          "output_type": "error",
          "ename": "ModuleNotFoundError",
          "evalue": "ignored",
          "traceback": [
            "\u001b[0;31m---------------------------------------------------------------------------\u001b[0m",
            "\u001b[0;31mModuleNotFoundError\u001b[0m                       Traceback (most recent call last)",
            "\u001b[0;32m<ipython-input-21-62a8cf2773e2>\u001b[0m in \u001b[0;36m<module>\u001b[0;34m()\u001b[0m\n\u001b[0;32m----> 1\u001b[0;31m \u001b[0;32mimport\u001b[0m \u001b[0mfibo\u001b[0m \u001b[0;32mas\u001b[0m \u001b[0mfb\u001b[0m\u001b[0;34m\u001b[0m\u001b[0;34m\u001b[0m\u001b[0m\n\u001b[0m",
            "\u001b[0;31mModuleNotFoundError\u001b[0m: No module named 'fibo'",
            "",
            "\u001b[0;31m---------------------------------------------------------------------------\u001b[0;32m\nNOTE: If your import is failing due to a missing package, you can\nmanually install dependencies using either !pip or !apt.\n\nTo view examples of installing some common dependencies, click the\n\"Open Examples\" button below.\n\u001b[0;31m---------------------------------------------------------------------------\u001b[0m\n"
          ],
          "errorDetails": {
            "actions": [
              {
                "action": "open_url",
                "actionText": "Open Examples",
                "url": "/notebooks/snippets/importing_libraries.ipynb"
              }
            ]
          }
        }
      ]
    },
    {
      "cell_type": "code",
      "source": [
        "fb.fib2(10)"
      ],
      "metadata": {
        "colab": {
          "base_uri": "https://localhost:8080/"
        },
        "id": "sp-yiDYK2mah",
        "outputId": "384d4d2c-644d-4481-d876-f8a3179c70b1"
      },
      "execution_count": null,
      "outputs": [
        {
          "output_type": "execute_result",
          "data": {
            "text/plain": [
              "[0, 1, 1, 2, 3, 5, 8]"
            ]
          },
          "metadata": {},
          "execution_count": 45
        }
      ]
    },
    {
      "cell_type": "code",
      "source": [
        "#모듈 다시 로드\n",
        "#함수를 수정한 후 다시 import를 해도 위에 이미 import해서 수정 사항 반영이 안 됨\n",
        "import importlib\n",
        "importlib.reload(fibo) #이렇게 하면 되는데 잘 쓸 일 없으\n"
      ],
      "metadata": {
        "id": "OdsLLnKg3RIY"
      },
      "execution_count": null,
      "outputs": []
    },
    {
      "cell_type": "markdown",
      "source": [
        "\n"
      ],
      "metadata": {
        "id": "E-0YBpaL46P1"
      }
    }
  ]
}