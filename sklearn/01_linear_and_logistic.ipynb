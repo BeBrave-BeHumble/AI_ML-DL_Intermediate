{
  "nbformat": 4,
  "nbformat_minor": 0,
  "metadata": {
    "colab": {
      "name": "01-linear_and_logistic.ipynb",
      "provenance": [],
      "collapsed_sections": [],
      "toc_visible": true,
      "authorship_tag": "ABX9TyMAa1Ox5vfdrJH1cPAuDlaw",
      "include_colab_link": true
    },
    "kernelspec": {
      "name": "python3",
      "display_name": "Python 3"
    },
    "language_info": {
      "name": "python"
    }
  },
  "cells": [
    {
      "cell_type": "markdown",
      "metadata": {
        "id": "view-in-github",
        "colab_type": "text"
      },
      "source": [
        "<a href=\"https://colab.research.google.com/github/FulISun/AI_ML-DL_Intermediate/blob/main/01_linear_and_logistic.ipynb\" target=\"_parent\"><img src=\"https://colab.research.google.com/assets/colab-badge.svg\" alt=\"Open In Colab\"/></a>"
      ]
    },
    {
      "cell_type": "markdown",
      "source": [
        "# scikit-learn을 이용한 선형회귀와 로지스틱 회귀"
      ],
      "metadata": {
        "id": "7ioww5FO4RcQ"
      }
    },
    {
      "cell_type": "code",
      "execution_count": 4,
      "metadata": {
        "id": "jO1gvJfb4PEI"
      },
      "outputs": [],
      "source": [
        "import numpy as np\n",
        "import matplotlib.pyplot as plt\n",
        "import pandas as pd\n",
        "from matplotlib.colors import ListedColormap\n",
        "\n",
        "cm2 = ListedColormap(['C1', 'C2'])\n",
        "cm2_inv = ListedColormap(['C2', 'C1'])"
      ]
    },
    {
      "cell_type": "markdown",
      "source": [
        "## 데이터 로드"
      ],
      "metadata": {
        "id": "x5xeSxUY4WDR"
      }
    },
    {
      "cell_type": "code",
      "source": [
        "D = np.load('basic_clfreg.npz')"
      ],
      "metadata": {
        "id": "1_oTjbrM4UWr"
      },
      "execution_count": 5,
      "outputs": []
    },
    {
      "cell_type": "code",
      "source": [
        "X_clf = D['X_clf']\n",
        "y_clf = D['y_clf']\n",
        "\n",
        "X_reg = D['X_reg']\n",
        "y_reg = D['y_reg']"
      ],
      "metadata": {
        "id": "pVmzUfJn4UUH"
      },
      "execution_count": 6,
      "outputs": []
    },
    {
      "cell_type": "code",
      "source": [
        "D['X_clf']"
      ],
      "metadata": {
        "colab": {
          "base_uri": "https://localhost:8080/"
        },
        "id": "ZcYpmUf84USI",
        "outputId": "08b37c5f-6e7d-4a2d-e7c9-fe4de035408d"
      },
      "execution_count": 7,
      "outputs": [
        {
          "output_type": "execute_result",
          "data": {
            "text/plain": [
              "array([[ 9.96346605,  4.59676542],\n",
              "       [11.0329545 , -0.16816717],\n",
              "       [11.54155807,  5.21116083],\n",
              "       [ 8.69289001,  1.54322016],\n",
              "       [ 8.1062269 ,  4.28695977],\n",
              "       [ 8.30988863,  4.80623966],\n",
              "       [11.93027136,  4.64866327],\n",
              "       [ 9.67284681, -0.20283165],\n",
              "       [ 8.34810316,  5.13415623],\n",
              "       [ 8.67494727,  4.47573059],\n",
              "       [ 9.17748385,  5.09283177],\n",
              "       [10.24028948,  2.45544401],\n",
              "       [ 8.68937095,  1.48709629],\n",
              "       [ 8.92229526, -0.63993225],\n",
              "       [ 9.49123469,  4.33224792],\n",
              "       [ 9.25694192,  5.13284858],\n",
              "       [ 7.99815287,  4.8525051 ],\n",
              "       [ 8.18378052,  1.29564214],\n",
              "       [ 8.7337095 ,  2.49162431],\n",
              "       [ 9.32298256,  5.09840649],\n",
              "       [10.06393839,  0.99078055],\n",
              "       [ 9.50048972, -0.26430318],\n",
              "       [ 8.34468785,  1.63824349],\n",
              "       [ 9.50169345,  1.93824624],\n",
              "       [ 9.15072323,  5.49832246],\n",
              "       [11.563957  ,  1.3389402 ]])"
            ]
          },
          "metadata": {},
          "execution_count": 7
        }
      ]
    },
    {
      "cell_type": "markdown",
      "source": [
        "## 데이터 확인"
      ],
      "metadata": {
        "id": "6Cj8Vic04a4f"
      }
    },
    {
      "cell_type": "markdown",
      "source": [
        "### 회귀 데이터"
      ],
      "metadata": {
        "id": "oqMTp30V4ex_"
      }
    },
    {
      "cell_type": "code",
      "source": [
        "fig = plt.figure()\n",
        "ax = plt.axes()\n",
        "\n",
        "ax.plot(X_reg, y_reg, 'o')\n",
        "\n",
        "ax.set_xlabel('feature')\n",
        "ax.set_ylabel('target')\n",
        "\n",
        "plt.show()"
      ],
      "metadata": {
        "colab": {
          "base_uri": "https://localhost:8080/",
          "height": 279
        },
        "id": "WlTxydKX4UP6",
        "outputId": "eb73983f-2c8c-4163-821c-a4df53166b56"
      },
      "execution_count": 8,
      "outputs": [
        {
          "output_type": "display_data",
          "data": {
            "text/plain": [
              "<Figure size 432x288 with 1 Axes>"
            ],
            "image/png": "[encoded data removed]"
          },
          "metadata": {
            "needs_background": "light"
          }
        }
      ]
    },
    {
      "cell_type": "markdown",
      "source": [
        "### 분류 데이터"
      ],
      "metadata": {
        "id": "5Nqh3kta42j3"
      }
    },
    {
      "cell_type": "code",
      "source": [
        "X_clf"
      ],
      "metadata": {
        "colab": {
          "base_uri": "https://localhost:8080/"
        },
        "id": "y-oA4lbT4UNl",
        "outputId": "f31bcbb7-91bc-4f4d-f0df-d7fe8576ec52"
      },
      "execution_count": 9,
      "outputs": [
        {
          "output_type": "execute_result",
          "data": {
            "text/plain": [
              "array([[ 9.96346605,  4.59676542],\n",
              "       [11.0329545 , -0.16816717],\n",
              "       [11.54155807,  5.21116083],\n",
              "       [ 8.69289001,  1.54322016],\n",
              "       [ 8.1062269 ,  4.28695977],\n",
              "       [ 8.30988863,  4.80623966],\n",
              "       [11.93027136,  4.64866327],\n",
              "       [ 9.67284681, -0.20283165],\n",
              "       [ 8.34810316,  5.13415623],\n",
              "       [ 8.67494727,  4.47573059],\n",
              "       [ 9.17748385,  5.09283177],\n",
              "       [10.24028948,  2.45544401],\n",
              "       [ 8.68937095,  1.48709629],\n",
              "       [ 8.92229526, -0.63993225],\n",
              "       [ 9.49123469,  4.33224792],\n",
              "       [ 9.25694192,  5.13284858],\n",
              "       [ 7.99815287,  4.8525051 ],\n",
              "       [ 8.18378052,  1.29564214],\n",
              "       [ 8.7337095 ,  2.49162431],\n",
              "       [ 9.32298256,  5.09840649],\n",
              "       [10.06393839,  0.99078055],\n",
              "       [ 9.50048972, -0.26430318],\n",
              "       [ 8.34468785,  1.63824349],\n",
              "       [ 9.50169345,  1.93824624],\n",
              "       [ 9.15072323,  5.49832246],\n",
              "       [11.563957  ,  1.3389402 ]])"
            ]
          },
          "metadata": {},
          "execution_count": 9
        }
      ]
    },
    {
      "cell_type": "code",
      "source": [
        "X_clf[y_clf == 0][:,1] # 열 하나만 확인"
      ],
      "metadata": {
        "colab": {
          "base_uri": "https://localhost:8080/"
        },
        "id": "24y9OqxB4ULP",
        "outputId": "bcba37a2-f5d5-4ba3-cc73-153a4337d2cc"
      },
      "execution_count": 10,
      "outputs": [
        {
          "output_type": "execute_result",
          "data": {
            "text/plain": [
              "array([-0.16816717,  1.54322016,  4.28695977, -0.20283165,  1.48709629,\n",
              "       -0.63993225,  1.29564214,  2.49162431,  0.99078055, -0.26430318,\n",
              "        1.63824349,  1.93824624,  1.3389402 ])"
            ]
          },
          "metadata": {},
          "execution_count": 10
        }
      ]
    },
    {
      "cell_type": "code",
      "source": [
        "fig = plt.figure()\n",
        "ax = plt.axes()\n",
        "\n",
        "# 데이터를 타겟 종류에 따라 뿌리기\n",
        "ax.plot(X_clf[ y_clf == 0 ][:,0], X_clf[ y_clf == 0 ][:,1], 'o', label = 'y=0')\n",
        "ax.plot(X_clf[ y_clf == 1 ][:,0], X_clf[ y_clf == 1 ][:,1], '^', label = 'y=1')\n",
        "\n",
        "ax.set_xlabel('feature 0')\n",
        "ax.set_ylabel('feature 1')\n",
        "\n",
        "ax.legend()\n",
        "\n",
        "plt.show()"
      ],
      "metadata": {
        "colab": {
          "base_uri": "https://localhost:8080/",
          "height": 279
        },
        "id": "klrNwSWy4UIt",
        "outputId": "b565fed2-f713-432e-bcc1-e28ce2cb0bf2"
      },
      "execution_count": 11,
      "outputs": [
        {
          "output_type": "display_data",
          "data": {
            "text/plain": [
              "<Figure size 432x288 with 1 Axes>"
            ],
            "image/png": "[encoded data removed]"
          },
          "metadata": {
            "needs_background": "light"
          }
        }
      ]
    },
    {
      "cell_type": "markdown",
      "source": [
        "### 데이터 학습, 테스트 세트로 나누기"
      ],
      "metadata": {
        "id": "U0Z9HUGK_ijx"
      }
    },
    {
      "cell_type": "code",
      "source": [
        "# train, test set으로 나누기\n",
        "from sklearn.model_selection import train_test_split\n",
        "\n",
        "X_clf_train, X_clf_test, y_clf_train, y_clf_test = train_test_split(X_clf, y_clf, random_state = 66)\n",
        "X_reg_train, X_reg_test, y_reg_train, y_reg_test = train_test_split(X_reg, y_reg, random_state = 66)"
      ],
      "metadata": {
        "id": "qw410Ddv5Lkv"
      },
      "execution_count": 23,
      "outputs": []
    },
    {
      "cell_type": "code",
      "source": [
        "X_reg_train # N, D"
      ],
      "metadata": {
        "colab": {
          "base_uri": "https://localhost:8080/"
        },
        "id": "XUuTymp-5LiJ",
        "outputId": "fcbf5ec9-7ba2-4717-8d47-ba0cdc12effd"
      },
      "execution_count": 24,
      "outputs": [
        {
          "output_type": "execute_result",
          "data": {
            "text/plain": [
              "array([[ 0.08540663],\n",
              "       [ 1.85038409],\n",
              "       [-2.41396732],\n",
              "       [ 1.39196365],\n",
              "       [-0.35908504],\n",
              "       [ 0.64526911],\n",
              "       [ 2.7937922 ],\n",
              "       [-1.17454654],\n",
              "       [-1.17231738],\n",
              "       [ 0.60669007],\n",
              "       [-1.72596534],\n",
              "       [-2.06403288],\n",
              "       [ 0.14853859],\n",
              "       [-1.9090502 ],\n",
              "       [ 2.69331322],\n",
              "       [ 2.19705687],\n",
              "       [-2.60969044],\n",
              "       [ 2.70428584],\n",
              "       [-1.80195731],\n",
              "       [ 1.99465584],\n",
              "       [-1.97685526],\n",
              "       [-0.26358009],\n",
              "       [-2.65149833],\n",
              "       [-0.80182894],\n",
              "       [-2.16303684],\n",
              "       [-1.25262516],\n",
              "       [ 1.24843547],\n",
              "       [ 1.10539816],\n",
              "       [ 0.59195091],\n",
              "       [-0.75275929]])"
            ]
          },
          "metadata": {},
          "execution_count": 24
        }
      ]
    },
    {
      "cell_type": "markdown",
      "source": [
        "## Linear Regression"
      ],
      "metadata": {
        "id": "Gi1DRB65DpJA"
      }
    },
    {
      "cell_type": "code",
      "source": [
        "# 모델 로드\n",
        "from sklearn.linear_model import LinearRegression"
      ],
      "metadata": {
        "id": "LqhhHPYO5Lft"
      },
      "execution_count": 25,
      "outputs": []
    },
    {
      "cell_type": "code",
      "source": [
        "# fitting\n",
        "model = LinearRegression()\n",
        "lr = model.fit(X_reg_train, y_reg_train)"
      ],
      "metadata": {
        "id": "p4YMo-5X5LdJ"
      },
      "execution_count": 26,
      "outputs": []
    },
    {
      "cell_type": "markdown",
      "source": [
        "### 학습된 파라미터 확인"
      ],
      "metadata": {
        "id": "d3LCjOlVEvGr"
      }
    },
    {
      "cell_type": "code",
      "source": [
        "# coefficient와 intercept 확인\n",
        "print(f\"w1(lr.coef_):{lr.coef_}\") # beta1\n",
        "print(f\"b(lr.intercept_):{lr.intercept_:.6f}\") # intercept, 소수점 6째 자리까지"
      ],
      "metadata": {
        "colab": {
          "base_uri": "https://localhost:8080/"
        },
        "id": "m40LpldP5LaY",
        "outputId": "ee4ca822-49e8-430f-d2bb-efd7cd13d63a"
      },
      "execution_count": 16,
      "outputs": [
        {
          "output_type": "stream",
          "name": "stdout",
          "text": [
            "w1(lr.coef_):[0.44197612]\n",
            "b(lr.intercept_):-0.000795\n"
          ]
        }
      ]
    },
    {
      "cell_type": "code",
      "source": [
        "y_reg_train"
      ],
      "metadata": {
        "colab": {
          "base_uri": "https://localhost:8080/"
        },
        "id": "TvK5CfWW5LXp",
        "outputId": "5351918b-acac-4561-f90f-c95a428f91e6"
      },
      "execution_count": 27,
      "outputs": [
        {
          "output_type": "execute_result",
          "data": {
            "text/plain": [
              "array([ 0.69798591,  1.87664889, -1.41502356,  0.77932073,  0.09398858,\n",
              "        0.03527881,  0.86893293,  0.08448544,  0.0945257 ,  1.00032374,\n",
              "       -1.51369739, -2.47196233, -0.52734666, -1.67303415,  1.53708251,\n",
              "        1.49417157, -0.47411033,  0.33122576, -1.13455014,  0.75418806,\n",
              "       -2.08581717, -0.98618122, -1.52730805,  0.09756349, -1.12469096,\n",
              "       -0.3409073 ,  0.22956153,  0.25438895,  0.03497884, -0.44822073])"
            ]
          },
          "metadata": {},
          "execution_count": 27
        }
      ]
    },
    {
      "cell_type": "markdown",
      "source": [
        "### 성능 확인"
      ],
      "metadata": {
        "id": "SJol_TTdFwoU"
      }
    },
    {
      "cell_type": "code",
      "source": [
        "# R^2 \n",
        "print(f\"훈련 세트 점수:{lr.score(X_reg_train, y_reg_train):.2f}\")\n",
        "print(f\"테스트 세트 점수:{lr.score(X_reg_test, y_reg_test):.2f}\")"
      ],
      "metadata": {
        "colab": {
          "base_uri": "https://localhost:8080/"
        },
        "id": "MXF99arl5LVH",
        "outputId": "f47cfd38-2170-4798-acdd-f17ca8cfae61"
      },
      "execution_count": 28,
      "outputs": [
        {
          "output_type": "stream",
          "name": "stdout",
          "text": [
            "훈련 세트 점수:0.69\n",
            "테스트 세트 점수:0.63\n"
          ]
        }
      ]
    },
    {
      "cell_type": "code",
      "source": [
        "# plot으로 확인\n",
        "\n",
        "fig = plt.figure\n",
        "ax = plt.axes()\n",
        "\n",
        "eps = 0.5\n",
        "x_min, x_max = X_reg.min() - eps, X_reg.max() + eps\n",
        "x = np.linspace(x_min, x_max, 100) # x: (100,) => 1차원 array\n",
        "y_lr = lr.predict(x.reshape(-1,1)) # x: (100,1) => 2차원 array\n",
        "ax.plot(x, y_lr)\n",
        "\n",
        "ax.plot(X_reg_train, y_reg_train, 'o', label='train')\n",
        "ax.plot(X_reg_test, y_reg_test, '^', label='test')\n",
        "ax.legend()\n",
        "ax.set_xlabel('feature')\n",
        "ax.set_ylabel('target')\n",
        "\n",
        "plt.show()"
      ],
      "metadata": {
        "colab": {
          "base_uri": "https://localhost:8080/",
          "height": 279
        },
        "id": "uvgKBffEFzie",
        "outputId": "b384273f-b3cb-44e6-9513-0a512d62aab6"
      },
      "execution_count": 29,
      "outputs": [
        {
          "output_type": "display_data",
          "data": {
            "text/plain": [
              "<Figure size 432x288 with 1 Axes>"
            ],
            "image/png": "[encoded data removed]"
          },
          "metadata": {
            "needs_background": "light"
          }
        }
      ]
    },
    {
      "cell_type": "markdown",
      "source": [
        "## Ridge Regression (L2 규제)"
      ],
      "metadata": {
        "id": "-bA1pq48Ib0D"
      }
    },
    {
      "cell_type": "markdown",
      "source": [
        "* 모델에 규제항 추가\n",
        "* 규제가 없으면 학습데이터에 최대한 맞추게 됨\n",
        "* 규제는 최대한 학습데이터에 모델을 맞추는 현상을 억제하게 되므로 규제 regularization이라고 함\n",
        "* 결과적으로 학습데이터에 약간 덜 맞더라도 테스트 데이터는 조금 더 잘 맞는 일반화된 모델 만들기 위한 목적!!"
      ],
      "metadata": {
        "id": "AE29pRvsItL9"
      }
    },
    {
      "cell_type": "code",
      "source": [
        "# 모델 로드\n",
        "from sklearn.linear_model import Ridge"
      ],
      "metadata": {
        "id": "4BEhcP_bIjTM"
      },
      "execution_count": 30,
      "outputs": []
    },
    {
      "cell_type": "code",
      "source": [
        "# fitting\n",
        "model = Ridge(alpha=1.0)\n",
        "ridge = model.fit(X_reg_train, y_reg_train)"
      ],
      "metadata": {
        "id": "lFEdIlPg4UGT"
      },
      "execution_count": 31,
      "outputs": []
    },
    {
      "cell_type": "markdown",
      "source": [
        "* alpha는 규제의 강도를 조절하는 숫자로 크면 클수록 규제가 강해짐\n",
        "* alpha 기본값: alpha=1"
      ],
      "metadata": {
        "id": "kwtrhTSUM78C"
      }
    },
    {
      "cell_type": "markdown",
      "source": [
        "### 성능확인"
      ],
      "metadata": {
        "id": "lGp-WbGQNE2u"
      }
    },
    {
      "cell_type": "code",
      "source": [
        "# alpha값을 3, 8. 30으로 바꿔가며 test set에 대한 R2 score 확인\n",
        "for alpha in [3, 8, 30]:\n",
        "    model = Ridge(alpha=alpha)\n",
        "    ridge = model.fit(X_reg_train, y_reg_train) # 학습\n",
        "    print(f\"alpha={alpha}, 훈련 세트 점수:{ridge.score(X_reg_train, y_reg_train):.2f}\")\n",
        "    print(f\"alpha={alpha}, 테스트 세트 점수:{ridge.score(X_reg_test, y_reg_test):.2f}\")\n",
        "    print()"
      ],
      "metadata": {
        "colab": {
          "base_uri": "https://localhost:8080/"
        },
        "id": "X7xzcraN4UED",
        "outputId": "5e7780b0-9227-4404-8a5d-b253b1fbd082"
      },
      "execution_count": 32,
      "outputs": [
        {
          "output_type": "stream",
          "name": "stdout",
          "text": [
            "alpha=3, 훈련 세트 점수:0.69\n",
            "alpha=3, 테스트 세트 점수:0.65\n",
            "\n",
            "alpha=8, 훈련 세트 점수:0.68\n",
            "alpha=8, 테스트 세트 점수:0.69\n",
            "\n",
            "alpha=30, 훈련 세트 점수:0.64\n",
            "alpha=30, 테스트 세트 점수:0.75\n",
            "\n"
          ]
        }
      ]
    },
    {
      "cell_type": "markdown",
      "source": [
        "\n",
        "\n",
        "* alpha가 커지면 w가 작아지면서 규제가 크게 걸림\n",
        "* 작동 방식: 학습하는 w가 잘 움직이지 못하도록 막아서 모델의 적응범위를 한정하는 원리\n",
        "$$\n",
        "MSE = \\frac{1}{2}\\sum_i^N (\\hat{y}_i - y_i)^2 + \\frac{\\alpha}{2} \\sum_{j=1}^D w_j^2\n",
        "$$\n",
        "* 오차 함수에 w를 더하기 때문에 w가 커지면 오차가 커짐\n",
        "\n"
      ],
      "metadata": {
        "id": "xAmPwjxoGCdi"
      }
    },
    {
      "cell_type": "code",
      "source": [
        "# 그림으로 확인\n",
        "\n",
        "fig = plt.figure()\n",
        "ax = plt.axes()\n",
        "eps = 0.5\n",
        "\n",
        "x_min, x_max = X_reg.min() - eps, X_reg.max() + eps\n",
        "x = np.linspace(x_min, x_max, 100) # 독립변수 생성\n",
        "\n",
        "# y_lr에 lr의 예측을 저장하고, y_ridge_alpha에 ridge의 예측을 저장하여 plot\n",
        "y_lr = lr.predict(x.reshape(-1,1)) # 예측\n",
        "y_ridge_alpha = ridge.predict(x.reshape(-1,1))\n",
        "\n",
        "ax.plot(X_reg_train, y_reg_train, 'o', label = 'train')\n",
        "ax.plot(X_reg_test, y_reg_test, '^', label = 'test')\n",
        "\n",
        "ax.plot(x, y_lr, label = 'w/o regularization')\n",
        "ax.plot(x, y_ridge_alpha, label = 'with regularization')\n",
        "\n",
        "\n",
        "ax.legend()\n",
        "ax.set_xlabel('feature')\n",
        "ax.set_ylabel('target')\n",
        "\n",
        "plt.show()\n",
        "\n",
        "# L2 규제를 가한 빨간 선이 test set에 조금 더 근접함을 알 수 있음.\n",
        "# w들이 더 커지지 못하게 딱 잡기 때문임.\n",
        "\n",
        "# 이 때, train set에 과하게 적합된 모델을 overfitting 이라 함 => 데이터를 더 수집해야 함\n",
        "# 반대로 너무 일반화 되어 train set 조차 예측하지 못하는 것을 underfitting => 모델 수정  "
      ],
      "metadata": {
        "colab": {
          "base_uri": "https://localhost:8080/",
          "height": 279
        },
        "id": "mVL60GPZ4T-T",
        "outputId": "ba96bea8-b49a-4cb6-f41a-0ac6213ad615"
      },
      "execution_count": 40,
      "outputs": [
        {
          "output_type": "display_data",
          "data": {
            "text/plain": [
              "<Figure size 432x288 with 1 Axes>"
            ],
            "image/png": "[encoded data removed]"
          },
          "metadata": {
            "needs_background": "light"
          }
        }
      ]
    },
    {
      "cell_type": "markdown",
      "source": [
        "### 선형회귀와 릿지회귀 계수 비교"
      ],
      "metadata": {
        "id": "2OhqNRwwI1jx"
      }
    },
    {
      "cell_type": "code",
      "source": [
        "# 내부 속성으로 계수 비교\n",
        "print(f\"w1(lr.coef_):{lr.coef_}\")\n",
        "print(f\"w1(ridge.coef_):{ridge.coef_}\")"
      ],
      "metadata": {
        "colab": {
          "base_uri": "https://localhost:8080/"
        },
        "id": "Z9wlGoLZIagb",
        "outputId": "c0c820ba-9380-4bf9-b747-3c68709b7310"
      },
      "execution_count": 41,
      "outputs": [
        {
          "output_type": "stream",
          "name": "stdout",
          "text": [
            "w1(lr.coef_):[0.52424272]\n",
            "w1(ridge.coef_):[0.39068396]\n"
          ]
        }
      ]
    },
    {
      "cell_type": "markdown",
      "source": [
        "## Logistic Regression"
      ],
      "metadata": {
        "id": "UAK62ODyJH2A"
      }
    },
    {
      "cell_type": "markdown",
      "source": [
        "\n",
        "\n",
        "* 선형회귀의 출력을 로지스틱 시그모이드 함수에 입력하여 0~1사이의 값으로 만들어 분류 문제 해결 \n",
        "* threshold=0.5보다 크면 1, 작으면 0으로 분류\n",
        "\n"
      ],
      "metadata": {
        "id": "NRzfOFM3JPsQ"
      }
    },
    {
      "cell_type": "code",
      "source": [
        "# sigmoid function\n",
        "\n",
        "x = np.linspace(-5, 5, 100)\n",
        "\n",
        "fig = plt.figure()\n",
        "ax = plt.axes()\n",
        "\n",
        "ax.plot(x, 1/(1+np.exp(-x)), color='C1')\n",
        "ax.set_title(\"Logistic Sigmoid Function\")\n",
        "\n",
        "plt.show()"
      ],
      "metadata": {
        "colab": {
          "base_uri": "https://localhost:8080/",
          "height": 281
        },
        "id": "uaqbPpOjIadi",
        "outputId": "b01591b0-0b53-4088-ceb3-b67917ed71e7"
      },
      "execution_count": 43,
      "outputs": [
        {
          "output_type": "display_data",
          "data": {
            "text/plain": [
              "<Figure size 432x288 with 1 Axes>"
            ],
            "image/png": "[encoded data removed]"
          },
          "metadata": {
            "needs_background": "light"
          }
        }
      ]
    },
    {
      "cell_type": "code",
      "source": [
        "# 모델 로드\n",
        "\n",
        "from sklearn.linear_model import LogisticRegression"
      ],
      "metadata": {
        "id": "eD5vJF-PIaYX"
      },
      "execution_count": 44,
      "outputs": []
    },
    {
      "cell_type": "code",
      "source": [
        "# 규제없는 모델 fitting\n",
        "\n",
        "model = LogisticRegression(penalty='none')\n",
        "logreg = model.fit(X_clf_train, y_clf_train)"
      ],
      "metadata": {
        "id": "mqUAWhJQJGt3"
      },
      "execution_count": 45,
      "outputs": []
    },
    {
      "cell_type": "code",
      "source": [
        "print(f\"학습 세트 정확도: {logreg.score(X_clf_train, y_clf_train):.2f}\")\n",
        "print(f\"테스트 세트 정확도: {logreg.score(X_clf_test, y_clf_test):.2f}\")"
      ],
      "metadata": {
        "colab": {
          "base_uri": "https://localhost:8080/"
        },
        "id": "oIkusnSzJGq5",
        "outputId": "322c8a84-d317-4056-898d-f5e79b595bfc"
      },
      "execution_count": 47,
      "outputs": [
        {
          "output_type": "stream",
          "name": "stdout",
          "text": [
            "학습 세트 정확도: 1.00\n",
            "테스트 세트 정확도: 0.71\n"
          ]
        }
      ]
    },
    {
      "cell_type": "code",
      "source": [
        "# 그림으로 확인\n",
        "\n",
        "ngrid = 50\n",
        "eps = 0.5\n",
        "\n",
        "# 데이터의 최소, 최대값보다 eps만큼 바깥 영역에서 그리드 설정\n",
        "x_min, x_max = X_clf[:, 0].min() - eps, X_clf[:, 0].max() + eps\n",
        "y_min, y_max = X_clf[:, 1].min() - eps, X_clf[:, 1].max() + eps\n",
        "\n",
        "xx = np.linspace(x_min, x_max, ngrid)\n",
        "yy = np.linspace(y_min, y_max, ngrid)\n",
        "X1, X2 = np.meshgrid(xx, yy) # 격자 그리드 생성  X1, X2 = (50, 50)\n",
        "\n",
        "# 그리드를 1차원으로 펼치고 contour 그릴 레벨 설정\n",
        "x_grid = np.c_[X1.ravel(), X2.ravel()] # revel() 이용하여 다차원을 1차원 배열로 변경 후 c_로 2차원 배열 만듦\n",
        "# np.c_: 두 개의 1차원 배열을 칼럼으로 세로로 붙여서 2차원 배열 만들기 (= np.concatenate(axis=1) )\n",
        "# x_grid => (2500, 2)\n",
        "levels = [0, 0.5, 1]\n",
        "\n",
        "fig = plt.figure()\n",
        "ax = plt.axes()\n",
        "\n",
        "decision_values = logreg.predict(x_grid)\n",
        "\n",
        "# 결정경계 그리기\n",
        "ax.contourf(X1, X2, decision_values.reshape(X1.shape),\n",
        "            levels = levels, colors=['C1', 'C2'],\n",
        "            alpha=0.4)\n",
        "\n",
        "# 학습데이터 그리기\n",
        "ax.plot(X_clf_train[y_clf_train == 0][:,0],\n",
        "        X_clf_train[y_clf_train == 0][:,1], 'o', color='C1', label='y=0')\n",
        "ax.plot(X_clf_train[y_clf_train == 1][:,0],\n",
        "        X_clf_train[y_clf_train == 1][:,1], '^', color='C2', label='y=1')\n",
        "\n",
        "# 테스트데이터 그리기\n",
        "ax.plot(X_clf_test[y_clf_test == 0][:,0],\n",
        "        X_clf_test[y_clf_test == 0][:,1], 'o', color='C1', label='y=0')\n",
        "ax.plot(X_clf_test[y_clf_test == 0][:,0],\n",
        "        X_clf_test[y_clf_test == 0][:,1], '^', color='C2', label='y=0')\n",
        "\n",
        "plt.show()\n",
        "\n"
      ],
      "metadata": {
        "colab": {
          "base_uri": "https://localhost:8080/",
          "height": 265
        },
        "id": "CU3ByOVbJGnu",
        "outputId": "e181284c-d3b9-4ae6-e9e6-951aa0254b3b"
      },
      "execution_count": 59,
      "outputs": [
        {
          "output_type": "display_data",
          "data": {
            "text/plain": [
              "<Figure size 432x288 with 1 Axes>"
            ],
            "image/png": "[encoded data removed]"
          },
          "metadata": {
            "needs_background": "light"
          }
        }
      ]
    },
    {
      "cell_type": "markdown",
      "source": [
        "### 규제항 조정"
      ],
      "metadata": {
        "id": "-Q6Xp464PB6Y"
      }
    },
    {
      "cell_type": "markdown",
      "source": [
        "\n",
        "\n",
        "* c: Inverse of regularization strength, default = 1\n",
        "* C가 커지면 규제가 사라지고, C가 작아지면 규제가 크게 걸림\n",
        "\n"
      ],
      "metadata": {
        "id": "lGKGZapHPFzS"
      }
    },
    {
      "cell_type": "code",
      "source": [
        "# 규제 추가\n",
        "\n",
        "model = LogisticRegression(C=0.1)\n",
        "logreg_L2 = model.fit(X_clf_train, y_clf_train)\n",
        "# 선형회귀와는 반대로 C가 작아야 규제가 커짐"
      ],
      "metadata": {
        "id": "VTJGNencO_Xu"
      },
      "execution_count": 58,
      "outputs": []
    },
    {
      "cell_type": "code",
      "source": [
        "# 그림으로 확인\n",
        "\n",
        "ngrid = 50\n",
        "eps = 0.5\n",
        "\n",
        "# 데이터의 최소, 최대보다 eps만큼 바깥 영역에서 그리드 설정\n",
        "x_min, x_max = X_clf[:,0].min() - eps, X_clf[:,0].max() + eps\n",
        "y_min, y_max = X_clf[:,1].min() - eps, X_clf[:,1].max() + eps\n",
        "xx = np.linspace(x_min, x_max, ngrid)\n",
        "yy = np.linspace(y_min, y_max, ngrid)\n",
        "X1, X2 = np.meshgrid(xx, yy)\n",
        "\n",
        "# 그리드를 1차원으로 펼치고 contour 그릴 레벨 설정\n",
        "X_grid = np.c_[X1.ravel(), X2.ravel()]\n",
        "levels = [0, 0.5, 1]\n",
        "\n",
        "fig = plt.figure()\n",
        "ax = plt.axes()\n",
        "\n",
        "decision_values = logreg_L2.predict(X_grid)\n",
        "\n",
        "# 결정경계 그리기\n",
        "ax.contourf(X1, X2, decision_values.reshape(X1.shape),\n",
        "            levels = levels, colors = ['C1', 'C2'],\n",
        "            alpha=0.4)\n",
        "\n",
        "# 학습 데이터 그리기\n",
        "ax.plot(X_clf_train[ y_clf_train == 0 ][:,0],\n",
        "        X_clf_train[ y_clf_train == 0 ][:,1], 'o', color='C1', label='y=0')\n",
        "ax.plot(X_clf_train[ y_clf_train == 1 ][:,0],\n",
        "        X_clf_train[ y_clf_train == 1 ][:,1], 'o', color='C1', label='y=1')\n",
        "\n",
        "# 테스트 데이터 그리기\n",
        "ax.scatter(X_clf_test[y_clf_test==0][:,0],\n",
        "           X_clf_test[y_clf_test==0][:,1], marker='o', color='C1', edgecolor='k',\n",
        "           s=40, label='y=0')\n",
        "ax.scatter(X_clf_test[y_clf_test==1][:,0],\n",
        "           X_clf_test[y_clf_test==1][:,1], marker='^', color='C2', edgecolor='k',\n",
        "           s=40, label='y=1')\n",
        "\n",
        "plt.show()\n",
        "\n",
        "print()\n",
        "print(f\"학습데이터 정확도: {logreg_L2.score(X_clf_train, y_clf_train):.2f}\")\n",
        "print(f\"테스트데이터 정확도: {logreg_L2.score(X_clf_test, y_clf_test):.2f}\")"
      ],
      "metadata": {
        "colab": {
          "base_uri": "https://localhost:8080/",
          "height": 321
        },
        "id": "mr1JtLkzJGjU",
        "outputId": "dba7f822-05d9-4826-9355-798171a765ca"
      },
      "execution_count": 62,
      "outputs": [
        {
          "output_type": "display_data",
          "data": {
            "text/plain": [
              "<Figure size 432x288 with 1 Axes>"
            ],
            "image/png": "[encoded data removed]"
          },
          "metadata": {
            "needs_background": "light"
          }
        },
        {
          "output_type": "stream",
          "name": "stdout",
          "text": [
            "\n",
            "학습데이터 정확도: 0.95\n",
            "테스트데이터 정확도: 0.86\n"
          ]
        }
      ]
    },
    {
      "cell_type": "markdown",
      "source": [
        "### 실제 분류 문제: 붓꽃 데이터 셋"
      ],
      "metadata": {
        "id": "ED5tA9_OUaKy"
      }
    },
    {
      "cell_type": "markdown",
      "source": [
        "\n",
        "\n",
        "* iris라는 꽃 3품종에 대한 꽃잎petal, 꽃받침sepal의 너비와 길이 데이터\n",
        "* 특징은 네 개, 타겟은 세 개\n",
        "* 아래에서 1차원 분류 문제와 2차원 분류 문제를 예로 분류 문제 감을 익힘\n",
        "\n"
      ],
      "metadata": {
        "id": "I7RjIK-dUfBn"
      }
    },
    {
      "cell_type": "code",
      "source": [
        "from sklearn.datasets import load_iris"
      ],
      "metadata": {
        "id": "kZwY7-omUs7a"
      },
      "execution_count": 63,
      "outputs": []
    },
    {
      "cell_type": "code",
      "source": [
        "iris = load_iris()\n",
        "\n",
        "print(iris.target_names)\n",
        "print(iris.feature_names)"
      ],
      "metadata": {
        "colab": {
          "base_uri": "https://localhost:8080/"
        },
        "id": "uvviFj-gUs4w",
        "outputId": "c0aabc0f-b4f4-4a15-c775-29b24dfebc3f"
      },
      "execution_count": 64,
      "outputs": [
        {
          "output_type": "stream",
          "name": "stdout",
          "text": [
            "['setosa' 'versicolor' 'virginica']\n",
            "['sepal length (cm)', 'sepal width (cm)', 'petal length (cm)', 'petal width (cm)']\n"
          ]
        }
      ]
    },
    {
      "cell_type": "markdown",
      "source": [
        "#### Simple Logistic Regression"
      ],
      "metadata": {
        "id": "RtAeMAvMU9HV"
      }
    },
    {
      "cell_type": "markdown",
      "source": [
        "\n",
        "\n",
        "* 2번 타겟 verginica와 그 외 품종으로 변경 즉 바이너리\n",
        "* 분류 위한 특성은 petal width 사용\n",
        "\n"
      ],
      "metadata": {
        "id": "c3FrBiqyVy6I"
      }
    },
    {
      "cell_type": "code",
      "source": [
        "iris['data'].shape \n",
        "\n",
        "X = iris['data'][:, 3]\n",
        "X = X.reshape(-1,1)\n",
        "print(X.shape)"
      ],
      "metadata": {
        "colab": {
          "base_uri": "https://localhost:8080/"
        },
        "id": "QFpbhdYqVQLx",
        "outputId": "21abb6cb-b941-4f48-9aa6-ce0a866ecd28"
      },
      "execution_count": 96,
      "outputs": [
        {
          "output_type": "stream",
          "name": "stdout",
          "text": [
            "(150, 1)\n"
          ]
        }
      ]
    },
    {
      "cell_type": "code",
      "source": [
        "iris['target'].shape\n",
        "\n",
        "y = (iris['target'] == 2).astype(int)\n",
        "y"
      ],
      "metadata": {
        "colab": {
          "base_uri": "https://localhost:8080/"
        },
        "id": "vfm8PhGdUs2z",
        "outputId": "c28513c1-2850-4b31-f409-6c3f2df3dcd0"
      },
      "execution_count": 85,
      "outputs": [
        {
          "output_type": "execute_result",
          "data": {
            "text/plain": [
              "array([0, 0, 0, 0, 0, 0, 0, 0, 0, 0, 0, 0, 0, 0, 0, 0, 0, 0, 0, 0, 0, 0,\n",
              "       0, 0, 0, 0, 0, 0, 0, 0, 0, 0, 0, 0, 0, 0, 0, 0, 0, 0, 0, 0, 0, 0,\n",
              "       0, 0, 0, 0, 0, 0, 0, 0, 0, 0, 0, 0, 0, 0, 0, 0, 0, 0, 0, 0, 0, 0,\n",
              "       0, 0, 0, 0, 0, 0, 0, 0, 0, 0, 0, 0, 0, 0, 0, 0, 0, 0, 0, 0, 0, 0,\n",
              "       0, 0, 0, 0, 0, 0, 0, 0, 0, 0, 0, 0, 1, 1, 1, 1, 1, 1, 1, 1, 1, 1,\n",
              "       1, 1, 1, 1, 1, 1, 1, 1, 1, 1, 1, 1, 1, 1, 1, 1, 1, 1, 1, 1, 1, 1,\n",
              "       1, 1, 1, 1, 1, 1, 1, 1, 1, 1, 1, 1, 1, 1, 1, 1, 1, 1])"
            ]
          },
          "metadata": {},
          "execution_count": 85
        }
      ]
    },
    {
      "cell_type": "code",
      "source": [
        "# fitting\n",
        "model = LogisticRegression()\n",
        "logreg = model.fit(X, y)"
      ],
      "metadata": {
        "id": "bSQSZnV-Uszk"
      },
      "execution_count": 97,
      "outputs": []
    },
    {
      "cell_type": "code",
      "source": [
        "# 그림으로 확인\n",
        "x = np.linspace(0, 3, 100)\n",
        "\n",
        "fig = plt.figure(figsize=(8,3))\n",
        "ax = plt.axes()\n",
        "\n",
        "# 확률값이 변해가는 곡선 그리기  \n",
        "y_proba = logreg.predict_proba(x.reshape(-1,1)) # proba값 추출 => (100, 2) : 각 x에 대해 y=0일 prob, y=1일 prob\n",
        "ax.plot(x, y_proba[:,1], color='C1', label='virginica') \n",
        "ax.plot(x, y_proba[:,0], color='C2', label='not virginica')\n",
        "\n",
        "# 샘플 그리기\n",
        "ax.scatter(X[y==1], np.ones(X[y==1].shape), marker='o', s=40,\n",
        "           color='C1', edgecolor='k', zorder=20)\n",
        "ax.scatter(X[y==0], np.ones(X[y==0].shape), marker='o', s=40,\n",
        "           color='C2', edgecolor='k', zorder=20)\n",
        "\n",
        "# 다음 그림에서 결정경계 세로 점선으로 그리기\n",
        "p = 0.5\n",
        "dsc_bnd = (-np.log( (1/p)-1) - logreg.intercept_) / logreg.coef_\n",
        "ax.vlines(dsc_bnd[0], ymin=0, ymax=1, linestyles='--', color='0.8')\n",
        "\n",
        "ax.set_ylabel('Probability')\n",
        "ax.set_xlabel('petal width (cm)')\n",
        "\n",
        "ax.legend()\n",
        "\n",
        "plt.show()\n"
      ],
      "metadata": {
        "colab": {
          "base_uri": "https://localhost:8080/",
          "height": 225
        },
        "id": "eo-8_-VJUswl",
        "outputId": "441330a8-d0d1-429f-f5eb-e06e5fbfa07e"
      },
      "execution_count": 105,
      "outputs": [
        {
          "output_type": "display_data",
          "data": {
            "text/plain": [
              "<Figure size 576x216 with 1 Axes>"
            ],
            "image/png": "[encoded data removed]"
          },
          "metadata": {
            "needs_background": "light"
          }
        }
      ]
    },
    {
      "cell_type": "code",
      "source": [
        "# 포인트 1.5와 2.0 예측값과 예측 확률을 출력\n",
        "\n",
        "logreg.predict([[1.5],\n",
        "                [2.0]]) \n",
        "# array([0, 1]) => 1.5일 때 0으로 예측하고 2.0일 때 1로 예측함. plot 결과와 일치하는 것을 알 수 있음\n",
        "logreg.predict_proba([[1.5],\n",
        "                      [2.0]]) "
      ],
      "metadata": {
        "colab": {
          "base_uri": "https://localhost:8080/"
        },
        "id": "MA9wuWA8JGeQ",
        "outputId": "7a3cc298-cd7c-462e-a096-2503779baeb1"
      },
      "execution_count": 108,
      "outputs": [
        {
          "output_type": "execute_result",
          "data": {
            "text/plain": [
              "array([[0.66709636, 0.33290364],\n",
              "       [0.18672067, 0.81327933]])"
            ]
          },
          "metadata": {},
          "execution_count": 108
        }
      ]
    },
    {
      "cell_type": "markdown",
      "source": [
        "#### Multiple Logistic Regression"
      ],
      "metadata": {
        "id": "hrM4kDIxvpPP"
      }
    },
    {
      "cell_type": "markdown",
      "source": [
        "\n",
        "\n",
        "* 2차원 문제: 특성 두개\n",
        "* petal lenth, petal width\n",
        "\n"
      ],
      "metadata": {
        "id": "09F_lkDwvv9t"
      }
    },
    {
      "cell_type": "code",
      "source": [
        "print(iris.target_names)\n",
        "print(iris.feature_names)"
      ],
      "metadata": {
        "colab": {
          "base_uri": "https://localhost:8080/"
        },
        "id": "SqXJIIgfJGbT",
        "outputId": "05dd3a11-e7bb-4f63-d129-7339c8c18b6d"
      },
      "execution_count": 109,
      "outputs": [
        {
          "output_type": "stream",
          "name": "stdout",
          "text": [
            "['setosa' 'versicolor' 'virginica']\n",
            "['sepal length (cm)', 'sepal width (cm)', 'petal length (cm)', 'petal width (cm)']\n"
          ]
        }
      ]
    },
    {
      "cell_type": "code",
      "source": [
        "X = iris['data'][:,2:]\n",
        "y = (iris['target'] == 2).astype(int)\n",
        "\n",
        "print(X.shape)"
      ],
      "metadata": {
        "colab": {
          "base_uri": "https://localhost:8080/"
        },
        "id": "pdKyyrVwvmOq",
        "outputId": "7ca0bece-c431-41bc-8725-850bb9ee180d"
      },
      "execution_count": 113,
      "outputs": [
        {
          "output_type": "stream",
          "name": "stdout",
          "text": [
            "(150, 2)\n"
          ]
        }
      ]
    },
    {
      "cell_type": "code",
      "source": [
        "# fitting\n",
        "\n",
        "model = LogisticRegression(C=100)\n",
        "logreg = model.fit(X, y)"
      ],
      "metadata": {
        "id": "ZWjvvJ9XvmIZ"
      },
      "execution_count": 114,
      "outputs": []
    },
    {
      "cell_type": "code",
      "source": [
        "print(logreg.coef_) # 회귀계수 2개\n",
        "print(logreg.intercept_) # 절편 1개"
      ],
      "metadata": {
        "colab": {
          "base_uri": "https://localhost:8080/"
        },
        "id": "b3I2SVrAvlk7",
        "outputId": "d1981ca4-df95-4525-92c0-add5a0615ee9"
      },
      "execution_count": 117,
      "outputs": [
        {
          "output_type": "stream",
          "name": "stdout",
          "text": [
            "[[5.42084462 9.24110768]]\n",
            "[-41.6724537]\n"
          ]
        }
      ]
    },
    {
      "cell_type": "code",
      "source": [
        "X1, X2 = np.meshgrid(\n",
        "      np.linspace(2.9,7,500).reshape(-1,1),\n",
        "      np.linspace(0.8,2.7,200).reshape(-1,1),\n",
        "    )\n",
        "X_grid = np.c_[X1.ravel(), X2.ravel()]\n",
        "\n",
        "fig = plt.figure(figsize=(8,3))\n",
        "ax = plt.axes()\n",
        "\n",
        "# 1인 확률값을 함수값으로 지정하고 contour 그리기\n",
        "y_proba = logreg.predict_proba(X_grid)\n",
        "Z = y_proba[:,1].reshape(X1.shape)\n",
        "# 가운데 점선을 경계로 우측 상단은 prob>0.9 이상\n",
        "contour = ax.contour(X1, X2, Z, cmap=cm2_inv)\n",
        "ax.clabel(contour, inline=True, fontsize=12)\n",
        "\n",
        "left_right = np.array([3,7])\n",
        "boundary = -(logreg.coef_[0][0] * left_right + logreg.intercept_[0]) / logreg.coef_[0][1]\n",
        "ax.plot(left_right, boundary, \"--\", color='0.3', linewidth=2)\n",
        "\n",
        "ax.scatter(X[y==1][:,0], X[y==1][:,1], marker='o', s=40, color='C1',\n",
        "           edgecolor='k', zorder=20, label='virginica')\n",
        "ax.scatter(X[y==0][:,0], X[y==0][:,1], marker='o', s=40, color='C2',\n",
        "           edgecolor='k', zorder=20, label='virginica')\n",
        "\n",
        "ax.axis([2.9, 7, 0.8, 2.7])\n",
        "ax.set_xlabel('petal length (cm)')\n",
        "ax.set_ylabel('petal width (cm)')\n",
        "ax.legend()\n",
        "\n",
        "plt.show()"
      ],
      "metadata": {
        "colab": {
          "base_uri": "https://localhost:8080/",
          "height": 225
        },
        "id": "ACwU7cpuwkFt",
        "outputId": "95eae016-ea81-4939-ecab-c826941b323e"
      },
      "execution_count": 119,
      "outputs": [
        {
          "output_type": "display_data",
          "data": {
            "text/plain": [
              "<Figure size 576x216 with 1 Axes>"
            ],
            "image/png": "[encoded data removed]"
          },
          "metadata": {
            "needs_background": "light"
          }
        }
      ]
    },
    {
      "cell_type": "code",
      "source": [
        "y_proba[:,1] > 0.6"
      ],
      "metadata": {
        "colab": {
          "base_uri": "https://localhost:8080/"
        },
        "id": "BdpaiuDdwkDv",
        "outputId": "650099ed-e69b-4d32-fb27-a2b587524d65"
      },
      "execution_count": 120,
      "outputs": [
        {
          "output_type": "execute_result",
          "data": {
            "text/plain": [
              "array([False, False, False, ...,  True,  True,  True])"
            ]
          },
          "metadata": {},
          "execution_count": 120
        }
      ]
    },
    {
      "cell_type": "markdown",
      "source": [
        "## 실습 과제: 실제 데이터에 적용"
      ],
      "metadata": {
        "id": "sPWzCj1VzPgI"
      }
    },
    {
      "cell_type": "markdown",
      "source": [
        "### Classification: 유방암 데이터"
      ],
      "metadata": {
        "id": "E657x26yzTxt"
      }
    },
    {
      "cell_type": "markdown",
      "source": [
        "최적의 C 찾기"
      ],
      "metadata": {
        "id": "LSZ__vrxzdBx"
      }
    },
    {
      "cell_type": "code",
      "source": [
        "from sklearn.model_selection import train_test_split\n",
        "from sklearn.datasets import load_breast_cancer\n",
        "\n",
        "cancer = load_breast_cancer()\n",
        "\n",
        "X_train, X_test, y_train, y_test = train_test_split(\n",
        "      cancer.data, cancer.target, stratify=cancer.target, random_state=42\n",
        ")"
      ],
      "metadata": {
        "id": "XjnZSM69wkAY"
      },
      "execution_count": 127,
      "outputs": []
    },
    {
      "cell_type": "code",
      "source": [
        "# 로지스틱에서 기본 규제는 C=1\n",
        "\n",
        "model = LogisticRegression(max_iter = 5000)\n",
        "logreg = model.fit(X_train, y_train)\n",
        "\n",
        "print(f\"학습데이터셋 정확도: {logreg.score(X_train, y_train):.3f}\")\n",
        "print(f\"테스트데이터셋 정확도: {logreg.score(X_test, y_test):.3f}\")\n",
        "\n",
        "# 트레인셋과 테스트셋에서 성능이 거의 비슷하게 나옴 => 성능 끌어올리기 가능하단 소리. => 규제가 필요함\n",
        "# 패널티를 없이 하는 것도 해보기"
      ],
      "metadata": {
        "colab": {
          "base_uri": "https://localhost:8080/"
        },
        "id": "Xl8UsYQ4zXk0",
        "outputId": "61e83f48-7025-40fc-d08e-9dc44953eb36"
      },
      "execution_count": 128,
      "outputs": [
        {
          "output_type": "stream",
          "name": "stdout",
          "text": [
            "학습데이터셋 정확도: 0.958\n",
            "테스트데이터셋 정확도: 0.958\n"
          ]
        }
      ]
    },
    {
      "cell_type": "markdown",
      "source": [
        "#### Grid Search"
      ],
      "metadata": {
        "id": "b7DV9Fjv0tCa"
      }
    },
    {
      "cell_type": "code",
      "source": [
        "training_accuracy = []\n",
        "test_accuracy = []\n",
        "\n",
        "# 적당하게 규제값 설정하고 반복적으로 알고리즘 적용하기\n",
        "Cs = [0.001, 0.01, 0.1, 1, 10, 100, 1000, 10000]\n",
        "\n",
        "fig = plt.figure()\n",
        "ax = plt.axes()\n",
        "\n",
        "for C in Cs:\n",
        "    model = LogisticRegression(C=C, max_iter=5000)\n",
        "    logreg = model.fit(X_train, y_train)\n",
        "\n",
        "    training_accuracy.append(logreg.score(X_train, y_train)) # 트레이닝셋 정확도 저장\n",
        "    test_accuracy.append(logreg.score(X_test, y_test)) # 테스트셋 정확도 저장\n",
        "\n",
        "# 정확도 그림으로 확인\n",
        "ax.plot(np.arange(len(Cs)), training_accuracy, 'o-', label='Train ACC.')\n",
        "ax.plot(np.arange(len(Cs)), test_accuracy, 'o-', label='Test ACC.')\n",
        "\n",
        "ax.set_xticklabels([0]+Cs)\n",
        "ax.set_ylabel(\"Accuracy\")\n",
        "ax.set_xlabel(\"C\", size=13)\n",
        "ax.legend(fontsize=13)\n",
        "\n",
        "plt.show()\n",
        "\n",
        "# Best C = 1000임을 확인할 수 있음"
      ],
      "metadata": {
        "colab": {
          "base_uri": "https://localhost:8080/",
          "height": 452
        },
        "id": "60X-drrqzXgP",
        "outputId": "fc7aa5b0-aa63-44aa-b528-e0bf3a7a0a39"
      },
      "execution_count": 129,
      "outputs": [
        {
          "output_type": "stream",
          "name": "stderr",
          "text": [
            "/usr/local/lib/python3.7/dist-packages/sklearn/linear_model/_logistic.py:818: ConvergenceWarning: lbfgs failed to converge (status=1):\n",
            "STOP: TOTAL NO. of ITERATIONS REACHED LIMIT.\n",
            "\n",
            "Increase the number of iterations (max_iter) or scale the data as shown in:\n",
            "    https://scikit-learn.org/stable/modules/preprocessing.html\n",
            "Please also refer to the documentation for alternative solver options:\n",
            "    https://scikit-learn.org/stable/modules/linear_model.html#logistic-regression\n",
            "  extra_warning_msg=_LOGISTIC_SOLVER_CONVERGENCE_MSG,\n"
          ]
        },
        {
          "output_type": "display_data",
          "data": {
            "text/plain": [
              "<Figure size 432x288 with 1 Axes>"
            ],
            "image/png": "[encoded data removed]"
          },
          "metadata": {
            "needs_background": "light"
          }
        }
      ]
    },
    {
      "cell_type": "code",
      "source": [
        "# 규제를 풀어주면 (C를 크게 하면) 성능이 올라감\n",
        "logreg1000 = LogisticRegression(C=1000, max_iter=5000).fit(X_train, y_train)\n",
        "print(f\"학습데이터 정확도: {logreg1000.score(X_train, y_train):.3f}\")\n",
        "print(f\"테스트데이터 정확도: {logreg1000.score(X_test, y_test):.3f}\")"
      ],
      "metadata": {
        "colab": {
          "base_uri": "https://localhost:8080/"
        },
        "id": "TuWwXeM-zXdW",
        "outputId": "1ca255d6-c4d6-4bdf-ab1e-094db5004907"
      },
      "execution_count": 131,
      "outputs": [
        {
          "output_type": "stream",
          "name": "stdout",
          "text": [
            "학습데이터 정확도: 0.986\n",
            "테스트데이터 정확도: 0.986\n"
          ]
        },
        {
          "output_type": "stream",
          "name": "stderr",
          "text": [
            "/usr/local/lib/python3.7/dist-packages/sklearn/linear_model/_logistic.py:818: ConvergenceWarning: lbfgs failed to converge (status=1):\n",
            "STOP: TOTAL NO. of ITERATIONS REACHED LIMIT.\n",
            "\n",
            "Increase the number of iterations (max_iter) or scale the data as shown in:\n",
            "    https://scikit-learn.org/stable/modules/preprocessing.html\n",
            "Please also refer to the documentation for alternative solver options:\n",
            "    https://scikit-learn.org/stable/modules/linear_model.html#logistic-regression\n",
            "  extra_warning_msg=_LOGISTIC_SOLVER_CONVERGENCE_MSG,\n"
          ]
        }
      ]
    },
    {
      "cell_type": "code",
      "source": [
        "# 규제를 강하게 걸면 (C를 작게 하면) 성능이 떨어짐\n",
        "logreg001 = LogisticRegression(C=0.01, max_iter=5000).fit(X_train, y_train)\n",
        "print(f\"학습데이터 정확도: {logreg001.score(X_train, y_train):.3f}\")\n",
        "print(f\"테스트데이터 정확도: {logreg001.score(X_test, y_test):.3f}\")\n"
      ],
      "metadata": {
        "colab": {
          "base_uri": "https://localhost:8080/"
        },
        "id": "hu6zHWC4wj96",
        "outputId": "5d805806-62cb-46fa-cb1e-08e21e4db808"
      },
      "execution_count": 132,
      "outputs": [
        {
          "output_type": "stream",
          "name": "stdout",
          "text": [
            "학습데이터 정확도: 0.953\n",
            "테스트데이터 정확도: 0.951\n"
          ]
        }
      ]
    },
    {
      "cell_type": "markdown",
      "source": [
        "### Regression: 보스턴 집값 데이터"
      ],
      "metadata": {
        "id": "KjtZTFdM4ISh"
      }
    },
    {
      "cell_type": "markdown",
      "source": [
        "최적의 alpha 찾기"
      ],
      "metadata": {
        "id": "49FMCx-94PD6"
      }
    },
    {
      "cell_type": "code",
      "source": [
        "from sklearn.datasets import load_boston\n",
        "from sklearn.linear_model import Ridge\n",
        "\n",
        "boston = load_boston()\n",
        "\n",
        "X_train, X_test, y_train, y_test = train_test_split(\n",
        "    boston.data, boston.target, test_size=0.2, random_state=0\n",
        ")"
      ],
      "metadata": {
        "colab": {
          "base_uri": "https://localhost:8080/"
        },
        "id": "xHzhr83Z4IJQ",
        "outputId": "62af94d5-ab18-4f3b-edbc-b7291bea08fd"
      },
      "execution_count": 152,
      "outputs": [
        {
          "output_type": "stream",
          "name": "stderr",
          "text": [
            "/usr/local/lib/python3.7/dist-packages/sklearn/utils/deprecation.py:87: FutureWarning: Function load_boston is deprecated; `load_boston` is deprecated in 1.0 and will be removed in 1.2.\n",
            "\n",
            "    The Boston housing prices dataset has an ethical problem. You can refer to\n",
            "    the documentation of this function for further details.\n",
            "\n",
            "    The scikit-learn maintainers therefore strongly discourage the use of this\n",
            "    dataset unless the purpose of the code is to study and educate about\n",
            "    ethical issues in data science and machine learning.\n",
            "\n",
            "    In this special case, you can fetch the dataset from the original\n",
            "    source::\n",
            "\n",
            "        import pandas as pd\n",
            "        import numpy as np\n",
            "\n",
            "\n",
            "        data_url = \"http://lib.stat.cmu.edu/datasets/boston\"\n",
            "        raw_df = pd.read_csv(data_url, sep=\"\\s+\", skiprows=22, header=None)\n",
            "        data = np.hstack([raw_df.values[::2, :], raw_df.values[1::2, :2]])\n",
            "        target = raw_df.values[1::2, 2]\n",
            "\n",
            "    Alternative datasets include the California housing dataset (i.e.\n",
            "    :func:`~sklearn.datasets.fetch_california_housing`) and the Ames housing\n",
            "    dataset. You can load the datasets as follows::\n",
            "\n",
            "        from sklearn.datasets import fetch_california_housing\n",
            "        housing = fetch_california_housing()\n",
            "\n",
            "    for the California housing dataset and::\n",
            "\n",
            "        from sklearn.datasets import fetch_openml\n",
            "        housing = fetch_openml(name=\"house_prices\", as_frame=True)\n",
            "\n",
            "    for the Ames housing dataset.\n",
            "    \n",
            "  warnings.warn(msg, category=FutureWarning)\n"
          ]
        }
      ]
    },
    {
      "cell_type": "markdown",
      "source": [
        "#### Grid Search"
      ],
      "metadata": {
        "id": "fn5D9Mld4oxO"
      }
    },
    {
      "cell_type": "code",
      "source": [
        "training_accuracy = []\n",
        "test_accuracy = []\n",
        "\n",
        "fig = plt.figure()\n",
        "ax = plt.axes()\n",
        "\n",
        "alphas = [0.001, 0.01, 0.1, 1, 10, 100] # 클수록 규제가 강하게 걸림\n",
        "\n",
        "for alpha in alphas:\n",
        "    \n",
        "    ridge = Ridge(alpha=alpha).fit(X_train, y_train)\n",
        "\n",
        "    training_accuracy.append(ridge.score(X_train, y_train))\n",
        "    test_accuracy.append(ridge.score(X_test, y_test))\n",
        "\n",
        "# 정확도 그림으로 확인\n",
        "\n",
        "ax.plot(np.arange(len(alphas)), training_accuracy, 'o-', label='Train ACC.')\n",
        "ax.plot(np.arange(len(alphas)), test_accuracy, 'o-', label='Test ACC.')\n",
        "\n",
        "ax.set_xticklabels([0]+alphas)\n",
        "ax.set_ylabel(\"Accuracy\")\n",
        "ax.set_xlabel(\"C\", size=13)\n",
        "ax.legend(fontsize=13)\n",
        "\n",
        "plt.show()\n",
        "\n",
        "print(training_accuracy, '\\n', test_accuracy)\n",
        "\n",
        "# Under fitting 되고 있음 => 모델 바꾸기!! "
      ],
      "metadata": {
        "colab": {
          "base_uri": "https://localhost:8080/",
          "height": 339
        },
        "id": "dvkGWwma4IFw",
        "outputId": "3d26f593-6303-4c6d-c10b-f6f1349fedbf"
      },
      "execution_count": 154,
      "outputs": [
        {
          "output_type": "display_data",
          "data": {
            "text/plain": [
              "<Figure size 432x288 with 1 Axes>"
            ],
            "image/png": "[encoded data removed]"
          },
          "metadata": {
            "needs_background": "light"
          }
        },
        {
          "output_type": "stream",
          "name": "stdout",
          "text": [
            "[0.7730135502455627, 0.773012899349382, 0.7729570701425958, 0.7711260446978171, 0.7654833147221556, 0.7511219694364966] \n",
            " [0.5892100767475461, 0.5890993204933792, 0.5880003503393505, 0.5796111714164922, 0.5637257357223815, 0.5393206876381224]\n"
          ]
        }
      ]
    },
    {
      "cell_type": "code",
      "source": [
        "print(f\"훈련세트 정확도: {ridge.score(X_train, y_train):.3f}\")\n",
        "print(f\"테스트세트 정확도: {ridge.score(X_test, y_test):.3f}\")"
      ],
      "metadata": {
        "colab": {
          "base_uri": "https://localhost:8080/"
        },
        "id": "pYhfpdGo6EHA",
        "outputId": "c08572c1-ca99-4645-a67a-21e9530b8811"
      },
      "execution_count": 155,
      "outputs": [
        {
          "output_type": "stream",
          "name": "stdout",
          "text": [
            "훈련세트 정확도: 0.751\n",
            "테스트세트 정확도: 0.539\n"
          ]
        }
      ]
    },
    {
      "cell_type": "markdown",
      "source": [
        "## 다중분류 문제"
      ],
      "metadata": {
        "id": "JSxhQWPQ7ffS"
      }
    },
    {
      "cell_type": "markdown",
      "source": [
        "softmax 함수를 쓰는 예외적인 경우를 제외하고, 기본적으로 이진분류만 지원하기 때문에 one-vs-rest 전략을 사용한다"
      ],
      "metadata": {
        "id": "rITiBkc27kpt"
      }
    },
    {
      "cell_type": "markdown",
      "source": [
        "### 데이터 생성"
      ],
      "metadata": {
        "id": "ShiXS5j78_Un"
      }
    },
    {
      "cell_type": "code",
      "source": [
        "from sklearn.datasets import make_blobs"
      ],
      "metadata": {
        "id": "GBD11C8L4IDP"
      },
      "execution_count": 156,
      "outputs": []
    },
    {
      "cell_type": "code",
      "source": [
        "X, y = make_blobs(random_state=42)"
      ],
      "metadata": {
        "id": "qyLrrwM54H_X"
      },
      "execution_count": 159,
      "outputs": []
    },
    {
      "cell_type": "code",
      "source": [
        "fig = plt.figure()\n",
        "ax = plt.axes()\n",
        "\n",
        "ax.scatter(X[y==0][:,0], X[y==0][:,1], marker='o', s=40, color='C1', edgecolor='k')\n",
        "ax.scatter(X[y==1][:,0], X[y==1][:,1], marker='^', s=40, color='C2', edgecolor='k')\n",
        "ax.scatter(X[y==2][:,0], X[y==2][:,1], marker='v', s=40, color='C3', edgecolor='k')\n",
        "\n",
        "plt.show()"
      ],
      "metadata": {
        "colab": {
          "base_uri": "https://localhost:8080/",
          "height": 265
        },
        "id": "-jfMr6CL4H8Y",
        "outputId": "e0655d94-2338-4cc9-8200-d5e6aa956154"
      },
      "execution_count": 160,
      "outputs": [
        {
          "output_type": "display_data",
          "data": {
            "text/plain": [
              "<Figure size 432x288 with 1 Axes>"
            ],
            "image/png": "[encoded data removed]"
          },
          "metadata": {
            "needs_background": "light"
          }
        }
      ]
    },
    {
      "cell_type": "markdown",
      "source": [
        "### One-vs-Rest 전략"
      ],
      "metadata": {
        "id": "rbDgyOBP9oUP"
      }
    },
    {
      "cell_type": "markdown",
      "source": [
        "위와 같은 3클래스 분류 문제에서 다음과 같은 데이터 세트 세개에 대해 각각 분류기를 만드는 방식으로 동작 => 즉, 모델을 3개 만듦"
      ],
      "metadata": {
        "id": "xR1QyKsm9wQq"
      }
    },
    {
      "cell_type": "code",
      "source": [
        "fig, ax = plt.subplots(figsize=(13,4), nrows=1, ncols=3)\n",
        "markers = ['o', '^', 'v']\n",
        "\n",
        "for i in range(3):\n",
        "    ax[i].scatter(X[y==i][:,0], X[y==i][:,1],\n",
        "                  marker=markers[i], s=40, color=f'C{i+1}', edgecolor='k')\n",
        "    ax[i].scatter(X[y!=i][:,0], X[y!=i][:,1],\n",
        "                  marker=markers[i], s=20, color='k', edgecolor='k')    \n",
        "    \n",
        "plt.show()"
      ],
      "metadata": {
        "colab": {
          "base_uri": "https://localhost:8080/",
          "height": 265
        },
        "id": "x6myUziY4H5e",
        "outputId": "b738bac6-6902-4ad5-bc78-080e7f52e2ac"
      },
      "execution_count": 161,
      "outputs": [
        {
          "output_type": "display_data",
          "data": {
            "text/plain": [
              "<Figure size 936x288 with 3 Axes>"
            ],
            "image/png": "[encoded data removed]"
          },
          "metadata": {
            "needs_background": "light"
          }
        }
      ]
    },
    {
      "cell_type": "markdown",
      "source": [
        "\n",
        "\n",
        "* 각 k개 분류기가 개별적으로 학습됨\n",
        "* 예측을 위해 다음 식으로 최적의 k번째 분류기 선택\n",
        "$$\n",
        "\\hat{k} = \\underset{k}{\\text{argmax}} \\,\\, \\mathbf{w}_k^T\\mathbf{x} + b_k\n",
        "$$\n",
        "* 이렇게 각각 세 번 세개의 분류기를 학습하는 방식을 One-vs-Rest 전략이라고 함\n",
        "\n"
      ],
      "metadata": {
        "id": "revHiz6--3gF"
      }
    },
    {
      "cell_type": "code",
      "source": [
        "# 모델 생성과 fitting\n",
        "\n",
        "model = LogisticRegression(multi_class='ovr')\n",
        "logreg = model.fit(X, y)"
      ],
      "metadata": {
        "id": "71BFR6Mv_NSH"
      },
      "execution_count": 162,
      "outputs": []
    },
    {
      "cell_type": "code",
      "source": [
        "# 한 행이 분류기 하나를 의미함\n",
        "\n",
        "logreg.coef_\n",
        "# coef가 3세트"
      ],
      "metadata": {
        "colab": {
          "base_uri": "https://localhost:8080/"
        },
        "id": "DClqBHM4_NPo",
        "outputId": "2c9ca304-d4e6-4e52-ffb4-10340faff4f1"
      },
      "execution_count": 163,
      "outputs": [
        {
          "output_type": "execute_result",
          "data": {
            "text/plain": [
              "array([[-0.68329705,  1.06169509],\n",
              "       [ 1.36537961, -0.32670774],\n",
              "       [-0.61161973, -0.73287599]])"
            ]
          },
          "metadata": {},
          "execution_count": 163
        }
      ]
    },
    {
      "cell_type": "code",
      "source": [
        "logreg.intercept_\n",
        "# 절편도 3개"
      ],
      "metadata": {
        "colab": {
          "base_uri": "https://localhost:8080/"
        },
        "id": "Mr7S5LQ0_NNE",
        "outputId": "caeac3e7-c6a7-440a-b5e6-34b0ff6f1c17"
      },
      "execution_count": 164,
      "outputs": [
        {
          "output_type": "execute_result",
          "data": {
            "text/plain": [
              "array([-5.28341212,  0.54307525, -2.64719253])"
            ]
          },
          "metadata": {},
          "execution_count": 164
        }
      ]
    },
    {
      "cell_type": "code",
      "source": [
        "# 각 분류기의 결정 경계\n",
        "\n",
        "fig = plt.figure()\n",
        "ax = plt.axes()\n",
        "\n",
        "ax.scatter(X[y==0][:,0], X[y==0][:,1], marker='o', s=40, color='C1', edgecolor='k')\n",
        "ax.scatter(X[y==1][:,0], X[y==1][:,1], marker='^', s=40, color='C2', edgecolor='k')\n",
        "ax.scatter(X[y==2][:,0], X[y==2][:,1], marker='v', s=40, color='C3', edgecolor='k')\n",
        "\n",
        "x = np.linspace(-10, 8)\n",
        "for coef, intercept, color in zip(logreg.coef_, logreg.intercept_, ['C1', 'C2', 'C3']):\n",
        "    plt.plot(x, -(x*coef[0] + intercept) / coef[1], c=color)\n",
        "\n",
        "ax.set_ylim(-10,15)\n",
        "ax.set_xlim(-10,8)\n",
        "\n",
        "plt.show()\n",
        "\n"
      ],
      "metadata": {
        "colab": {
          "base_uri": "https://localhost:8080/",
          "height": 269
        },
        "id": "ViCpyL1F_NKD",
        "outputId": "ffabbd17-13c8-41f6-d570-e3a818db4779"
      },
      "execution_count": 166,
      "outputs": [
        {
          "output_type": "display_data",
          "data": {
            "text/plain": [
              "<Figure size 432x288 with 1 Axes>"
            ],
            "image/png": "[encoded data removed]"
          },
          "metadata": {
            "needs_background": "light"
          }
        }
      ]
    },
    {
      "cell_type": "markdown",
      "source": [
        "\n",
        "\n",
        "* 결정경계를 보면 두 클래스가 동시에 포함되는 경우가 있는데 이때는 선형식의 결과값(스코어)로 결정\n",
        "* 예를 들어 가운데 삼각형 영역은 세 클래스 모두 해당되지 않지만 스코어로 영역을 그려보면\n",
        "\n"
      ],
      "metadata": {
        "id": "B3Ao4ZNMAvZA"
      }
    },
    {
      "cell_type": "code",
      "source": [
        "from matplotlib.colors import ListedColormap\n",
        "cm3 = ListedColormap(['C1', 'C2', 'C3'])"
      ],
      "metadata": {
        "id": "nukAqifq_NHT"
      },
      "execution_count": 167,
      "outputs": []
    },
    {
      "cell_type": "code",
      "source": [
        "# 그림으로 확인\n",
        "ngrid = 300\n",
        "eps = 0.5\n",
        "\n",
        "# 데이터의 최소, 최대값 보다 eps만큼 바깥 영역에서 그리드를 짠다.\n",
        "x_min, x_max = X[:, 0].min() - eps, X[:, 0].max() + eps\n",
        "y_min, y_max = X[:, 1].min() - eps, X[:, 1].max() + eps\n",
        "xx = np.linspace(x_min, x_max, ngrid)\n",
        "yy = np.linspace(y_min, y_max, ngrid)\n",
        "X1, X2 = np.meshgrid(xx, yy)\n",
        "\n",
        "# 그리드를 1차원을 펼치고 contour를 그릴 레벨설정\n",
        "X_grid = np.c_[X1.ravel(), X2.ravel()]\n",
        "\n",
        "fig = plt.figure(dpi=100)\n",
        "ax = plt.axes()\n",
        "\n",
        "ax.scatter(X[y==0][:,0], X[y==0][:,1], marker='o', s=40, color='C1', edgecolor='k')\n",
        "ax.scatter(X[y==1][:,0], X[y==1][:,1], marker='^', s=40, color='C2', edgecolor='k')\n",
        "ax.scatter(X[y==2][:,0], X[y==2][:,1], marker='v', s=40, color='C3', edgecolor='k')\n",
        "\n",
        "x = np.linspace(-10, 8)\n",
        "for coef, intercept, color in zip(logreg.coef_, logreg.intercept_, cm3.colors):\n",
        "    plt.plot(x, -(x * coef[0] + intercept) / coef[1], c=color)\n",
        "\n",
        "decision_values = logreg.predict(X_grid)\n",
        "\n",
        "# 결정경계를 그리고\n",
        "ax.imshow(decision_values.reshape(X1.shape), extent=(x_min, x_max, y_min, y_max),\n",
        "              aspect='auto', origin='lower', alpha=0.7, cmap=cm3)\n",
        "ax.set_xlim(x_min, x_max)\n",
        "ax.set_ylim(y_min, y_max)\n",
        "\n",
        "plt.show()"
      ],
      "metadata": {
        "colab": {
          "base_uri": "https://localhost:8080/",
          "height": 362
        },
        "id": "F2t22ab3wj7L",
        "outputId": "5a791554-e292-4145-bc21-a028bd1fc570"
      },
      "execution_count": 168,
      "outputs": [
        {
          "output_type": "display_data",
          "data": {
            "text/plain": [
              "<Figure size 600x400 with 1 Axes>"
            ],
            "image/png": "[encoded data removed]"
          },
          "metadata": {
            "needs_background": "light"
          }
        }
      ]
    },
    {
      "cell_type": "markdown",
      "source": [
        "* 데이터가 가까운 쪽으로 결정됨"
      ],
      "metadata": {
        "id": "blU8uqTZBHyX"
      }
    },
    {
      "cell_type": "markdown",
      "source": [
        "### softmax 회귀: multinomial logistic"
      ],
      "metadata": {
        "id": "hou2OIvHBPwA"
      }
    },
    {
      "cell_type": "markdown",
      "source": [
        "* multi_class='multinomial'로 설정\n",
        "* ovl 방식이 개별 분류기라면 소프트맥스는 한 번에 모든 분류기 학습\n",
        "* 여러 분류기의 출력을 개별 로지스틱 시그모이드에 이력하지 않고 소프트 맥수 함수에 입력하여 한꺼번에 확률 값으로 변환\n",
        "$$\n",
        "\\text{softmax}_j(\\mathbf{z}) = \\frac{e^{z_j}}{\\sum_{k}e^{z_k}}\n",
        "$$"
      ],
      "metadata": {
        "id": "caSobIsiBVXi"
      }
    },
    {
      "cell_type": "code",
      "source": [
        "# 모델 생성과 fitting\n",
        "\n",
        "logreg = LogisticRegression(multi_class='multinomial').fit(X,y)"
      ],
      "metadata": {
        "id": "PQYNi5zyBPmn"
      },
      "execution_count": 169,
      "outputs": []
    },
    {
      "cell_type": "code",
      "source": [
        "logreg.coef_"
      ],
      "metadata": {
        "colab": {
          "base_uri": "https://localhost:8080/"
        },
        "id": "ombAa_KYBPkD",
        "outputId": "ce93cec3-2a5d-4e18-83b7-26858a8012e2"
      },
      "execution_count": 170,
      "outputs": [
        {
          "output_type": "execute_result",
          "data": {
            "text/plain": [
              "array([[-0.38486163,  0.62874226],\n",
              "       [ 0.74106233, -0.17664082],\n",
              "       [-0.3562007 , -0.45210144]])"
            ]
          },
          "metadata": {},
          "execution_count": 170
        }
      ]
    },
    {
      "cell_type": "code",
      "source": [
        "logreg.intercept_"
      ],
      "metadata": {
        "colab": {
          "base_uri": "https://localhost:8080/"
        },
        "id": "zXTPCJ96BPh8",
        "outputId": "701d757d-a0e5-485b-b466-ff6880a024f0"
      },
      "execution_count": 171,
      "outputs": [
        {
          "output_type": "execute_result",
          "data": {
            "text/plain": [
              "array([-1.63102014,  1.85764971, -0.22662957])"
            ]
          },
          "metadata": {},
          "execution_count": 171
        }
      ]
    },
    {
      "cell_type": "code",
      "source": [
        "# 그림으로 확인\n",
        "ngrid = 300\n",
        "eps = 0.5\n",
        "\n",
        "# 데이터의 최소, 최대값 보다 eps만큼 바깥 영역에서 그리드를 짠다.\n",
        "x_min, x_max = X[:, 0].min() - eps, X[:, 0].max() + eps\n",
        "y_min, y_max = X[:, 1].min() - eps, X[:, 1].max() + eps\n",
        "xx = np.linspace(x_min, x_max, ngrid)\n",
        "yy = np.linspace(y_min, y_max, ngrid)\n",
        "X1, X2 = np.meshgrid(xx, yy)\n",
        "\n",
        "# 그리드를 1차원을 펼치고 contour를 그릴 레벨설정\n",
        "X_grid = np.c_[X1.ravel(), X2.ravel()]\n",
        "levels = [0, 0.5, 1, 1.5, 2.0] \n",
        "\n",
        "fig = plt.figure(dpi=100)\n",
        "ax = plt.axes()\n",
        "\n",
        "ax.scatter(X[y==0][:,0], X[y==0][:,1], marker='o', s=40, color='C1', edgecolor='k')\n",
        "ax.scatter(X[y==1][:,0], X[y==1][:,1], marker='^', s=40, color='C2', edgecolor='k')\n",
        "ax.scatter(X[y==2][:,0], X[y==2][:,1], marker='v', s=40, color='C3', edgecolor='k')\n",
        "\n",
        "decision_values = logreg.predict(X_grid)\n",
        "\n",
        "# 결정경계를 그리고                          이거 없으면 0,0에서 부터 그리기 시작\n",
        "ax.imshow(decision_values.reshape(X1.shape), extent=(x_min, x_max, y_min, y_max), \n",
        "              aspect='auto', origin='lower', alpha=0.7, cmap=cm3)\n",
        "ax.set_xlim(x_min, x_max)\n",
        "ax.set_ylim(y_min, y_max)\n",
        "\n",
        "plt.show()"
      ],
      "metadata": {
        "colab": {
          "base_uri": "https://localhost:8080/",
          "height": 362
        },
        "id": "8kdnzX1PBPf2",
        "outputId": "3ff9306f-0ead-4f21-a24d-fd043caf350d"
      },
      "execution_count": 172,
      "outputs": [
        {
          "output_type": "display_data",
          "data": {
            "text/plain": [
              "<Figure size 600x400 with 1 Axes>"
            ],
            "image/png": "[encoded data removed]"
          },
          "metadata": {
            "needs_background": "light"
          }
        }
      ]
    },
    {
      "cell_type": "code",
      "source": [
        ""
      ],
      "metadata": {
        "id": "Qxls2JDvBPa6"
      },
      "execution_count": null,
      "outputs": []
    },
    {
      "cell_type": "code",
      "source": [
        ""
      ],
      "metadata": {
        "id": "KHVcBUC3IaVd"
      },
      "execution_count": 22,
      "outputs": []
    }
  ]
}
